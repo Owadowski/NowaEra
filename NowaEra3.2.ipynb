{
 "cells": [
  {
   "cell_type": "markdown",
   "metadata": {},
   "source": [
    "# Analiza czynników mogących wpływać na prawdopodobieństwo powrotu użytkownika na stronę"
   ]
  },
  {
   "cell_type": "code",
   "execution_count": 1,
   "metadata": {},
   "outputs": [],
   "source": [
    "import pandas as pd\n",
    "import numpy as np\n",
    "import datetime as dt\n",
    "from sklearn.linear_model import LinearRegression\n",
    "from sklearn.model_selection import train_test_split\n",
    "import scipy.stats as ss\n",
    "import matplotlib.pyplot as plt\n",
    "from sklearn.tree import DecisionTreeClassifier\n",
    "from sklearn.model_selection import train_test_split\n",
    "from sklearn import metrics \n",
    "%matplotlib inline"
   ]
  },
  {
   "cell_type": "markdown",
   "metadata": {},
   "source": [
    " "
   ]
  },
  {
   "cell_type": "markdown",
   "metadata": {},
   "source": [
    "Załadowanie zbioru danych i oczyszczenie z niepotrzebnych znaków"
   ]
  },
  {
   "cell_type": "code",
   "execution_count": 2,
   "metadata": {
    "scrolled": true
   },
   "outputs": [
    {
     "data": {
      "text/html": [
       "<div>\n",
       "<style scoped>\n",
       "    .dataframe tbody tr th:only-of-type {\n",
       "        vertical-align: middle;\n",
       "    }\n",
       "\n",
       "    .dataframe tbody tr th {\n",
       "        vertical-align: top;\n",
       "    }\n",
       "\n",
       "    .dataframe thead th {\n",
       "        text-align: right;\n",
       "    }\n",
       "</style>\n",
       "<table border=\"1\" class=\"dataframe\">\n",
       "  <thead>\n",
       "    <tr style=\"text-align: right;\">\n",
       "      <th></th>\n",
       "      <th>client_id</th>\n",
       "      <th>action_time</th>\n",
       "      <th>pagePath</th>\n",
       "      <th>medium</th>\n",
       "      <th>eventAction</th>\n",
       "      <th>date</th>\n",
       "    </tr>\n",
       "  </thead>\n",
       "  <tbody>\n",
       "    <tr>\n",
       "      <th>0</th>\n",
       "      <td>d0a213b0718cd0e10475ce11d893c3cc</td>\n",
       "      <td>2020-07-29T15:38:27Z</td>\n",
       "      <td>/lekcja/biologia,75f95eb9a371db8c2ea854da85219502</td>\n",
       "      <td>organic</td>\n",
       "      <td>pageview</td>\n",
       "      <td>29.07.2020</td>\n",
       "    </tr>\n",
       "    <tr>\n",
       "      <th>1</th>\n",
       "      <td>4416f6ec763cc9e65ca17482d3960971</td>\n",
       "      <td>2020-07-29T21:03:06Z</td>\n",
       "      <td>/</td>\n",
       "      <td>(none)</td>\n",
       "      <td>pageview</td>\n",
       "      <td>29.07.2020</td>\n",
       "    </tr>\n",
       "    <tr>\n",
       "      <th>2</th>\n",
       "      <td>c3d6e02ad3e2a781dba7c48a4d354199</td>\n",
       "      <td>2020-07-29T07:51:28Z</td>\n",
       "      <td>/o-portalu</td>\n",
       "      <td>banner</td>\n",
       "      <td>pageview</td>\n",
       "      <td>29.07.2020</td>\n",
       "    </tr>\n",
       "    <tr>\n",
       "      <th>3</th>\n",
       "      <td>3bd4feb129163c7889a70d3d12c6e82d</td>\n",
       "      <td>2020-07-29T12:23:00Z</td>\n",
       "      <td>/lekcja/geografia,12901cca29551ad7d556962231a1...</td>\n",
       "      <td>organic</td>\n",
       "      <td>pageview</td>\n",
       "      <td>29.07.2020</td>\n",
       "    </tr>\n",
       "    <tr>\n",
       "      <th>4</th>\n",
       "      <td>3d90c06c313a2120ce98ff14b6581570</td>\n",
       "      <td>2020-07-29T12:27:30Z</td>\n",
       "      <td>/lekcja/jezyk-polski,c106aef9f68b2b03b8afe7d89...</td>\n",
       "      <td>organic</td>\n",
       "      <td>pageview</td>\n",
       "      <td>29.07.2020</td>\n",
       "    </tr>\n",
       "  </tbody>\n",
       "</table>\n",
       "</div>"
      ],
      "text/plain": [
       "                          client_id           action_time  \\\n",
       "0  d0a213b0718cd0e10475ce11d893c3cc  2020-07-29T15:38:27Z   \n",
       "1  4416f6ec763cc9e65ca17482d3960971  2020-07-29T21:03:06Z   \n",
       "2  c3d6e02ad3e2a781dba7c48a4d354199  2020-07-29T07:51:28Z   \n",
       "3  3bd4feb129163c7889a70d3d12c6e82d  2020-07-29T12:23:00Z   \n",
       "4  3d90c06c313a2120ce98ff14b6581570  2020-07-29T12:27:30Z   \n",
       "\n",
       "                                            pagePath   medium eventAction  \\\n",
       "0  /lekcja/biologia,75f95eb9a371db8c2ea854da85219502  organic    pageview   \n",
       "1                                                  /   (none)    pageview   \n",
       "2                                         /o-portalu   banner    pageview   \n",
       "3  /lekcja/geografia,12901cca29551ad7d556962231a1...  organic    pageview   \n",
       "4  /lekcja/jezyk-polski,c106aef9f68b2b03b8afe7d89...  organic    pageview   \n",
       "\n",
       "         date  \n",
       "0  29.07.2020  \n",
       "1  29.07.2020  \n",
       "2  29.07.2020  \n",
       "3  29.07.2020  \n",
       "4  29.07.2020  "
      ]
     },
     "execution_count": 2,
     "metadata": {},
     "output_type": "execute_result"
    }
   ],
   "source": [
    "file = \"dane.csv\"\n",
    "df = pd.read_csv(file, header=0, sep=\"[;]\", engine=\"python\", \n",
    "                 names=(\"client_id\",\"action_time\", \"pagePath\", \"medium\", \"eventAction\", \"date\"))\n",
    "df.client_id = df.client_id.str[1:]\n",
    "df.date = df.date.str[:-1]\n",
    "df.head()"
   ]
  },
  {
   "cell_type": "markdown",
   "metadata": {},
   "source": [
    "Opis zmiennych:\n",
    "   - client_id - ID użytkownika (pozyskiwane za pomocą cookie)\n",
    "   - ts - dokładny czas, w którym nastąpiło wydarzenie\n",
    "   - pagePath - ścieżka strony, która była oglądana\n",
    "   - medium - czyli medium, z którego użytkownik przyszedł na stronę\n",
    "   - eventAction - rodzaj akcji wykonanej przez użytkownika\n",
    "   - date - data zdarzenia<br />&nbsp;&nbsp;&nbsp;\n",
    "\n",
    "Opis mediów kolumny \"medium\":\n",
    "   - cpc - wejście z kampanii marketingowej\n",
    "   - organic - wejście z wyszukiwarki\n",
    "   - banner - wejście z baneru reklamowego\n",
    "   - referral - wejście z linku polecającego\n",
    "   - email - wejście przez mail\n",
    "   - post - wejście przez post\n",
    "   - link - wejście przez link\n",
    "   - webpush - wejście przez wiadomości, wysyłane przez stronę internetową"
   ]
  },
  {
   "cell_type": "markdown",
   "metadata": {},
   "source": [
    " "
   ]
  },
  {
   "cell_type": "markdown",
   "metadata": {},
   "source": [
    "Konwersja kolumny \"date\" na *datetime* i utworzenie kolumny \"time\" z czasem zdarzenia"
   ]
  },
  {
   "cell_type": "code",
   "execution_count": 3,
   "metadata": {},
   "outputs": [],
   "source": [
    "df[\"date\"] = pd.to_datetime(df[\"date\"], format=\"%d.%m.%Y\")\n",
    "df[\"action_time\"] = pd.to_datetime(df[\"action_time\"]).dt.time"
   ]
  },
  {
   "cell_type": "markdown",
   "metadata": {},
   "source": [
    " "
   ]
  },
  {
   "cell_type": "code",
   "execution_count": 4,
   "metadata": {},
   "outputs": [
    {
     "name": "stdout",
     "output_type": "stream",
     "text": [
      "0\n"
     ]
    }
   ],
   "source": [
    "print(df.isnull().values.sum())"
   ]
  },
  {
   "cell_type": "markdown",
   "metadata": {},
   "source": [
    " Dane nie zawierają wartości pustych, nie wymagają więc oczyszczenia z nich.\n"
   ]
  },
  {
   "cell_type": "markdown",
   "metadata": {},
   "source": [
    " "
   ]
  },
  {
   "cell_type": "code",
   "execution_count": 5,
   "metadata": {},
   "outputs": [],
   "source": [
    "df[\"medium\"] = df[\"medium\"].astype(\"category\")"
   ]
  },
  {
   "cell_type": "markdown",
   "metadata": {},
   "source": [
    "Zmiana typu danych kolumny \"medium\" na typ danych *category*"
   ]
  },
  {
   "cell_type": "markdown",
   "metadata": {},
   "source": [
    " "
   ]
  },
  {
   "cell_type": "code",
   "execution_count": 6,
   "metadata": {},
   "outputs": [
    {
     "data": {
      "text/html": [
       "<div>\n",
       "<style scoped>\n",
       "    .dataframe tbody tr th:only-of-type {\n",
       "        vertical-align: middle;\n",
       "    }\n",
       "\n",
       "    .dataframe tbody tr th {\n",
       "        vertical-align: top;\n",
       "    }\n",
       "\n",
       "    .dataframe thead th {\n",
       "        text-align: right;\n",
       "    }\n",
       "</style>\n",
       "<table border=\"1\" class=\"dataframe\">\n",
       "  <thead>\n",
       "    <tr style=\"text-align: right;\">\n",
       "      <th></th>\n",
       "      <th>client_id</th>\n",
       "      <th>action_time</th>\n",
       "      <th>pagePath</th>\n",
       "      <th>medium</th>\n",
       "      <th>eventAction</th>\n",
       "      <th>date</th>\n",
       "    </tr>\n",
       "  </thead>\n",
       "  <tbody>\n",
       "    <tr>\n",
       "      <th>count</th>\n",
       "      <td>466822</td>\n",
       "      <td>466822</td>\n",
       "      <td>466822</td>\n",
       "      <td>466822</td>\n",
       "      <td>466822</td>\n",
       "      <td>466822</td>\n",
       "    </tr>\n",
       "    <tr>\n",
       "      <th>unique</th>\n",
       "      <td>230193</td>\n",
       "      <td>70553</td>\n",
       "      <td>2549</td>\n",
       "      <td>10</td>\n",
       "      <td>1</td>\n",
       "      <td>37</td>\n",
       "    </tr>\n",
       "    <tr>\n",
       "      <th>top</th>\n",
       "      <td>64e4c7ca28927cfd62a503e100afe752</td>\n",
       "      <td>10:08:41</td>\n",
       "      <td>/</td>\n",
       "      <td>organic</td>\n",
       "      <td>pageview</td>\n",
       "      <td>2020-08-21 00:00:00</td>\n",
       "    </tr>\n",
       "    <tr>\n",
       "      <th>freq</th>\n",
       "      <td>855</td>\n",
       "      <td>26</td>\n",
       "      <td>67224</td>\n",
       "      <td>260306</td>\n",
       "      <td>466822</td>\n",
       "      <td>25938</td>\n",
       "    </tr>\n",
       "    <tr>\n",
       "      <th>first</th>\n",
       "      <td>NaN</td>\n",
       "      <td>NaN</td>\n",
       "      <td>NaN</td>\n",
       "      <td>NaN</td>\n",
       "      <td>NaN</td>\n",
       "      <td>2020-07-29 00:00:00</td>\n",
       "    </tr>\n",
       "    <tr>\n",
       "      <th>last</th>\n",
       "      <td>NaN</td>\n",
       "      <td>NaN</td>\n",
       "      <td>NaN</td>\n",
       "      <td>NaN</td>\n",
       "      <td>NaN</td>\n",
       "      <td>2020-10-09 00:00:00</td>\n",
       "    </tr>\n",
       "  </tbody>\n",
       "</table>\n",
       "</div>"
      ],
      "text/plain": [
       "                               client_id action_time pagePath   medium  \\\n",
       "count                             466822      466822   466822   466822   \n",
       "unique                            230193       70553     2549       10   \n",
       "top     64e4c7ca28927cfd62a503e100afe752    10:08:41        /  organic   \n",
       "freq                                 855          26    67224   260306   \n",
       "first                                NaN         NaN      NaN      NaN   \n",
       "last                                 NaN         NaN      NaN      NaN   \n",
       "\n",
       "       eventAction                 date  \n",
       "count       466822               466822  \n",
       "unique           1                   37  \n",
       "top       pageview  2020-08-21 00:00:00  \n",
       "freq        466822                25938  \n",
       "first          NaN  2020-07-29 00:00:00  \n",
       "last           NaN  2020-10-09 00:00:00  "
      ]
     },
     "execution_count": 6,
     "metadata": {},
     "output_type": "execute_result"
    }
   ],
   "source": [
    "df.describe()"
   ]
  },
  {
   "cell_type": "code",
   "execution_count": 7,
   "metadata": {},
   "outputs": [],
   "source": [
    "df.drop([\"eventAction\"], axis=\"columns\", inplace=True)"
   ]
  },
  {
   "cell_type": "markdown",
   "metadata": {},
   "source": [
    "Kolumna \"eventAction\" zostaje usunięta z powodu występowania tylko jednej zmiennej."
   ]
  },
  {
   "cell_type": "markdown",
   "metadata": {},
   "source": [
    " "
   ]
  },
  {
   "cell_type": "markdown",
   "metadata": {},
   "source": [
    "Podliczenie wystąpień każdego z mediów, z którego użytkownik mógł wejść na stronę."
   ]
  },
  {
   "cell_type": "code",
   "execution_count": 8,
   "metadata": {
    "scrolled": true
   },
   "outputs": [
    {
     "data": {
      "text/plain": [
       "organic      260306\n",
       "(none)        67090\n",
       "cpc           50864\n",
       "banner        46942\n",
       "referral      30169\n",
       "email         11243\n",
       "post            102\n",
       "link             74\n",
       "webpush          31\n",
       "(not set)         1\n",
       "Name: medium, dtype: int64"
      ]
     },
     "execution_count": 8,
     "metadata": {},
     "output_type": "execute_result"
    }
   ],
   "source": [
    "df[\"medium\"].value_counts()"
   ]
  },
  {
   "cell_type": "code",
   "execution_count": 9,
   "metadata": {},
   "outputs": [
    {
     "data": {
      "text/plain": [
       "<matplotlib.axes._subplots.AxesSubplot at 0x1b16537b400>"
      ]
     },
     "execution_count": 9,
     "metadata": {},
     "output_type": "execute_result"
    },
    {
     "data": {
      "image/png": "[encoded data removed]",
      "text/plain": [
       "<Figure size 432x288 with 1 Axes>"
      ]
     },
     "metadata": {
      "needs_background": "light"
     },
     "output_type": "display_data"
    }
   ],
   "source": [
    "df[\"medium\"].value_counts().plot(kind=\"bar\", grid=True)"
   ]
  },
  {
   "cell_type": "markdown",
   "metadata": {},
   "source": [
    "W zbiorze istnieją dwie pozycje nieprzypisane do żadnego z mediów: (none) i (not set)."
   ]
  },
  {
   "cell_type": "code",
   "execution_count": 10,
   "metadata": {},
   "outputs": [],
   "source": [
    "df.loc[df[\"medium\"] == \"(none)\", \"medium\"] = \"(not set)\""
   ]
  },
  {
   "cell_type": "markdown",
   "metadata": {},
   "source": [
    " "
   ]
  },
  {
   "cell_type": "markdown",
   "metadata": {},
   "source": [
    " "
   ]
  },
  {
   "cell_type": "code",
   "execution_count": 11,
   "metadata": {},
   "outputs": [
    {
     "data": {
      "text/plain": [
       "0     /lekcja/biologia,75f95eb9a371db8c2ea854da85219502\n",
       "1                                                     /\n",
       "2                                            /o-portalu\n",
       "3     /lekcja/geografia,12901cca29551ad7d556962231a1...\n",
       "4     /lekcja/jezyk-polski,c106aef9f68b2b03b8afe7d89...\n",
       "5     /lekcja/jezyk-polski,8a99b0c8047266b628e7a7d3b...\n",
       "6                                                     /\n",
       "7                                                     /\n",
       "8                                                     /\n",
       "9                                            /o-portalu\n",
       "10                                                    /\n",
       "11                                                    /\n",
       "12    /lekcja/jezyk-polski,9c53c1abcacdf5cf9553c8388...\n",
       "13                                                    /\n",
       "14                                    /?standalone=true\n",
       "15    /lekcja/historia,6d6334ff96cc0d0d429537dbc3c69366\n",
       "16    /lekcja/historia,6d6334ff96cc0d0d429537dbc3c69366\n",
       "17                                                    /\n",
       "18                                           /o-portalu\n",
       "19    /lekcja/jezyk-angielski,3280f1f5eda0f4a2ba799e...\n",
       "Name: pagePath, dtype: object"
      ]
     },
     "execution_count": 11,
     "metadata": {},
     "output_type": "execute_result"
    }
   ],
   "source": [
    "df[\"pagePath\"].head(20)"
   ]
  },
  {
   "cell_type": "markdown",
   "metadata": {},
   "source": [
    "Stworzenie kolumny \"pageMainCat\" z kategoriami występującymi w kolumnie \"pagePath\". Ścieżki nie przypisane do żadnej z kategorii, otrzymują etykietę \"Others\""
   ]
  },
  {
   "cell_type": "code",
   "execution_count": 12,
   "metadata": {},
   "outputs": [],
   "source": [
    "df[\"pageMainCat\"] = df[\"pagePath\"]"
   ]
  },
  {
   "cell_type": "code",
   "execution_count": 13,
   "metadata": {},
   "outputs": [],
   "source": [
    "main_categories = {\n",
    "    \"/lekcja/\": \"lekcja\", \n",
    "    \"/kategorie/\": \"kategorie\",\n",
    "    \"/fiszki-i-quizy/\": \"fiszki-i-quizy\",\n",
    "    \"/sprawdz-sie/\": \"sprawdz-sie\",    \n",
    "    \"/quiz/\": \"quiz\",\n",
    "    \"/fiszki/\": \"fiszki\",\n",
    "    \"/szukaj/\": \"szukaj\",\n",
    "    \"lesson/preview\": \"lesson/preview\",\n",
    "    \"/o-portalu\": \"o-portalu\",\n",
    "}\n",
    "    \n",
    "for key, value in main_categories.items():\n",
    "    df[\"pageMainCat\"] = df[\"pageMainCat\"].astype(str).apply(lambda x:  value if key in x else x) \n",
    "    \n",
    "cat_set = set(main_categories.values())\n",
    "df[\"pageMainCat\"] = df[\"pageMainCat\"].apply(lambda x: x if x in cat_set else \"Others\")  "
   ]
  },
  {
   "cell_type": "code",
   "execution_count": 14,
   "metadata": {},
   "outputs": [],
   "source": [
    "df[\"pageMainCat\"] = df[\"pageMainCat\"].astype(\"category\")"
   ]
  },
  {
   "cell_type": "code",
   "execution_count": 15,
   "metadata": {},
   "outputs": [
    {
     "name": "stdout",
     "output_type": "stream",
     "text": [
      "<class 'pandas.core.frame.DataFrame'>\n",
      "RangeIndex: 466822 entries, 0 to 466821\n",
      "Data columns (total 6 columns):\n",
      "client_id      466822 non-null object\n",
      "action_time    466822 non-null object\n",
      "pagePath       466822 non-null object\n",
      "medium         466822 non-null category\n",
      "date           466822 non-null datetime64[ns]\n",
      "pageMainCat    466822 non-null category\n",
      "dtypes: category(2), datetime64[ns](1), object(3)\n",
      "memory usage: 15.1+ MB\n"
     ]
    }
   ],
   "source": [
    "df.info()"
   ]
  },
  {
   "cell_type": "markdown",
   "metadata": {},
   "source": [
    " "
   ]
  },
  {
   "cell_type": "markdown",
   "metadata": {},
   "source": [
    "Ilustracja częstości występowania danej głównej kategorii z kolumny \"pageMainCat\" w ujęciu logarytmicznym."
   ]
  },
  {
   "cell_type": "code",
   "execution_count": 48,
   "metadata": {},
   "outputs": [
    {
     "data": {
      "text/plain": [
       "<matplotlib.axes._subplots.AxesSubplot at 0x1b16977da58>"
      ]
     },
     "execution_count": 48,
     "metadata": {},
     "output_type": "execute_result"
    },
    {
     "data": {
      "image/png": "[encoded data removed]",
      "text/plain": [
       "<Figure size 432x288 with 1 Axes>"
      ]
     },
     "metadata": {
      "needs_background": "light"
     },
     "output_type": "display_data"
    }
   ],
   "source": [
    "df[\"pageMainCat\"].value_counts().plot(kind=\"bar\", logy=True, grid=True)"
   ]
  },
  {
   "cell_type": "markdown",
   "metadata": {},
   "source": [
    "Kodowanie kolumny \"medium\", gdzie \"organic\" przyjmuje wartość jeden, a pozostałe rodzje przyjmują wartość zero."
   ]
  },
  {
   "cell_type": "code",
   "execution_count": 17,
   "metadata": {},
   "outputs": [
    {
     "data": {
      "text/html": [
       "<div>\n",
       "<style scoped>\n",
       "    .dataframe tbody tr th:only-of-type {\n",
       "        vertical-align: middle;\n",
       "    }\n",
       "\n",
       "    .dataframe tbody tr th {\n",
       "        vertical-align: top;\n",
       "    }\n",
       "\n",
       "    .dataframe thead th {\n",
       "        text-align: right;\n",
       "    }\n",
       "</style>\n",
       "<table border=\"1\" class=\"dataframe\">\n",
       "  <thead>\n",
       "    <tr style=\"text-align: right;\">\n",
       "      <th></th>\n",
       "      <th>client_id</th>\n",
       "      <th>action_time</th>\n",
       "      <th>pagePath</th>\n",
       "      <th>date</th>\n",
       "      <th>pageMainCat</th>\n",
       "      <th>Organic_code</th>\n",
       "    </tr>\n",
       "  </thead>\n",
       "  <tbody>\n",
       "    <tr>\n",
       "      <th>0</th>\n",
       "      <td>d0a213b0718cd0e10475ce11d893c3cc</td>\n",
       "      <td>15:38:27</td>\n",
       "      <td>/lekcja/biologia,75f95eb9a371db8c2ea854da85219502</td>\n",
       "      <td>2020-07-29</td>\n",
       "      <td>lekcja</td>\n",
       "      <td>1</td>\n",
       "    </tr>\n",
       "    <tr>\n",
       "      <th>1</th>\n",
       "      <td>4416f6ec763cc9e65ca17482d3960971</td>\n",
       "      <td>21:03:06</td>\n",
       "      <td>/</td>\n",
       "      <td>2020-07-29</td>\n",
       "      <td>Others</td>\n",
       "      <td>0</td>\n",
       "    </tr>\n",
       "    <tr>\n",
       "      <th>2</th>\n",
       "      <td>c3d6e02ad3e2a781dba7c48a4d354199</td>\n",
       "      <td>07:51:28</td>\n",
       "      <td>/o-portalu</td>\n",
       "      <td>2020-07-29</td>\n",
       "      <td>o-portalu</td>\n",
       "      <td>0</td>\n",
       "    </tr>\n",
       "    <tr>\n",
       "      <th>3</th>\n",
       "      <td>3bd4feb129163c7889a70d3d12c6e82d</td>\n",
       "      <td>12:23:00</td>\n",
       "      <td>/lekcja/geografia,12901cca29551ad7d556962231a1...</td>\n",
       "      <td>2020-07-29</td>\n",
       "      <td>lekcja</td>\n",
       "      <td>1</td>\n",
       "    </tr>\n",
       "    <tr>\n",
       "      <th>4</th>\n",
       "      <td>3d90c06c313a2120ce98ff14b6581570</td>\n",
       "      <td>12:27:30</td>\n",
       "      <td>/lekcja/jezyk-polski,c106aef9f68b2b03b8afe7d89...</td>\n",
       "      <td>2020-07-29</td>\n",
       "      <td>lekcja</td>\n",
       "      <td>1</td>\n",
       "    </tr>\n",
       "  </tbody>\n",
       "</table>\n",
       "</div>"
      ],
      "text/plain": [
       "                          client_id action_time  \\\n",
       "0  d0a213b0718cd0e10475ce11d893c3cc    15:38:27   \n",
       "1  4416f6ec763cc9e65ca17482d3960971    21:03:06   \n",
       "2  c3d6e02ad3e2a781dba7c48a4d354199    07:51:28   \n",
       "3  3bd4feb129163c7889a70d3d12c6e82d    12:23:00   \n",
       "4  3d90c06c313a2120ce98ff14b6581570    12:27:30   \n",
       "\n",
       "                                            pagePath       date pageMainCat  \\\n",
       "0  /lekcja/biologia,75f95eb9a371db8c2ea854da85219502 2020-07-29      lekcja   \n",
       "1                                                  / 2020-07-29      Others   \n",
       "2                                         /o-portalu 2020-07-29   o-portalu   \n",
       "3  /lekcja/geografia,12901cca29551ad7d556962231a1... 2020-07-29      lekcja   \n",
       "4  /lekcja/jezyk-polski,c106aef9f68b2b03b8afe7d89... 2020-07-29      lekcja   \n",
       "\n",
       "   Organic_code  \n",
       "0             1  \n",
       "1             0  \n",
       "2             0  \n",
       "3             1  \n",
       "4             1  "
      ]
     },
     "execution_count": 17,
     "metadata": {},
     "output_type": "execute_result"
    }
   ],
   "source": [
    "df_specific = df.copy()\n",
    "df_specific[\"Organic_code\"] = np.where(df_specific[\"medium\"].str.contains(\"organic\"), 1, 0)\n",
    "df_specific = df_specific.drop(\"medium\", axis = 1)\n",
    "\n",
    "df_specific.head()"
   ]
  },
  {
   "cell_type": "markdown",
   "metadata": {},
   "source": [
    " "
   ]
  },
  {
   "cell_type": "markdown",
   "metadata": {},
   "source": [
    "Kodowanie zmiennych \"pageMainCat\" za pomocą metody *Target/Guided Encoding*."
   ]
  },
  {
   "cell_type": "markdown",
   "metadata": {},
   "source": [
    "Obliczenie prawdopodobieństwa każdej z głównych kategorii na podstawie wartości celu kolumny \"Organic_code\"."
   ]
  },
  {
   "cell_type": "code",
   "execution_count": 18,
   "metadata": {},
   "outputs": [
    {
     "data": {
      "text/plain": [
       "pageMainCat\n",
       "Others            0.140407\n",
       "fiszki            0.285261\n",
       "fiszki-i-quizy    0.758673\n",
       "kategorie         0.371252\n",
       "lekcja            0.858868\n",
       "lesson/preview    0.239291\n",
       "o-portalu         0.002661\n",
       "quiz              0.351063\n",
       "sprawdz-sie       0.640625\n",
       "szukaj            0.307554\n",
       "Name: Organic_code, dtype: float64"
      ]
     },
     "execution_count": 18,
     "metadata": {},
     "output_type": "execute_result"
    }
   ],
   "source": [
    "df_specific.groupby([\"pageMainCat\"])[\"Organic_code\"].mean()"
   ]
  },
  {
   "cell_type": "markdown",
   "metadata": {},
   "source": [
    "Największe prawdopodobieństwo, że użytkownik wchodzący na stronę przez wyszukiwarkę (organic) występuje dla lekcji - ok. 86%."
   ]
  },
  {
   "cell_type": "code",
   "execution_count": 19,
   "metadata": {},
   "outputs": [],
   "source": [
    "Encoded_Lables = df_specific.groupby([\"pageMainCat\"])[\"Organic_code\"].mean().sort_values().index"
   ]
  },
  {
   "cell_type": "markdown",
   "metadata": {},
   "source": [
    "Stworzenie słowników zawierających klucz jako nazwę głównej kategorii i wartościami jako wspólny ranking prawdopodobieństwa."
   ]
  },
  {
   "cell_type": "code",
   "execution_count": 20,
   "metadata": {},
   "outputs": [],
   "source": [
    "Encoded_Lables_Ranks = { k:i for i, k in enumerate(Encoded_Lables, 0) }"
   ]
  },
  {
   "cell_type": "markdown",
   "metadata": {},
   "source": [
    "Stworzenie nowej kolumny \"pageMainCat_Encoded\" i zmapowanie wartośći głównych kategorii z rankingiem wspólnego prawdopodobieństwa."
   ]
  },
  {
   "cell_type": "code",
   "execution_count": 21,
   "metadata": {},
   "outputs": [],
   "source": [
    "df_specific[\"pageMainCat_Encoded\"] = df_specific[\"pageMainCat\"].map(Encoded_Lables_Ranks)"
   ]
  },
  {
   "cell_type": "code",
   "execution_count": 22,
   "metadata": {},
   "outputs": [
    {
     "data": {
      "text/html": [
       "<div>\n",
       "<style scoped>\n",
       "    .dataframe tbody tr th:only-of-type {\n",
       "        vertical-align: middle;\n",
       "    }\n",
       "\n",
       "    .dataframe tbody tr th {\n",
       "        vertical-align: top;\n",
       "    }\n",
       "\n",
       "    .dataframe thead th {\n",
       "        text-align: right;\n",
       "    }\n",
       "</style>\n",
       "<table border=\"1\" class=\"dataframe\">\n",
       "  <thead>\n",
       "    <tr style=\"text-align: right;\">\n",
       "      <th></th>\n",
       "      <th>client_id</th>\n",
       "      <th>action_time</th>\n",
       "      <th>pagePath</th>\n",
       "      <th>date</th>\n",
       "      <th>pageMainCat</th>\n",
       "      <th>Organic_code</th>\n",
       "      <th>pageMainCat_Encoded</th>\n",
       "    </tr>\n",
       "  </thead>\n",
       "  <tbody>\n",
       "    <tr>\n",
       "      <th>0</th>\n",
       "      <td>d0a213b0718cd0e10475ce11d893c3cc</td>\n",
       "      <td>15:38:27</td>\n",
       "      <td>/lekcja/biologia,75f95eb9a371db8c2ea854da85219502</td>\n",
       "      <td>2020-07-29</td>\n",
       "      <td>lekcja</td>\n",
       "      <td>1</td>\n",
       "      <td>9</td>\n",
       "    </tr>\n",
       "    <tr>\n",
       "      <th>1</th>\n",
       "      <td>4416f6ec763cc9e65ca17482d3960971</td>\n",
       "      <td>21:03:06</td>\n",
       "      <td>/</td>\n",
       "      <td>2020-07-29</td>\n",
       "      <td>Others</td>\n",
       "      <td>0</td>\n",
       "      <td>1</td>\n",
       "    </tr>\n",
       "    <tr>\n",
       "      <th>2</th>\n",
       "      <td>c3d6e02ad3e2a781dba7c48a4d354199</td>\n",
       "      <td>07:51:28</td>\n",
       "      <td>/o-portalu</td>\n",
       "      <td>2020-07-29</td>\n",
       "      <td>o-portalu</td>\n",
       "      <td>0</td>\n",
       "      <td>0</td>\n",
       "    </tr>\n",
       "    <tr>\n",
       "      <th>3</th>\n",
       "      <td>3bd4feb129163c7889a70d3d12c6e82d</td>\n",
       "      <td>12:23:00</td>\n",
       "      <td>/lekcja/geografia,12901cca29551ad7d556962231a1...</td>\n",
       "      <td>2020-07-29</td>\n",
       "      <td>lekcja</td>\n",
       "      <td>1</td>\n",
       "      <td>9</td>\n",
       "    </tr>\n",
       "    <tr>\n",
       "      <th>4</th>\n",
       "      <td>3d90c06c313a2120ce98ff14b6581570</td>\n",
       "      <td>12:27:30</td>\n",
       "      <td>/lekcja/jezyk-polski,c106aef9f68b2b03b8afe7d89...</td>\n",
       "      <td>2020-07-29</td>\n",
       "      <td>lekcja</td>\n",
       "      <td>1</td>\n",
       "      <td>9</td>\n",
       "    </tr>\n",
       "    <tr>\n",
       "      <th>5</th>\n",
       "      <td>55de8e3222d8c4d782a05f440d02abfc</td>\n",
       "      <td>12:11:43</td>\n",
       "      <td>/lekcja/jezyk-polski,8a99b0c8047266b628e7a7d3b...</td>\n",
       "      <td>2020-07-29</td>\n",
       "      <td>lekcja</td>\n",
       "      <td>1</td>\n",
       "      <td>9</td>\n",
       "    </tr>\n",
       "    <tr>\n",
       "      <th>6</th>\n",
       "      <td>3aff6b223133a009af60b81071e0454e</td>\n",
       "      <td>12:18:28</td>\n",
       "      <td>/</td>\n",
       "      <td>2020-07-29</td>\n",
       "      <td>Others</td>\n",
       "      <td>0</td>\n",
       "      <td>1</td>\n",
       "    </tr>\n",
       "    <tr>\n",
       "      <th>7</th>\n",
       "      <td>3aff6b223133a009af60b81071e0454e</td>\n",
       "      <td>12:19:00</td>\n",
       "      <td>/</td>\n",
       "      <td>2020-07-29</td>\n",
       "      <td>Others</td>\n",
       "      <td>0</td>\n",
       "      <td>1</td>\n",
       "    </tr>\n",
       "    <tr>\n",
       "      <th>8</th>\n",
       "      <td>3aff6b223133a009af60b81071e0454e</td>\n",
       "      <td>12:23:21</td>\n",
       "      <td>/</td>\n",
       "      <td>2020-07-29</td>\n",
       "      <td>Others</td>\n",
       "      <td>0</td>\n",
       "      <td>1</td>\n",
       "    </tr>\n",
       "    <tr>\n",
       "      <th>9</th>\n",
       "      <td>b54c92e3ec9d7f3a67d37d8f3be1bf00</td>\n",
       "      <td>23:10:42</td>\n",
       "      <td>/o-portalu</td>\n",
       "      <td>2020-07-29</td>\n",
       "      <td>o-portalu</td>\n",
       "      <td>0</td>\n",
       "      <td>0</td>\n",
       "    </tr>\n",
       "    <tr>\n",
       "      <th>10</th>\n",
       "      <td>4f072a946ecef458c26e6400bfde7460</td>\n",
       "      <td>10:23:10</td>\n",
       "      <td>/</td>\n",
       "      <td>2020-07-29</td>\n",
       "      <td>Others</td>\n",
       "      <td>0</td>\n",
       "      <td>1</td>\n",
       "    </tr>\n",
       "    <tr>\n",
       "      <th>11</th>\n",
       "      <td>4f072a946ecef458c26e6400bfde7460</td>\n",
       "      <td>10:24:10</td>\n",
       "      <td>/</td>\n",
       "      <td>2020-07-29</td>\n",
       "      <td>Others</td>\n",
       "      <td>0</td>\n",
       "      <td>1</td>\n",
       "    </tr>\n",
       "    <tr>\n",
       "      <th>12</th>\n",
       "      <td>5f42e4671b8c013b112ef26b0147126d</td>\n",
       "      <td>18:51:29</td>\n",
       "      <td>/lekcja/jezyk-polski,9c53c1abcacdf5cf9553c8388...</td>\n",
       "      <td>2020-07-29</td>\n",
       "      <td>lekcja</td>\n",
       "      <td>1</td>\n",
       "      <td>9</td>\n",
       "    </tr>\n",
       "    <tr>\n",
       "      <th>13</th>\n",
       "      <td>3c9c6520b47632de04c400d26f4a7a32</td>\n",
       "      <td>08:55:03</td>\n",
       "      <td>/</td>\n",
       "      <td>2020-07-29</td>\n",
       "      <td>Others</td>\n",
       "      <td>0</td>\n",
       "      <td>1</td>\n",
       "    </tr>\n",
       "    <tr>\n",
       "      <th>14</th>\n",
       "      <td>3e9e67b7ac93ffcd849f4c87bf25bea8</td>\n",
       "      <td>19:17:20</td>\n",
       "      <td>/?standalone=true</td>\n",
       "      <td>2020-07-29</td>\n",
       "      <td>Others</td>\n",
       "      <td>1</td>\n",
       "      <td>1</td>\n",
       "    </tr>\n",
       "    <tr>\n",
       "      <th>15</th>\n",
       "      <td>047ad6b27fa47f7585919bfdfa28635d</td>\n",
       "      <td>16:36:17</td>\n",
       "      <td>/lekcja/historia,6d6334ff96cc0d0d429537dbc3c69366</td>\n",
       "      <td>2020-07-29</td>\n",
       "      <td>lekcja</td>\n",
       "      <td>1</td>\n",
       "      <td>9</td>\n",
       "    </tr>\n",
       "    <tr>\n",
       "      <th>16</th>\n",
       "      <td>047ad6b27fa47f7585919bfdfa28635d</td>\n",
       "      <td>17:11:02</td>\n",
       "      <td>/lekcja/historia,6d6334ff96cc0d0d429537dbc3c69366</td>\n",
       "      <td>2020-07-29</td>\n",
       "      <td>lekcja</td>\n",
       "      <td>1</td>\n",
       "      <td>9</td>\n",
       "    </tr>\n",
       "    <tr>\n",
       "      <th>17</th>\n",
       "      <td>8615deaf956581ecbc5c12d0b299a36e</td>\n",
       "      <td>18:21:26</td>\n",
       "      <td>/</td>\n",
       "      <td>2020-07-29</td>\n",
       "      <td>Others</td>\n",
       "      <td>0</td>\n",
       "      <td>1</td>\n",
       "    </tr>\n",
       "    <tr>\n",
       "      <th>18</th>\n",
       "      <td>797ccd71e34a0ca8d8eb2689110727d4</td>\n",
       "      <td>16:54:45</td>\n",
       "      <td>/o-portalu</td>\n",
       "      <td>2020-07-29</td>\n",
       "      <td>o-portalu</td>\n",
       "      <td>0</td>\n",
       "      <td>0</td>\n",
       "    </tr>\n",
       "    <tr>\n",
       "      <th>19</th>\n",
       "      <td>4ce84ae2bf28c8bf350c402a8054d38f</td>\n",
       "      <td>08:11:18</td>\n",
       "      <td>/lekcja/jezyk-angielski,3280f1f5eda0f4a2ba799e...</td>\n",
       "      <td>2020-07-29</td>\n",
       "      <td>lekcja</td>\n",
       "      <td>1</td>\n",
       "      <td>9</td>\n",
       "    </tr>\n",
       "    <tr>\n",
       "      <th>20</th>\n",
       "      <td>2a1ac66aa6b7fe607a1ce819da29068c</td>\n",
       "      <td>12:05:41</td>\n",
       "      <td>/lekcja/biologia,c4a61b24e0a70445a593ed3167d7c6eb</td>\n",
       "      <td>2020-07-29</td>\n",
       "      <td>lekcja</td>\n",
       "      <td>0</td>\n",
       "      <td>9</td>\n",
       "    </tr>\n",
       "    <tr>\n",
       "      <th>21</th>\n",
       "      <td>8360031ce1de51fe3482b605ec085f7b</td>\n",
       "      <td>13:46:43</td>\n",
       "      <td>/</td>\n",
       "      <td>2020-07-29</td>\n",
       "      <td>Others</td>\n",
       "      <td>0</td>\n",
       "      <td>1</td>\n",
       "    </tr>\n",
       "    <tr>\n",
       "      <th>22</th>\n",
       "      <td>8360031ce1de51fe3482b605ec085f7b</td>\n",
       "      <td>13:47:13</td>\n",
       "      <td>/</td>\n",
       "      <td>2020-07-29</td>\n",
       "      <td>Others</td>\n",
       "      <td>0</td>\n",
       "      <td>1</td>\n",
       "    </tr>\n",
       "    <tr>\n",
       "      <th>23</th>\n",
       "      <td>8360031ce1de51fe3482b605ec085f7b</td>\n",
       "      <td>13:50:21</td>\n",
       "      <td>/fiszki/8561c71d-9428-409c-ba49-351a98eefda2</td>\n",
       "      <td>2020-07-29</td>\n",
       "      <td>fiszki</td>\n",
       "      <td>0</td>\n",
       "      <td>3</td>\n",
       "    </tr>\n",
       "    <tr>\n",
       "      <th>24</th>\n",
       "      <td>8360031ce1de51fe3482b605ec085f7b</td>\n",
       "      <td>13:50:29</td>\n",
       "      <td>/fiszki/8561c71d-9428-409c-ba49-351a98eefda2</td>\n",
       "      <td>2020-07-29</td>\n",
       "      <td>fiszki</td>\n",
       "      <td>0</td>\n",
       "      <td>3</td>\n",
       "    </tr>\n",
       "    <tr>\n",
       "      <th>25</th>\n",
       "      <td>8360031ce1de51fe3482b605ec085f7b</td>\n",
       "      <td>13:51:02</td>\n",
       "      <td>/fiszki/8561c71d-9428-409c-ba49-351a98eefda2</td>\n",
       "      <td>2020-07-29</td>\n",
       "      <td>fiszki</td>\n",
       "      <td>0</td>\n",
       "      <td>3</td>\n",
       "    </tr>\n",
       "    <tr>\n",
       "      <th>26</th>\n",
       "      <td>8360031ce1de51fe3482b605ec085f7b</td>\n",
       "      <td>13:52:38</td>\n",
       "      <td>/fiszki/8561c71d-9428-409c-ba49-351a98eefda2</td>\n",
       "      <td>2020-07-29</td>\n",
       "      <td>fiszki</td>\n",
       "      <td>0</td>\n",
       "      <td>3</td>\n",
       "    </tr>\n",
       "    <tr>\n",
       "      <th>27</th>\n",
       "      <td>8360031ce1de51fe3482b605ec085f7b</td>\n",
       "      <td>13:52:45</td>\n",
       "      <td>/fiszki/8561c71d-9428-409c-ba49-351a98eefda2</td>\n",
       "      <td>2020-07-29</td>\n",
       "      <td>fiszki</td>\n",
       "      <td>0</td>\n",
       "      <td>3</td>\n",
       "    </tr>\n",
       "    <tr>\n",
       "      <th>28</th>\n",
       "      <td>8360031ce1de51fe3482b605ec085f7b</td>\n",
       "      <td>13:53:04</td>\n",
       "      <td>/quiz/9a55cd02-b551-41ad-bc03-a9b4ab6574d5</td>\n",
       "      <td>2020-07-29</td>\n",
       "      <td>quiz</td>\n",
       "      <td>0</td>\n",
       "      <td>5</td>\n",
       "    </tr>\n",
       "    <tr>\n",
       "      <th>29</th>\n",
       "      <td>8360031ce1de51fe3482b605ec085f7b</td>\n",
       "      <td>13:53:19</td>\n",
       "      <td>/quiz/9a55cd02-b551-41ad-bc03-a9b4ab6574d5</td>\n",
       "      <td>2020-07-29</td>\n",
       "      <td>quiz</td>\n",
       "      <td>0</td>\n",
       "      <td>5</td>\n",
       "    </tr>\n",
       "    <tr>\n",
       "      <th>...</th>\n",
       "      <td>...</td>\n",
       "      <td>...</td>\n",
       "      <td>...</td>\n",
       "      <td>...</td>\n",
       "      <td>...</td>\n",
       "      <td>...</td>\n",
       "      <td>...</td>\n",
       "    </tr>\n",
       "    <tr>\n",
       "      <th>466792</th>\n",
       "      <td>e36f0224aca95be99b777b96b5ca4ea4</td>\n",
       "      <td>19:36:25</td>\n",
       "      <td>/lekcja/matematyka,fe1f1873e7844f718481ee691db...</td>\n",
       "      <td>2020-08-23</td>\n",
       "      <td>lekcja</td>\n",
       "      <td>1</td>\n",
       "      <td>9</td>\n",
       "    </tr>\n",
       "    <tr>\n",
       "      <th>466793</th>\n",
       "      <td>e99c398649a93827f58728961ff5222e</td>\n",
       "      <td>16:48:53</td>\n",
       "      <td>/lekcja/geografia,fc23a9fed6c3419a3088b46dbbfc...</td>\n",
       "      <td>2020-08-23</td>\n",
       "      <td>lekcja</td>\n",
       "      <td>0</td>\n",
       "      <td>9</td>\n",
       "    </tr>\n",
       "    <tr>\n",
       "      <th>466794</th>\n",
       "      <td>9feee5ae44871590dbc15a3c6788025b</td>\n",
       "      <td>18:01:01</td>\n",
       "      <td>/</td>\n",
       "      <td>2020-08-23</td>\n",
       "      <td>Others</td>\n",
       "      <td>0</td>\n",
       "      <td>1</td>\n",
       "    </tr>\n",
       "    <tr>\n",
       "      <th>466795</th>\n",
       "      <td>9feee5ae44871590dbc15a3c6788025b</td>\n",
       "      <td>18:02:47</td>\n",
       "      <td>/lekcja/biologia,d953a605197d1a42bd2f8b4d02548083</td>\n",
       "      <td>2020-08-23</td>\n",
       "      <td>lekcja</td>\n",
       "      <td>0</td>\n",
       "      <td>9</td>\n",
       "    </tr>\n",
       "    <tr>\n",
       "      <th>466796</th>\n",
       "      <td>5b8839edd1ee98ae3d3a4ec415331850</td>\n",
       "      <td>20:05:50</td>\n",
       "      <td>/lekcja/biologia,75f95eb9a371db8c2ea854da85219502</td>\n",
       "      <td>2020-08-24</td>\n",
       "      <td>lekcja</td>\n",
       "      <td>1</td>\n",
       "      <td>9</td>\n",
       "    </tr>\n",
       "    <tr>\n",
       "      <th>466797</th>\n",
       "      <td>f69490a4c2296c8e4da572d78531c288</td>\n",
       "      <td>17:29:30</td>\n",
       "      <td>/lekcja/biologia,17ead0d5e62d9e70b6ef007e3a166d96</td>\n",
       "      <td>2020-08-24</td>\n",
       "      <td>lekcja</td>\n",
       "      <td>1</td>\n",
       "      <td>9</td>\n",
       "    </tr>\n",
       "    <tr>\n",
       "      <th>466798</th>\n",
       "      <td>f69490a4c2296c8e4da572d78531c288</td>\n",
       "      <td>18:26:22</td>\n",
       "      <td>/lekcja/biologia,17ead0d5e62d9e70b6ef007e3a166d96</td>\n",
       "      <td>2020-08-24</td>\n",
       "      <td>lekcja</td>\n",
       "      <td>0</td>\n",
       "      <td>9</td>\n",
       "    </tr>\n",
       "    <tr>\n",
       "      <th>466799</th>\n",
       "      <td>f69490a4c2296c8e4da572d78531c288</td>\n",
       "      <td>18:26:34</td>\n",
       "      <td>/lekcja/biologia,17ead0d5e62d9e70b6ef007e3a166d96</td>\n",
       "      <td>2020-08-24</td>\n",
       "      <td>lekcja</td>\n",
       "      <td>1</td>\n",
       "      <td>9</td>\n",
       "    </tr>\n",
       "    <tr>\n",
       "      <th>466800</th>\n",
       "      <td>a0b3fd184d6fed90afb07068cf252ffa</td>\n",
       "      <td>22:06:50</td>\n",
       "      <td>/</td>\n",
       "      <td>2020-08-24</td>\n",
       "      <td>Others</td>\n",
       "      <td>0</td>\n",
       "      <td>1</td>\n",
       "    </tr>\n",
       "    <tr>\n",
       "      <th>466801</th>\n",
       "      <td>19c53a80f9b75a5f93ab6dd48707653b</td>\n",
       "      <td>23:06:06</td>\n",
       "      <td>/lekcja/jezyk-polski,5dd55fd9a99557415c050ab3e...</td>\n",
       "      <td>2020-08-24</td>\n",
       "      <td>lekcja</td>\n",
       "      <td>1</td>\n",
       "      <td>9</td>\n",
       "    </tr>\n",
       "    <tr>\n",
       "      <th>466802</th>\n",
       "      <td>90f4752ef72d742e19d458a8d3c796c2</td>\n",
       "      <td>15:45:33</td>\n",
       "      <td>/lekcja/geografia,5f69f355be8655b69c2dbb901f28...</td>\n",
       "      <td>2020-08-24</td>\n",
       "      <td>lekcja</td>\n",
       "      <td>1</td>\n",
       "      <td>9</td>\n",
       "    </tr>\n",
       "    <tr>\n",
       "      <th>466803</th>\n",
       "      <td>bd9d0451fd405217028cbde286e2b26a</td>\n",
       "      <td>22:25:04</td>\n",
       "      <td>/lekcja/geografia,442166c5e66b53279ab7082b48dd...</td>\n",
       "      <td>2020-08-24</td>\n",
       "      <td>lekcja</td>\n",
       "      <td>1</td>\n",
       "      <td>9</td>\n",
       "    </tr>\n",
       "    <tr>\n",
       "      <th>466804</th>\n",
       "      <td>bd9d0451fd405217028cbde286e2b26a</td>\n",
       "      <td>22:26:04</td>\n",
       "      <td>/lekcja/geografia,442166c5e66b53279ab7082b48dd...</td>\n",
       "      <td>2020-08-24</td>\n",
       "      <td>lekcja</td>\n",
       "      <td>1</td>\n",
       "      <td>9</td>\n",
       "    </tr>\n",
       "    <tr>\n",
       "      <th>466805</th>\n",
       "      <td>e2171510aed7372746e3815c4b1cbbc5</td>\n",
       "      <td>09:42:43</td>\n",
       "      <td>/lekcja/historia,6d6334ff96cc0d0d429537dbc3c69366</td>\n",
       "      <td>2020-08-25</td>\n",
       "      <td>lekcja</td>\n",
       "      <td>1</td>\n",
       "      <td>9</td>\n",
       "    </tr>\n",
       "    <tr>\n",
       "      <th>466806</th>\n",
       "      <td>28b66f70f43230037945cbbf6b8181ab</td>\n",
       "      <td>08:16:41</td>\n",
       "      <td>/o-portalu</td>\n",
       "      <td>2020-08-25</td>\n",
       "      <td>o-portalu</td>\n",
       "      <td>0</td>\n",
       "      <td>0</td>\n",
       "    </tr>\n",
       "    <tr>\n",
       "      <th>466807</th>\n",
       "      <td>6de0a1ef580cf406c7178e2ae5a81e0c</td>\n",
       "      <td>20:38:19</td>\n",
       "      <td>/o-portalu</td>\n",
       "      <td>2020-08-25</td>\n",
       "      <td>o-portalu</td>\n",
       "      <td>0</td>\n",
       "      <td>0</td>\n",
       "    </tr>\n",
       "    <tr>\n",
       "      <th>466808</th>\n",
       "      <td>6de0a1ef580cf406c7178e2ae5a81e0c</td>\n",
       "      <td>20:38:42</td>\n",
       "      <td>/o-portalu</td>\n",
       "      <td>2020-08-25</td>\n",
       "      <td>o-portalu</td>\n",
       "      <td>0</td>\n",
       "      <td>0</td>\n",
       "    </tr>\n",
       "    <tr>\n",
       "      <th>466809</th>\n",
       "      <td>a3ef5280dce67b9f5c2849e940e5de91</td>\n",
       "      <td>15:25:46</td>\n",
       "      <td>/lekcja/matematyka,5ddf4e5d145d314ab2186b85a3f...</td>\n",
       "      <td>2020-08-26</td>\n",
       "      <td>lekcja</td>\n",
       "      <td>0</td>\n",
       "      <td>9</td>\n",
       "    </tr>\n",
       "    <tr>\n",
       "      <th>466810</th>\n",
       "      <td>f69490a4c2296c8e4da572d78531c288</td>\n",
       "      <td>19:12:19</td>\n",
       "      <td>/lekcja/biologia,72a455ccfd13444e4802c24cf6b5c509</td>\n",
       "      <td>2020-08-27</td>\n",
       "      <td>lekcja</td>\n",
       "      <td>1</td>\n",
       "      <td>9</td>\n",
       "    </tr>\n",
       "    <tr>\n",
       "      <th>466811</th>\n",
       "      <td>5f8d433d6ea996f19d2c375f690ad858</td>\n",
       "      <td>05:34:32</td>\n",
       "      <td>/</td>\n",
       "      <td>2020-08-27</td>\n",
       "      <td>Others</td>\n",
       "      <td>0</td>\n",
       "      <td>1</td>\n",
       "    </tr>\n",
       "    <tr>\n",
       "      <th>466812</th>\n",
       "      <td>9a2f626981f1613e3480f4f169253733</td>\n",
       "      <td>09:15:37</td>\n",
       "      <td>/lekcja/historia,fc91800650545853437b29c46b698e1d</td>\n",
       "      <td>2020-08-28</td>\n",
       "      <td>lekcja</td>\n",
       "      <td>1</td>\n",
       "      <td>9</td>\n",
       "    </tr>\n",
       "    <tr>\n",
       "      <th>466813</th>\n",
       "      <td>edbca5ec6ab508bc3350b593f83baea3</td>\n",
       "      <td>15:33:10</td>\n",
       "      <td>/lekcja/jezyk-polski,ebc08580bf98c10d8b52e600b...</td>\n",
       "      <td>2020-08-28</td>\n",
       "      <td>lekcja</td>\n",
       "      <td>1</td>\n",
       "      <td>9</td>\n",
       "    </tr>\n",
       "    <tr>\n",
       "      <th>466814</th>\n",
       "      <td>fc0d002dda9cee6dfe898bccd5dea7b0</td>\n",
       "      <td>20:34:27</td>\n",
       "      <td>/lekcja/geografia,ad5d041b1acf967d8f7450190633...</td>\n",
       "      <td>2020-08-29</td>\n",
       "      <td>lekcja</td>\n",
       "      <td>1</td>\n",
       "      <td>9</td>\n",
       "    </tr>\n",
       "    <tr>\n",
       "      <th>466815</th>\n",
       "      <td>d95d243cc9a6b2555fb8ce5346870155</td>\n",
       "      <td>11:59:06</td>\n",
       "      <td>/</td>\n",
       "      <td>2020-09-02</td>\n",
       "      <td>Others</td>\n",
       "      <td>0</td>\n",
       "      <td>1</td>\n",
       "    </tr>\n",
       "    <tr>\n",
       "      <th>466816</th>\n",
       "      <td>d95d243cc9a6b2555fb8ce5346870155</td>\n",
       "      <td>11:59:58</td>\n",
       "      <td>/lekcja/fizyka,98618b4a50b9b6469588582e9a04d159</td>\n",
       "      <td>2020-09-02</td>\n",
       "      <td>lekcja</td>\n",
       "      <td>0</td>\n",
       "      <td>9</td>\n",
       "    </tr>\n",
       "    <tr>\n",
       "      <th>466817</th>\n",
       "      <td>4aeb67e947bf0f68727da4531cb2e730</td>\n",
       "      <td>20:23:49</td>\n",
       "      <td>/</td>\n",
       "      <td>2020-09-03</td>\n",
       "      <td>Others</td>\n",
       "      <td>0</td>\n",
       "      <td>1</td>\n",
       "    </tr>\n",
       "    <tr>\n",
       "      <th>466818</th>\n",
       "      <td>85298782f748e544275ea0ba55767d39</td>\n",
       "      <td>12:44:06</td>\n",
       "      <td>/lekcja/biologia,43eb0ab6190bc7e8acf5d294119e22c9</td>\n",
       "      <td>2020-09-12</td>\n",
       "      <td>lekcja</td>\n",
       "      <td>1</td>\n",
       "      <td>9</td>\n",
       "    </tr>\n",
       "    <tr>\n",
       "      <th>466819</th>\n",
       "      <td>fcb3a6846e37f653bd39b2f1cc9cd338</td>\n",
       "      <td>13:58:39</td>\n",
       "      <td>/lekcja/historia,a7020fcc21842131d9a211d1e9c558fa</td>\n",
       "      <td>2020-09-18</td>\n",
       "      <td>lekcja</td>\n",
       "      <td>1</td>\n",
       "      <td>9</td>\n",
       "    </tr>\n",
       "    <tr>\n",
       "      <th>466820</th>\n",
       "      <td>fcb3a6846e37f653bd39b2f1cc9cd338</td>\n",
       "      <td>14:24:09</td>\n",
       "      <td>/lekcja/historia,a7020fcc21842131d9a211d1e9c558fa</td>\n",
       "      <td>2020-09-18</td>\n",
       "      <td>lekcja</td>\n",
       "      <td>0</td>\n",
       "      <td>9</td>\n",
       "    </tr>\n",
       "    <tr>\n",
       "      <th>466821</th>\n",
       "      <td>76556de5df6146f2962579a04fe2aba6</td>\n",
       "      <td>10:32:50</td>\n",
       "      <td>/lekcja/historia,531d33a3cfca58f4fda2722eff0caffa</td>\n",
       "      <td>2020-10-09</td>\n",
       "      <td>lekcja</td>\n",
       "      <td>1</td>\n",
       "      <td>9</td>\n",
       "    </tr>\n",
       "  </tbody>\n",
       "</table>\n",
       "<p>466822 rows × 7 columns</p>\n",
       "</div>"
      ],
      "text/plain": [
       "                               client_id action_time  \\\n",
       "0       d0a213b0718cd0e10475ce11d893c3cc    15:38:27   \n",
       "1       4416f6ec763cc9e65ca17482d3960971    21:03:06   \n",
       "2       c3d6e02ad3e2a781dba7c48a4d354199    07:51:28   \n",
       "3       3bd4feb129163c7889a70d3d12c6e82d    12:23:00   \n",
       "4       3d90c06c313a2120ce98ff14b6581570    12:27:30   \n",
       "5       55de8e3222d8c4d782a05f440d02abfc    12:11:43   \n",
       "6       3aff6b223133a009af60b81071e0454e    12:18:28   \n",
       "7       3aff6b223133a009af60b81071e0454e    12:19:00   \n",
       "8       3aff6b223133a009af60b81071e0454e    12:23:21   \n",
       "9       b54c92e3ec9d7f3a67d37d8f3be1bf00    23:10:42   \n",
       "10      4f072a946ecef458c26e6400bfde7460    10:23:10   \n",
       "11      4f072a946ecef458c26e6400bfde7460    10:24:10   \n",
       "12      5f42e4671b8c013b112ef26b0147126d    18:51:29   \n",
       "13      3c9c6520b47632de04c400d26f4a7a32    08:55:03   \n",
       "14      3e9e67b7ac93ffcd849f4c87bf25bea8    19:17:20   \n",
       "15      047ad6b27fa47f7585919bfdfa28635d    16:36:17   \n",
       "16      047ad6b27fa47f7585919bfdfa28635d    17:11:02   \n",
       "17      8615deaf956581ecbc5c12d0b299a36e    18:21:26   \n",
       "18      797ccd71e34a0ca8d8eb2689110727d4    16:54:45   \n",
       "19      4ce84ae2bf28c8bf350c402a8054d38f    08:11:18   \n",
       "20      2a1ac66aa6b7fe607a1ce819da29068c    12:05:41   \n",
       "21      8360031ce1de51fe3482b605ec085f7b    13:46:43   \n",
       "22      8360031ce1de51fe3482b605ec085f7b    13:47:13   \n",
       "23      8360031ce1de51fe3482b605ec085f7b    13:50:21   \n",
       "24      8360031ce1de51fe3482b605ec085f7b    13:50:29   \n",
       "25      8360031ce1de51fe3482b605ec085f7b    13:51:02   \n",
       "26      8360031ce1de51fe3482b605ec085f7b    13:52:38   \n",
       "27      8360031ce1de51fe3482b605ec085f7b    13:52:45   \n",
       "28      8360031ce1de51fe3482b605ec085f7b    13:53:04   \n",
       "29      8360031ce1de51fe3482b605ec085f7b    13:53:19   \n",
       "...                                  ...         ...   \n",
       "466792  e36f0224aca95be99b777b96b5ca4ea4    19:36:25   \n",
       "466793  e99c398649a93827f58728961ff5222e    16:48:53   \n",
       "466794  9feee5ae44871590dbc15a3c6788025b    18:01:01   \n",
       "466795  9feee5ae44871590dbc15a3c6788025b    18:02:47   \n",
       "466796  5b8839edd1ee98ae3d3a4ec415331850    20:05:50   \n",
       "466797  f69490a4c2296c8e4da572d78531c288    17:29:30   \n",
       "466798  f69490a4c2296c8e4da572d78531c288    18:26:22   \n",
       "466799  f69490a4c2296c8e4da572d78531c288    18:26:34   \n",
       "466800  a0b3fd184d6fed90afb07068cf252ffa    22:06:50   \n",
       "466801  19c53a80f9b75a5f93ab6dd48707653b    23:06:06   \n",
       "466802  90f4752ef72d742e19d458a8d3c796c2    15:45:33   \n",
       "466803  bd9d0451fd405217028cbde286e2b26a    22:25:04   \n",
       "466804  bd9d0451fd405217028cbde286e2b26a    22:26:04   \n",
       "466805  e2171510aed7372746e3815c4b1cbbc5    09:42:43   \n",
       "466806  28b66f70f43230037945cbbf6b8181ab    08:16:41   \n",
       "466807  6de0a1ef580cf406c7178e2ae5a81e0c    20:38:19   \n",
       "466808  6de0a1ef580cf406c7178e2ae5a81e0c    20:38:42   \n",
       "466809  a3ef5280dce67b9f5c2849e940e5de91    15:25:46   \n",
       "466810  f69490a4c2296c8e4da572d78531c288    19:12:19   \n",
       "466811  5f8d433d6ea996f19d2c375f690ad858    05:34:32   \n",
       "466812  9a2f626981f1613e3480f4f169253733    09:15:37   \n",
       "466813  edbca5ec6ab508bc3350b593f83baea3    15:33:10   \n",
       "466814  fc0d002dda9cee6dfe898bccd5dea7b0    20:34:27   \n",
       "466815  d95d243cc9a6b2555fb8ce5346870155    11:59:06   \n",
       "466816  d95d243cc9a6b2555fb8ce5346870155    11:59:58   \n",
       "466817  4aeb67e947bf0f68727da4531cb2e730    20:23:49   \n",
       "466818  85298782f748e544275ea0ba55767d39    12:44:06   \n",
       "466819  fcb3a6846e37f653bd39b2f1cc9cd338    13:58:39   \n",
       "466820  fcb3a6846e37f653bd39b2f1cc9cd338    14:24:09   \n",
       "466821  76556de5df6146f2962579a04fe2aba6    10:32:50   \n",
       "\n",
       "                                                 pagePath       date  \\\n",
       "0       /lekcja/biologia,75f95eb9a371db8c2ea854da85219502 2020-07-29   \n",
       "1                                                       / 2020-07-29   \n",
       "2                                              /o-portalu 2020-07-29   \n",
       "3       /lekcja/geografia,12901cca29551ad7d556962231a1... 2020-07-29   \n",
       "4       /lekcja/jezyk-polski,c106aef9f68b2b03b8afe7d89... 2020-07-29   \n",
       "5       /lekcja/jezyk-polski,8a99b0c8047266b628e7a7d3b... 2020-07-29   \n",
       "6                                                       / 2020-07-29   \n",
       "7                                                       / 2020-07-29   \n",
       "8                                                       / 2020-07-29   \n",
       "9                                              /o-portalu 2020-07-29   \n",
       "10                                                      / 2020-07-29   \n",
       "11                                                      / 2020-07-29   \n",
       "12      /lekcja/jezyk-polski,9c53c1abcacdf5cf9553c8388... 2020-07-29   \n",
       "13                                                      / 2020-07-29   \n",
       "14                                      /?standalone=true 2020-07-29   \n",
       "15      /lekcja/historia,6d6334ff96cc0d0d429537dbc3c69366 2020-07-29   \n",
       "16      /lekcja/historia,6d6334ff96cc0d0d429537dbc3c69366 2020-07-29   \n",
       "17                                                      / 2020-07-29   \n",
       "18                                             /o-portalu 2020-07-29   \n",
       "19      /lekcja/jezyk-angielski,3280f1f5eda0f4a2ba799e... 2020-07-29   \n",
       "20      /lekcja/biologia,c4a61b24e0a70445a593ed3167d7c6eb 2020-07-29   \n",
       "21                                                      / 2020-07-29   \n",
       "22                                                      / 2020-07-29   \n",
       "23           /fiszki/8561c71d-9428-409c-ba49-351a98eefda2 2020-07-29   \n",
       "24           /fiszki/8561c71d-9428-409c-ba49-351a98eefda2 2020-07-29   \n",
       "25           /fiszki/8561c71d-9428-409c-ba49-351a98eefda2 2020-07-29   \n",
       "26           /fiszki/8561c71d-9428-409c-ba49-351a98eefda2 2020-07-29   \n",
       "27           /fiszki/8561c71d-9428-409c-ba49-351a98eefda2 2020-07-29   \n",
       "28             /quiz/9a55cd02-b551-41ad-bc03-a9b4ab6574d5 2020-07-29   \n",
       "29             /quiz/9a55cd02-b551-41ad-bc03-a9b4ab6574d5 2020-07-29   \n",
       "...                                                   ...        ...   \n",
       "466792  /lekcja/matematyka,fe1f1873e7844f718481ee691db... 2020-08-23   \n",
       "466793  /lekcja/geografia,fc23a9fed6c3419a3088b46dbbfc... 2020-08-23   \n",
       "466794                                                  / 2020-08-23   \n",
       "466795  /lekcja/biologia,d953a605197d1a42bd2f8b4d02548083 2020-08-23   \n",
       "466796  /lekcja/biologia,75f95eb9a371db8c2ea854da85219502 2020-08-24   \n",
       "466797  /lekcja/biologia,17ead0d5e62d9e70b6ef007e3a166d96 2020-08-24   \n",
       "466798  /lekcja/biologia,17ead0d5e62d9e70b6ef007e3a166d96 2020-08-24   \n",
       "466799  /lekcja/biologia,17ead0d5e62d9e70b6ef007e3a166d96 2020-08-24   \n",
       "466800                                                  / 2020-08-24   \n",
       "466801  /lekcja/jezyk-polski,5dd55fd9a99557415c050ab3e... 2020-08-24   \n",
       "466802  /lekcja/geografia,5f69f355be8655b69c2dbb901f28... 2020-08-24   \n",
       "466803  /lekcja/geografia,442166c5e66b53279ab7082b48dd... 2020-08-24   \n",
       "466804  /lekcja/geografia,442166c5e66b53279ab7082b48dd... 2020-08-24   \n",
       "466805  /lekcja/historia,6d6334ff96cc0d0d429537dbc3c69366 2020-08-25   \n",
       "466806                                         /o-portalu 2020-08-25   \n",
       "466807                                         /o-portalu 2020-08-25   \n",
       "466808                                         /o-portalu 2020-08-25   \n",
       "466809  /lekcja/matematyka,5ddf4e5d145d314ab2186b85a3f... 2020-08-26   \n",
       "466810  /lekcja/biologia,72a455ccfd13444e4802c24cf6b5c509 2020-08-27   \n",
       "466811                                                  / 2020-08-27   \n",
       "466812  /lekcja/historia,fc91800650545853437b29c46b698e1d 2020-08-28   \n",
       "466813  /lekcja/jezyk-polski,ebc08580bf98c10d8b52e600b... 2020-08-28   \n",
       "466814  /lekcja/geografia,ad5d041b1acf967d8f7450190633... 2020-08-29   \n",
       "466815                                                  / 2020-09-02   \n",
       "466816    /lekcja/fizyka,98618b4a50b9b6469588582e9a04d159 2020-09-02   \n",
       "466817                                                  / 2020-09-03   \n",
       "466818  /lekcja/biologia,43eb0ab6190bc7e8acf5d294119e22c9 2020-09-12   \n",
       "466819  /lekcja/historia,a7020fcc21842131d9a211d1e9c558fa 2020-09-18   \n",
       "466820  /lekcja/historia,a7020fcc21842131d9a211d1e9c558fa 2020-09-18   \n",
       "466821  /lekcja/historia,531d33a3cfca58f4fda2722eff0caffa 2020-10-09   \n",
       "\n",
       "       pageMainCat  Organic_code  pageMainCat_Encoded  \n",
       "0           lekcja             1                    9  \n",
       "1           Others             0                    1  \n",
       "2        o-portalu             0                    0  \n",
       "3           lekcja             1                    9  \n",
       "4           lekcja             1                    9  \n",
       "5           lekcja             1                    9  \n",
       "6           Others             0                    1  \n",
       "7           Others             0                    1  \n",
       "8           Others             0                    1  \n",
       "9        o-portalu             0                    0  \n",
       "10          Others             0                    1  \n",
       "11          Others             0                    1  \n",
       "12          lekcja             1                    9  \n",
       "13          Others             0                    1  \n",
       "14          Others             1                    1  \n",
       "15          lekcja             1                    9  \n",
       "16          lekcja             1                    9  \n",
       "17          Others             0                    1  \n",
       "18       o-portalu             0                    0  \n",
       "19          lekcja             1                    9  \n",
       "20          lekcja             0                    9  \n",
       "21          Others             0                    1  \n",
       "22          Others             0                    1  \n",
       "23          fiszki             0                    3  \n",
       "24          fiszki             0                    3  \n",
       "25          fiszki             0                    3  \n",
       "26          fiszki             0                    3  \n",
       "27          fiszki             0                    3  \n",
       "28            quiz             0                    5  \n",
       "29            quiz             0                    5  \n",
       "...            ...           ...                  ...  \n",
       "466792      lekcja             1                    9  \n",
       "466793      lekcja             0                    9  \n",
       "466794      Others             0                    1  \n",
       "466795      lekcja             0                    9  \n",
       "466796      lekcja             1                    9  \n",
       "466797      lekcja             1                    9  \n",
       "466798      lekcja             0                    9  \n",
       "466799      lekcja             1                    9  \n",
       "466800      Others             0                    1  \n",
       "466801      lekcja             1                    9  \n",
       "466802      lekcja             1                    9  \n",
       "466803      lekcja             1                    9  \n",
       "466804      lekcja             1                    9  \n",
       "466805      lekcja             1                    9  \n",
       "466806   o-portalu             0                    0  \n",
       "466807   o-portalu             0                    0  \n",
       "466808   o-portalu             0                    0  \n",
       "466809      lekcja             0                    9  \n",
       "466810      lekcja             1                    9  \n",
       "466811      Others             0                    1  \n",
       "466812      lekcja             1                    9  \n",
       "466813      lekcja             1                    9  \n",
       "466814      lekcja             1                    9  \n",
       "466815      Others             0                    1  \n",
       "466816      lekcja             0                    9  \n",
       "466817      Others             0                    1  \n",
       "466818      lekcja             1                    9  \n",
       "466819      lekcja             1                    9  \n",
       "466820      lekcja             0                    9  \n",
       "466821      lekcja             1                    9  \n",
       "\n",
       "[466822 rows x 7 columns]"
      ]
     },
     "execution_count": 22,
     "metadata": {},
     "output_type": "execute_result"
    }
   ],
   "source": [
    "df_specific.head()"
   ]
  },
  {
   "cell_type": "code",
   "execution_count": 23,
   "metadata": {},
   "outputs": [
    {
     "data": {
      "text/html": [
       "<div>\n",
       "<style scoped>\n",
       "    .dataframe tbody tr th:only-of-type {\n",
       "        vertical-align: middle;\n",
       "    }\n",
       "\n",
       "    .dataframe tbody tr th {\n",
       "        vertical-align: top;\n",
       "    }\n",
       "\n",
       "    .dataframe thead th {\n",
       "        text-align: right;\n",
       "    }\n",
       "</style>\n",
       "<table border=\"1\" class=\"dataframe\">\n",
       "  <thead>\n",
       "    <tr style=\"text-align: right;\">\n",
       "      <th></th>\n",
       "      <th>client_id</th>\n",
       "      <th>action_time</th>\n",
       "      <th>pagePath</th>\n",
       "      <th>medium</th>\n",
       "      <th>date</th>\n",
       "      <th>pageMainCat_Others</th>\n",
       "      <th>pageMainCat_fiszki</th>\n",
       "      <th>pageMainCat_fiszki-i-quizy</th>\n",
       "      <th>pageMainCat_kategorie</th>\n",
       "      <th>pageMainCat_lekcja</th>\n",
       "      <th>pageMainCat_lesson/preview</th>\n",
       "      <th>pageMainCat_o-portalu</th>\n",
       "      <th>pageMainCat_quiz</th>\n",
       "      <th>pageMainCat_sprawdz-sie</th>\n",
       "      <th>pageMainCat_szukaj</th>\n",
       "    </tr>\n",
       "  </thead>\n",
       "  <tbody>\n",
       "    <tr>\n",
       "      <th>0</th>\n",
       "      <td>d0a213b0718cd0e10475ce11d893c3cc</td>\n",
       "      <td>15:38:27</td>\n",
       "      <td>/lekcja/biologia,75f95eb9a371db8c2ea854da85219502</td>\n",
       "      <td>organic</td>\n",
       "      <td>2020-07-29</td>\n",
       "      <td>0</td>\n",
       "      <td>0</td>\n",
       "      <td>0</td>\n",
       "      <td>0</td>\n",
       "      <td>1</td>\n",
       "      <td>0</td>\n",
       "      <td>0</td>\n",
       "      <td>0</td>\n",
       "      <td>0</td>\n",
       "      <td>0</td>\n",
       "    </tr>\n",
       "    <tr>\n",
       "      <th>1</th>\n",
       "      <td>4416f6ec763cc9e65ca17482d3960971</td>\n",
       "      <td>21:03:06</td>\n",
       "      <td>/</td>\n",
       "      <td>(not set)</td>\n",
       "      <td>2020-07-29</td>\n",
       "      <td>1</td>\n",
       "      <td>0</td>\n",
       "      <td>0</td>\n",
       "      <td>0</td>\n",
       "      <td>0</td>\n",
       "      <td>0</td>\n",
       "      <td>0</td>\n",
       "      <td>0</td>\n",
       "      <td>0</td>\n",
       "      <td>0</td>\n",
       "    </tr>\n",
       "    <tr>\n",
       "      <th>2</th>\n",
       "      <td>c3d6e02ad3e2a781dba7c48a4d354199</td>\n",
       "      <td>07:51:28</td>\n",
       "      <td>/o-portalu</td>\n",
       "      <td>banner</td>\n",
       "      <td>2020-07-29</td>\n",
       "      <td>0</td>\n",
       "      <td>0</td>\n",
       "      <td>0</td>\n",
       "      <td>0</td>\n",
       "      <td>0</td>\n",
       "      <td>0</td>\n",
       "      <td>1</td>\n",
       "      <td>0</td>\n",
       "      <td>0</td>\n",
       "      <td>0</td>\n",
       "    </tr>\n",
       "    <tr>\n",
       "      <th>3</th>\n",
       "      <td>3bd4feb129163c7889a70d3d12c6e82d</td>\n",
       "      <td>12:23:00</td>\n",
       "      <td>/lekcja/geografia,12901cca29551ad7d556962231a1...</td>\n",
       "      <td>organic</td>\n",
       "      <td>2020-07-29</td>\n",
       "      <td>0</td>\n",
       "      <td>0</td>\n",
       "      <td>0</td>\n",
       "      <td>0</td>\n",
       "      <td>1</td>\n",
       "      <td>0</td>\n",
       "      <td>0</td>\n",
       "      <td>0</td>\n",
       "      <td>0</td>\n",
       "      <td>0</td>\n",
       "    </tr>\n",
       "    <tr>\n",
       "      <th>4</th>\n",
       "      <td>3d90c06c313a2120ce98ff14b6581570</td>\n",
       "      <td>12:27:30</td>\n",
       "      <td>/lekcja/jezyk-polski,c106aef9f68b2b03b8afe7d89...</td>\n",
       "      <td>organic</td>\n",
       "      <td>2020-07-29</td>\n",
       "      <td>0</td>\n",
       "      <td>0</td>\n",
       "      <td>0</td>\n",
       "      <td>0</td>\n",
       "      <td>1</td>\n",
       "      <td>0</td>\n",
       "      <td>0</td>\n",
       "      <td>0</td>\n",
       "      <td>0</td>\n",
       "      <td>0</td>\n",
       "    </tr>\n",
       "  </tbody>\n",
       "</table>\n",
       "</div>"
      ],
      "text/plain": [
       "                          client_id action_time  \\\n",
       "0  d0a213b0718cd0e10475ce11d893c3cc    15:38:27   \n",
       "1  4416f6ec763cc9e65ca17482d3960971    21:03:06   \n",
       "2  c3d6e02ad3e2a781dba7c48a4d354199    07:51:28   \n",
       "3  3bd4feb129163c7889a70d3d12c6e82d    12:23:00   \n",
       "4  3d90c06c313a2120ce98ff14b6581570    12:27:30   \n",
       "\n",
       "                                            pagePath     medium       date  \\\n",
       "0  /lekcja/biologia,75f95eb9a371db8c2ea854da85219502    organic 2020-07-29   \n",
       "1                                                  /  (not set) 2020-07-29   \n",
       "2                                         /o-portalu     banner 2020-07-29   \n",
       "3  /lekcja/geografia,12901cca29551ad7d556962231a1...    organic 2020-07-29   \n",
       "4  /lekcja/jezyk-polski,c106aef9f68b2b03b8afe7d89...    organic 2020-07-29   \n",
       "\n",
       "   pageMainCat_Others  pageMainCat_fiszki  pageMainCat_fiszki-i-quizy  \\\n",
       "0                   0                   0                           0   \n",
       "1                   1                   0                           0   \n",
       "2                   0                   0                           0   \n",
       "3                   0                   0                           0   \n",
       "4                   0                   0                           0   \n",
       "\n",
       "   pageMainCat_kategorie  pageMainCat_lekcja  pageMainCat_lesson/preview  \\\n",
       "0                      0                   1                           0   \n",
       "1                      0                   0                           0   \n",
       "2                      0                   0                           0   \n",
       "3                      0                   1                           0   \n",
       "4                      0                   1                           0   \n",
       "\n",
       "   pageMainCat_o-portalu  pageMainCat_quiz  pageMainCat_sprawdz-sie  \\\n",
       "0                      0                 0                        0   \n",
       "1                      0                 0                        0   \n",
       "2                      1                 0                        0   \n",
       "3                      0                 0                        0   \n",
       "4                      0                 0                        0   \n",
       "\n",
       "   pageMainCat_szukaj  \n",
       "0                   0  \n",
       "1                   0  \n",
       "2                   0  \n",
       "3                   0  \n",
       "4                   0  "
      ]
     },
     "execution_count": 23,
     "metadata": {},
     "output_type": "execute_result"
    }
   ],
   "source": [
    "df_onehot = df.copy()\n",
    "df_onehot = pd.get_dummies(df_onehot, columns=[\"pageMainCat\"], prefix = [\"pageMainCat\"])\n",
    "\n",
    "df_onehot.head()"
   ]
  },
  {
   "cell_type": "markdown",
   "metadata": {},
   "source": [
    "Kodowanie zmiennych \"pageMainCat\" za pomocą metody *One Hot Encoding*."
   ]
  },
  {
   "cell_type": "markdown",
   "metadata": {},
   "source": [
    "Obliczenie Współczynnika V Craméra pomiędzy kolumnami \"Organic_code\" i \"pageMainCat_Encoded\"."
   ]
  },
  {
   "cell_type": "code",
   "execution_count": 24,
   "metadata": {},
   "outputs": [
    {
     "name": "stderr",
     "output_type": "stream",
     "text": [
      "C:\\Users\\Krzysztof\\Anaconda3\\lib\\site-packages\\ipykernel_launcher.py:11: FutureWarning: Method .as_matrix will be removed in a future version. Use .values instead.\n",
      "  # This is added back by InteractiveShellApp.init_path()\n"
     ]
    },
    {
     "data": {
      "text/plain": [
       "0.6621484147835432"
      ]
     },
     "execution_count": 24,
     "metadata": {},
     "output_type": "execute_result"
    }
   ],
   "source": [
    "def cramers_v(confusion_matrix):\n",
    "    chi2 = ss.chi2_contingency(confusion_matrix)[0]\n",
    "    n = confusion_matrix.sum()\n",
    "    phi2 = chi2 / n\n",
    "    r, k = confusion_matrix.shape\n",
    "    phi2corr = max(0, phi2 - ((k-1)*(r-1))/(n-1))\n",
    "    rcorr = r - ((r-1)**2)/(n-1)\n",
    "    kcorr = k - ((k-1)**2)/(n-1)\n",
    "    return np.sqrt(phi2corr / min((kcorr-1), (rcorr-1)))\n",
    "\n",
    "confusion_matrix = pd.crosstab(df_specific[\"Organic_code\"], df_specific[\"pageMainCat_Encoded\"]).as_matrix()\n",
    "cramers_v(confusion_matrix)"
   ]
  },
  {
   "cell_type": "markdown",
   "metadata": {},
   "source": [
    "Zachodzi silna korelacja pomiędzy wejściem na stronę przez wyszukiwarkę (organic), a głównymi kategoriami, na które wchodzą używtkownicy."
   ]
  },
  {
   "cell_type": "markdown",
   "metadata": {},
   "source": [
    " "
   ]
  },
  {
   "cell_type": "code",
   "execution_count": 25,
   "metadata": {},
   "outputs": [
    {
     "name": "stderr",
     "output_type": "stream",
     "text": [
      "C:\\Users\\Krzysztof\\Anaconda3\\lib\\site-packages\\ipykernel_launcher.py:1: FutureWarning: Method .as_matrix will be removed in a future version. Use .values instead.\n",
      "  \"\"\"Entry point for launching an IPython kernel.\n",
      "C:\\Users\\Krzysztof\\Anaconda3\\lib\\site-packages\\ipykernel_launcher.py:2: FutureWarning: Method .as_matrix will be removed in a future version. Use .values instead.\n",
      "  \n",
      "C:\\Users\\Krzysztof\\Anaconda3\\lib\\site-packages\\ipykernel_launcher.py:3: FutureWarning: Method .as_matrix will be removed in a future version. Use .values instead.\n",
      "  This is separate from the ipykernel package so we can avoid doing imports until\n",
      "C:\\Users\\Krzysztof\\Anaconda3\\lib\\site-packages\\ipykernel_launcher.py:4: FutureWarning: Method .as_matrix will be removed in a future version. Use .values instead.\n",
      "  after removing the cwd from sys.path.\n",
      "C:\\Users\\Krzysztof\\Anaconda3\\lib\\site-packages\\ipykernel_launcher.py:5: FutureWarning: Method .as_matrix will be removed in a future version. Use .values instead.\n",
      "  \"\"\"\n",
      "C:\\Users\\Krzysztof\\Anaconda3\\lib\\site-packages\\ipykernel_launcher.py:6: FutureWarning: Method .as_matrix will be removed in a future version. Use .values instead.\n",
      "  \n",
      "C:\\Users\\Krzysztof\\Anaconda3\\lib\\site-packages\\ipykernel_launcher.py:7: FutureWarning: Method .as_matrix will be removed in a future version. Use .values instead.\n",
      "  import sys\n",
      "C:\\Users\\Krzysztof\\Anaconda3\\lib\\site-packages\\ipykernel_launcher.py:8: FutureWarning: Method .as_matrix will be removed in a future version. Use .values instead.\n",
      "  \n",
      "C:\\Users\\Krzysztof\\Anaconda3\\lib\\site-packages\\ipykernel_launcher.py:9: FutureWarning: Method .as_matrix will be removed in a future version. Use .values instead.\n",
      "  if __name__ == '__main__':\n",
      "C:\\Users\\Krzysztof\\Anaconda3\\lib\\site-packages\\ipykernel_launcher.py:10: FutureWarning: Method .as_matrix will be removed in a future version. Use .values instead.\n",
      "  # Remove the CWD from sys.path while we load stuff.\n"
     ]
    }
   ],
   "source": [
    "cm_Others = pd.crosstab(df_specific[\"Organic_code\"], df_onehot[\"pageMainCat_Others\"]).as_matrix()\n",
    "cm_fiszki = pd.crosstab(df_specific[\"Organic_code\"], df_onehot[\"pageMainCat_fiszki\"]).as_matrix()\n",
    "cm_fiszki_i_quizy = pd.crosstab(df_specific[\"Organic_code\"], df_onehot[\"pageMainCat_fiszki-i-quizy\"]).as_matrix()\n",
    "cm_kategorie = pd.crosstab(df_specific[\"Organic_code\"], df_onehot[\"pageMainCat_kategorie\"]).as_matrix()\n",
    "cm_lekcja = pd.crosstab(df_specific[\"Organic_code\"], df_onehot[\"pageMainCat_lekcja\"]).as_matrix()\n",
    "cm_lesson_preview = pd.crosstab(df_specific[\"Organic_code\"], df_onehot[\"pageMainCat_lesson/preview\"]).as_matrix()\n",
    "cm_o_portalu = pd.crosstab(df_specific[\"Organic_code\"], df_onehot[\"pageMainCat_o-portalu\"]).as_matrix()\n",
    "cm_quiz = pd.crosstab(df_specific[\"Organic_code\"], df_onehot[\"pageMainCat_quiz\"]).as_matrix()\n",
    "cm_sprawdz_sie = pd.crosstab(df_specific[\"Organic_code\"], df_onehot[\"pageMainCat_sprawdz-sie\"]).as_matrix()\n",
    "cm_szukaj = pd.crosstab(df_specific[\"Organic_code\"], df_onehot[\"pageMainCat_szukaj\"]).as_matrix()"
   ]
  },
  {
   "cell_type": "code",
   "execution_count": 26,
   "metadata": {},
   "outputs": [
    {
     "data": {
      "text/html": [
       "<div>\n",
       "<style scoped>\n",
       "    .dataframe tbody tr th:only-of-type {\n",
       "        vertical-align: middle;\n",
       "    }\n",
       "\n",
       "    .dataframe tbody tr th {\n",
       "        vertical-align: top;\n",
       "    }\n",
       "\n",
       "    .dataframe thead th {\n",
       "        text-align: right;\n",
       "    }\n",
       "</style>\n",
       "<table border=\"1\" class=\"dataframe\">\n",
       "  <thead>\n",
       "    <tr style=\"text-align: right;\">\n",
       "      <th></th>\n",
       "      <th>Kategoria</th>\n",
       "      <th>Współczynnik V Craméra</th>\n",
       "    </tr>\n",
       "  </thead>\n",
       "  <tbody>\n",
       "    <tr>\n",
       "      <th>0</th>\n",
       "      <td>lekcja</td>\n",
       "      <td>0.637651</td>\n",
       "    </tr>\n",
       "    <tr>\n",
       "      <th>1</th>\n",
       "      <td>Others</td>\n",
       "      <td>0.355948</td>\n",
       "    </tr>\n",
       "    <tr>\n",
       "      <th>2</th>\n",
       "      <td>fiszki</td>\n",
       "      <td>0.174430</td>\n",
       "    </tr>\n",
       "    <tr>\n",
       "      <th>3</th>\n",
       "      <td>quiz</td>\n",
       "      <td>0.159084</td>\n",
       "    </tr>\n",
       "    <tr>\n",
       "      <th>4</th>\n",
       "      <td>kategorie</td>\n",
       "      <td>0.069299</td>\n",
       "    </tr>\n",
       "    <tr>\n",
       "      <th>5</th>\n",
       "      <td>lesson_preview</td>\n",
       "      <td>0.024324</td>\n",
       "    </tr>\n",
       "    <tr>\n",
       "      <th>6</th>\n",
       "      <td>fiszki_i_quizy</td>\n",
       "      <td>0.015139</td>\n",
       "    </tr>\n",
       "    <tr>\n",
       "      <th>7</th>\n",
       "      <td>szukaj</td>\n",
       "      <td>0.017261</td>\n",
       "    </tr>\n",
       "    <tr>\n",
       "      <th>8</th>\n",
       "      <td>sprawdz_sie</td>\n",
       "      <td>0.001001</td>\n",
       "    </tr>\n",
       "  </tbody>\n",
       "</table>\n",
       "</div>"
      ],
      "text/plain": [
       "        Kategoria  Współczynnik V Craméra\n",
       "0          lekcja                0.637651\n",
       "1          Others                0.355948\n",
       "2          fiszki                0.174430\n",
       "3            quiz                0.159084\n",
       "4       kategorie                0.069299\n",
       "5  lesson_preview                0.024324\n",
       "6  fiszki_i_quizy                0.015139\n",
       "7          szukaj                0.017261\n",
       "8     sprawdz_sie                0.001001"
      ]
     },
     "execution_count": 26,
     "metadata": {},
     "output_type": "execute_result"
    }
   ],
   "source": [
    "data = {\"Kategoria\":  [\"lekcja\", \"Others\",\"fiszki\",\"quiz\",\"kategorie\", \"lesson_preview\", \"fiszki_i_quizy\", \"szukaj\", \"sprawdz_sie\"],\n",
    "        \"Współczynnik V Craméra\": [cramers_v(cm_lekcja), cramers_v(cm_Others) ,cramers_v(cm_fiszki), cramers_v(cm_quiz),\n",
    "                                   cramers_v(cm_kategorie), cramers_v(cm_lesson_preview), cramers_v(cm_fiszki_i_quizy),\n",
    "                                  cramers_v(cm_szukaj), cramers_v(cm_sprawdz_sie)]\n",
    "        }\n",
    "\n",
    "Cramér = pd.DataFrame (data, columns = [\"Kategoria\",\"Współczynnik V Craméra\"])\n",
    "\n",
    "Cramér"
   ]
  },
  {
   "cell_type": "markdown",
   "metadata": {},
   "source": [
    "Po sprawdzeniu Współczynnika korelacji V Cramera, można określić, że z pośród rozpatrywanych kategorii, jedynie \"lekcja\" wykazuje realną korelację z wejściem na stronę przez wyszukiwarkę (organic). "
   ]
  },
  {
   "cell_type": "markdown",
   "metadata": {},
   "source": [
    " "
   ]
  },
  {
   "cell_type": "code",
   "execution_count": 27,
   "metadata": {},
   "outputs": [],
   "source": [
    "df_onehot['week'] = df_onehot['date'].dt.week"
   ]
  },
  {
   "cell_type": "code",
   "execution_count": 28,
   "metadata": {},
   "outputs": [
    {
     "data": {
      "text/plain": [
       "34    134390\n",
       "33    128802\n",
       "32    117908\n",
       "31     85696\n",
       "35        19\n",
       "36         3\n",
       "38         2\n",
       "41         1\n",
       "37         1\n",
       "Name: week, dtype: int64"
      ]
     },
     "execution_count": 28,
     "metadata": {},
     "output_type": "execute_result"
    }
   ],
   "source": [
    "df_onehot['week'].value_counts()"
   ]
  },
  {
   "cell_type": "markdown",
   "metadata": {},
   "source": [
    "Zmiana dat na numery tygodnia w roku."
   ]
  },
  {
   "cell_type": "markdown",
   "metadata": {},
   "source": [
    " "
   ]
  },
  {
   "cell_type": "code",
   "execution_count": 29,
   "metadata": {},
   "outputs": [],
   "source": [
    "df_onehot = pd.get_dummies(df_onehot, columns=[\"medium\"], prefix = [\"medium\"])"
   ]
  },
  {
   "cell_type": "markdown",
   "metadata": {},
   "source": [
    "Kodowanie kolumny \"medium\" za pomocą metody *One Hot Encoding*."
   ]
  },
  {
   "cell_type": "code",
   "execution_count": 30,
   "metadata": {},
   "outputs": [],
   "source": [
    "df_onehot[\"client_id_count\"] = df.groupby(\"client_id\")[\"client_id\"].transform(\"count\")\n",
    "df_onehot = df_onehot.sort_values(\"client_id_count\", ascending=False)"
   ]
  },
  {
   "cell_type": "code",
   "execution_count": 31,
   "metadata": {},
   "outputs": [
    {
     "data": {
      "text/html": [
       "<div>\n",
       "<style scoped>\n",
       "    .dataframe tbody tr th:only-of-type {\n",
       "        vertical-align: middle;\n",
       "    }\n",
       "\n",
       "    .dataframe tbody tr th {\n",
       "        vertical-align: top;\n",
       "    }\n",
       "\n",
       "    .dataframe thead th {\n",
       "        text-align: right;\n",
       "    }\n",
       "</style>\n",
       "<table border=\"1\" class=\"dataframe\">\n",
       "  <thead>\n",
       "    <tr style=\"text-align: right;\">\n",
       "      <th></th>\n",
       "      <th>client_id</th>\n",
       "      <th>action_time</th>\n",
       "      <th>pagePath</th>\n",
       "      <th>date</th>\n",
       "      <th>pageMainCat_Others</th>\n",
       "      <th>pageMainCat_fiszki</th>\n",
       "      <th>pageMainCat_fiszki-i-quizy</th>\n",
       "      <th>pageMainCat_kategorie</th>\n",
       "      <th>pageMainCat_lekcja</th>\n",
       "      <th>pageMainCat_lesson/preview</th>\n",
       "      <th>...</th>\n",
       "      <th>medium_banner</th>\n",
       "      <th>medium_cpc</th>\n",
       "      <th>medium_email</th>\n",
       "      <th>medium_link</th>\n",
       "      <th>medium_organic</th>\n",
       "      <th>medium_post</th>\n",
       "      <th>medium_referral</th>\n",
       "      <th>medium_webpush</th>\n",
       "      <th>client_id_count</th>\n",
       "      <th>client_id_code</th>\n",
       "    </tr>\n",
       "  </thead>\n",
       "  <tbody>\n",
       "    <tr>\n",
       "      <th>354859</th>\n",
       "      <td>64e4c7ca28927cfd62a503e100afe752</td>\n",
       "      <td>10:39:30</td>\n",
       "      <td>/quiz/54497bf1-8dc1-44c2-ac4c-5971db09520d</td>\n",
       "      <td>2020-08-17</td>\n",
       "      <td>0</td>\n",
       "      <td>0</td>\n",
       "      <td>0</td>\n",
       "      <td>0</td>\n",
       "      <td>0</td>\n",
       "      <td>0</td>\n",
       "      <td>...</td>\n",
       "      <td>0</td>\n",
       "      <td>0</td>\n",
       "      <td>0</td>\n",
       "      <td>0</td>\n",
       "      <td>0</td>\n",
       "      <td>0</td>\n",
       "      <td>1</td>\n",
       "      <td>0</td>\n",
       "      <td>855</td>\n",
       "      <td>1</td>\n",
       "    </tr>\n",
       "    <tr>\n",
       "      <th>257997</th>\n",
       "      <td>64e4c7ca28927cfd62a503e100afe752</td>\n",
       "      <td>17:56:16</td>\n",
       "      <td>/quiz/2cb641e5-c87b-44e9-8c1b-6ba18824923b</td>\n",
       "      <td>2020-08-13</td>\n",
       "      <td>0</td>\n",
       "      <td>0</td>\n",
       "      <td>0</td>\n",
       "      <td>0</td>\n",
       "      <td>0</td>\n",
       "      <td>0</td>\n",
       "      <td>...</td>\n",
       "      <td>0</td>\n",
       "      <td>0</td>\n",
       "      <td>0</td>\n",
       "      <td>0</td>\n",
       "      <td>0</td>\n",
       "      <td>0</td>\n",
       "      <td>1</td>\n",
       "      <td>0</td>\n",
       "      <td>855</td>\n",
       "      <td>1</td>\n",
       "    </tr>\n",
       "    <tr>\n",
       "      <th>448085</th>\n",
       "      <td>64e4c7ca28927cfd62a503e100afe752</td>\n",
       "      <td>03:09:59</td>\n",
       "      <td>/quiz/3842787b-6012-464d-b4d0-3a7a8aabc0f1</td>\n",
       "      <td>2020-08-22</td>\n",
       "      <td>0</td>\n",
       "      <td>0</td>\n",
       "      <td>0</td>\n",
       "      <td>0</td>\n",
       "      <td>0</td>\n",
       "      <td>0</td>\n",
       "      <td>...</td>\n",
       "      <td>0</td>\n",
       "      <td>0</td>\n",
       "      <td>0</td>\n",
       "      <td>0</td>\n",
       "      <td>0</td>\n",
       "      <td>0</td>\n",
       "      <td>1</td>\n",
       "      <td>0</td>\n",
       "      <td>855</td>\n",
       "      <td>1</td>\n",
       "    </tr>\n",
       "    <tr>\n",
       "      <th>448086</th>\n",
       "      <td>64e4c7ca28927cfd62a503e100afe752</td>\n",
       "      <td>03:10:04</td>\n",
       "      <td>/quiz/3842787b-6012-464d-b4d0-3a7a8aabc0f1</td>\n",
       "      <td>2020-08-22</td>\n",
       "      <td>0</td>\n",
       "      <td>0</td>\n",
       "      <td>0</td>\n",
       "      <td>0</td>\n",
       "      <td>0</td>\n",
       "      <td>0</td>\n",
       "      <td>...</td>\n",
       "      <td>0</td>\n",
       "      <td>0</td>\n",
       "      <td>0</td>\n",
       "      <td>0</td>\n",
       "      <td>0</td>\n",
       "      <td>0</td>\n",
       "      <td>1</td>\n",
       "      <td>0</td>\n",
       "      <td>855</td>\n",
       "      <td>1</td>\n",
       "    </tr>\n",
       "    <tr>\n",
       "      <th>448087</th>\n",
       "      <td>64e4c7ca28927cfd62a503e100afe752</td>\n",
       "      <td>03:10:08</td>\n",
       "      <td>/quiz/3842787b-6012-464d-b4d0-3a7a8aabc0f1</td>\n",
       "      <td>2020-08-22</td>\n",
       "      <td>0</td>\n",
       "      <td>0</td>\n",
       "      <td>0</td>\n",
       "      <td>0</td>\n",
       "      <td>0</td>\n",
       "      <td>0</td>\n",
       "      <td>...</td>\n",
       "      <td>0</td>\n",
       "      <td>0</td>\n",
       "      <td>0</td>\n",
       "      <td>0</td>\n",
       "      <td>0</td>\n",
       "      <td>0</td>\n",
       "      <td>1</td>\n",
       "      <td>0</td>\n",
       "      <td>855</td>\n",
       "      <td>1</td>\n",
       "    </tr>\n",
       "  </tbody>\n",
       "</table>\n",
       "<p>5 rows × 27 columns</p>\n",
       "</div>"
      ],
      "text/plain": [
       "                               client_id action_time  \\\n",
       "354859  64e4c7ca28927cfd62a503e100afe752    10:39:30   \n",
       "257997  64e4c7ca28927cfd62a503e100afe752    17:56:16   \n",
       "448085  64e4c7ca28927cfd62a503e100afe752    03:09:59   \n",
       "448086  64e4c7ca28927cfd62a503e100afe752    03:10:04   \n",
       "448087  64e4c7ca28927cfd62a503e100afe752    03:10:08   \n",
       "\n",
       "                                          pagePath       date  \\\n",
       "354859  /quiz/54497bf1-8dc1-44c2-ac4c-5971db09520d 2020-08-17   \n",
       "257997  /quiz/2cb641e5-c87b-44e9-8c1b-6ba18824923b 2020-08-13   \n",
       "448085  /quiz/3842787b-6012-464d-b4d0-3a7a8aabc0f1 2020-08-22   \n",
       "448086  /quiz/3842787b-6012-464d-b4d0-3a7a8aabc0f1 2020-08-22   \n",
       "448087  /quiz/3842787b-6012-464d-b4d0-3a7a8aabc0f1 2020-08-22   \n",
       "\n",
       "        pageMainCat_Others  pageMainCat_fiszki  pageMainCat_fiszki-i-quizy  \\\n",
       "354859                   0                   0                           0   \n",
       "257997                   0                   0                           0   \n",
       "448085                   0                   0                           0   \n",
       "448086                   0                   0                           0   \n",
       "448087                   0                   0                           0   \n",
       "\n",
       "        pageMainCat_kategorie  pageMainCat_lekcja  pageMainCat_lesson/preview  \\\n",
       "354859                      0                   0                           0   \n",
       "257997                      0                   0                           0   \n",
       "448085                      0                   0                           0   \n",
       "448086                      0                   0                           0   \n",
       "448087                      0                   0                           0   \n",
       "\n",
       "        ...  medium_banner  medium_cpc  medium_email  medium_link  \\\n",
       "354859  ...              0           0             0            0   \n",
       "257997  ...              0           0             0            0   \n",
       "448085  ...              0           0             0            0   \n",
       "448086  ...              0           0             0            0   \n",
       "448087  ...              0           0             0            0   \n",
       "\n",
       "        medium_organic  medium_post  medium_referral  medium_webpush  \\\n",
       "354859               0            0                1               0   \n",
       "257997               0            0                1               0   \n",
       "448085               0            0                1               0   \n",
       "448086               0            0                1               0   \n",
       "448087               0            0                1               0   \n",
       "\n",
       "        client_id_count  client_id_code  \n",
       "354859              855               1  \n",
       "257997              855               1  \n",
       "448085              855               1  \n",
       "448086              855               1  \n",
       "448087              855               1  \n",
       "\n",
       "[5 rows x 27 columns]"
      ]
     },
     "execution_count": 31,
     "metadata": {},
     "output_type": "execute_result"
    }
   ],
   "source": [
    "df_onehot[\"client_id_code\"] = np.where(df_onehot[\"client_id_count\"] == 1, 0, 1)\n",
    "df_onehot.head()"
   ]
  },
  {
   "cell_type": "markdown",
   "metadata": {},
   "source": [
    "Utworzenie kolumny Kodowanie kolumny \"client_id_count\" z liczebnością wejść każdego z klientów na stronę.\n",
    "Kodowanie kolumny \"client_id_code\", gdzie wejście na stronę więcej niż raz przyjmuje wartość jeden, a pojedyncze wejście przyjmuje wartość zero."
   ]
  },
  {
   "cell_type": "markdown",
   "metadata": {},
   "source": [
    " "
   ]
  },
  {
   "cell_type": "code",
   "execution_count": 32,
   "metadata": {},
   "outputs": [],
   "source": [
    "df_onehot = df_onehot.drop([\"client_id\", \"client_id_count\", \"pagePath\", \"action_time\", \"date\"], axis = 1) "
   ]
  },
  {
   "cell_type": "markdown",
   "metadata": {},
   "source": [
    "Usunięcie niepotrzebnych do dalszej analizy kolumn"
   ]
  },
  {
   "cell_type": "code",
   "execution_count": 33,
   "metadata": {},
   "outputs": [
    {
     "data": {
      "text/plain": [
       "Index(['pageMainCat_Others', 'pageMainCat_fiszki',\n",
       "       'pageMainCat_fiszki-i-quizy', 'pageMainCat_kategorie',\n",
       "       'pageMainCat_lekcja', 'pageMainCat_lesson/preview',\n",
       "       'pageMainCat_o-portalu', 'pageMainCat_quiz', 'pageMainCat_sprawdz-sie',\n",
       "       'pageMainCat_szukaj', 'week', 'medium_(none)', 'medium_(not set)',\n",
       "       'medium_banner', 'medium_cpc', 'medium_email', 'medium_link',\n",
       "       'medium_organic', 'medium_post', 'medium_referral', 'medium_webpush',\n",
       "       'client_id_code'],\n",
       "      dtype='object')"
      ]
     },
     "execution_count": 33,
     "metadata": {},
     "output_type": "execute_result"
    }
   ],
   "source": [
    "df_onehot.columns"
   ]
  },
  {
   "cell_type": "markdown",
   "metadata": {},
   "source": [
    " "
   ]
  },
  {
   "cell_type": "markdown",
   "metadata": {},
   "source": [
    "W dalszej części, zbudowany zostanie model drzewa decyzyjnego"
   ]
  },
  {
   "cell_type": "code",
   "execution_count": 34,
   "metadata": {},
   "outputs": [],
   "source": [
    "X = np.asarray(df_onehot.iloc[:, :-1].values )\n",
    "Y = np.asarray(df_onehot.iloc[:, -1].values)"
   ]
  },
  {
   "cell_type": "code",
   "execution_count": 35,
   "metadata": {},
   "outputs": [],
   "source": [
    "X_train, X_test, y_train, y_test = train_test_split(X, Y, test_size=0.33, shuffle= True)"
   ]
  },
  {
   "cell_type": "code",
   "execution_count": 36,
   "metadata": {},
   "outputs": [],
   "source": [
    "clf = DecisionTreeClassifier()\n",
    "\n",
    "clf = clf.fit(X_train,y_train)\n",
    "\n",
    "y_pred = clf.predict(X_test)"
   ]
  },
  {
   "cell_type": "code",
   "execution_count": 37,
   "metadata": {},
   "outputs": [
    {
     "name": "stdout",
     "output_type": "stream",
     "text": [
      "Accuracy: 0.7297990288993327\n"
     ]
    }
   ],
   "source": [
    "print(\"Accuracy:\",metrics.accuracy_score(y_test, y_pred))"
   ]
  },
  {
   "cell_type": "markdown",
   "metadata": {},
   "source": [
    "Model osiąga 72% skuteczność."
   ]
  },
  {
   "cell_type": "code",
   "execution_count": 38,
   "metadata": {},
   "outputs": [
    {
     "data": {
      "text/plain": [
       "array([6.53060015e-02, 3.13164419e-08, 2.89840279e-03, 1.76085444e-02,\n",
       "       5.57958431e-01, 7.30945640e-09, 2.17352581e-01, 7.88782106e-07,\n",
       "       2.41555309e-04, 2.35854282e-05, 5.36696294e-03, 0.00000000e+00,\n",
       "       3.95272857e-03, 1.45524603e-02, 8.45488444e-03, 1.31121346e-03,\n",
       "       2.64085638e-05, 1.03877835e-01, 8.54267853e-04, 1.29687419e-04,\n",
       "       8.36234824e-05])"
      ]
     },
     "execution_count": 38,
     "metadata": {},
     "output_type": "execute_result"
    }
   ],
   "source": [
    "clf.feature_importances_"
   ]
  },
  {
   "cell_type": "code",
   "execution_count": 39,
   "metadata": {},
   "outputs": [],
   "source": [
    "training_columns = list(df_onehot.columns)\n",
    "training_columns.remove(\"client_id_code\")"
   ]
  },
  {
   "cell_type": "code",
   "execution_count": 40,
   "metadata": {},
   "outputs": [],
   "source": [
    "columns_importance = {col_name: col_importance for col_name, col_importance in zip (training_columns, clf.feature_importances_)}"
   ]
  },
  {
   "cell_type": "code",
   "execution_count": 41,
   "metadata": {
    "scrolled": true
   },
   "outputs": [
    {
     "data": {
      "text/plain": [
       "{'pageMainCat_Others': 0.06530600152743679,\n",
       " 'pageMainCat_fiszki': 3.131644188466016e-08,\n",
       " 'pageMainCat_fiszki-i-quizy': 0.0028984027876419846,\n",
       " 'pageMainCat_kategorie': 0.01760854435099654,\n",
       " 'pageMainCat_lekcja': 0.5579584309211464,\n",
       " 'pageMainCat_lesson/preview': 7.309456402636785e-09,\n",
       " 'pageMainCat_o-portalu': 0.21735258057515017,\n",
       " 'pageMainCat_quiz': 7.887821063945671e-07,\n",
       " 'pageMainCat_sprawdz-sie': 0.00024155530874176166,\n",
       " 'pageMainCat_szukaj': 2.358542824629955e-05,\n",
       " 'week': 0.005366962944437516,\n",
       " 'medium_(none)': 0.0,\n",
       " 'medium_(not set)': 0.0039527285699402556,\n",
       " 'medium_banner': 0.014552460333708892,\n",
       " 'medium_cpc': 0.00845488443864681,\n",
       " 'medium_email': 0.0013112134571617738,\n",
       " 'medium_link': 2.6408563842692038e-05,\n",
       " 'medium_organic': 0.10387783462962412,\n",
       " 'medium_post': 0.0008542678534854969,\n",
       " 'medium_referral': 0.00012968741934857685,\n",
       " 'medium_webpush': 8.362348243909212e-05}"
      ]
     },
     "execution_count": 41,
     "metadata": {},
     "output_type": "execute_result"
    }
   ],
   "source": [
    "columns_importance"
   ]
  },
  {
   "cell_type": "markdown",
   "metadata": {},
   "source": [
    "Istotne cechy dla modelu, topowe 3 cechy: \n",
    "- pageMainCat_lekcja : 0.5578368819672135\n",
    "- pageMainCat_o-portalu: 0.21671018110846252\n",
    "- medium_organic: 0.10398994490209253"
   ]
  },
  {
   "cell_type": "code",
   "execution_count": 45,
   "metadata": {},
   "outputs": [
    {
     "data": {
      "text/html": [
       "<div>\n",
       "<style scoped>\n",
       "    .dataframe tbody tr th:only-of-type {\n",
       "        vertical-align: middle;\n",
       "    }\n",
       "\n",
       "    .dataframe tbody tr th {\n",
       "        vertical-align: top;\n",
       "    }\n",
       "\n",
       "    .dataframe thead th {\n",
       "        text-align: right;\n",
       "    }\n",
       "</style>\n",
       "<table border=\"1\" class=\"dataframe\">\n",
       "  <thead>\n",
       "    <tr style=\"text-align: right;\">\n",
       "      <th>client_id_code</th>\n",
       "      <th>0</th>\n",
       "      <th>1</th>\n",
       "    </tr>\n",
       "    <tr>\n",
       "      <th>pageMainCat_lekcja</th>\n",
       "      <th></th>\n",
       "      <th></th>\n",
       "    </tr>\n",
       "  </thead>\n",
       "  <tbody>\n",
       "    <tr>\n",
       "      <th>0</th>\n",
       "      <td>38829</td>\n",
       "      <td>182918</td>\n",
       "    </tr>\n",
       "    <tr>\n",
       "      <th>1</th>\n",
       "      <td>135328</td>\n",
       "      <td>109747</td>\n",
       "    </tr>\n",
       "  </tbody>\n",
       "</table>\n",
       "</div>"
      ],
      "text/plain": [
       "client_id_code           0       1\n",
       "pageMainCat_lekcja                \n",
       "0                    38829  182918\n",
       "1                   135328  109747"
      ]
     },
     "execution_count": 45,
     "metadata": {},
     "output_type": "execute_result"
    }
   ],
   "source": [
    "confusion_matrix_lekcja = pd.crosstab(df_onehot[\"pageMainCat_lekcja\"], df_onehot[\"client_id_code\"], rownames=[\"pageMainCat_lekcja\"], colnames=[\"client_id_code\"])\n",
    "confusion_matrix_lekcja"
   ]
  },
  {
   "cell_type": "markdown",
   "metadata": {},
   "source": [
    "Blisko 1/4 z wszystkich klientów to ci, którzy wracali na stronę i korzystało z podstron z lekcjami."
   ]
  },
  {
   "cell_type": "markdown",
   "metadata": {},
   "source": [
    " "
   ]
  },
  {
   "cell_type": "code",
   "execution_count": 46,
   "metadata": {},
   "outputs": [
    {
     "data": {
      "text/html": [
       "<div>\n",
       "<style scoped>\n",
       "    .dataframe tbody tr th:only-of-type {\n",
       "        vertical-align: middle;\n",
       "    }\n",
       "\n",
       "    .dataframe tbody tr th {\n",
       "        vertical-align: top;\n",
       "    }\n",
       "\n",
       "    .dataframe thead th {\n",
       "        text-align: right;\n",
       "    }\n",
       "</style>\n",
       "<table border=\"1\" class=\"dataframe\">\n",
       "  <thead>\n",
       "    <tr style=\"text-align: right;\">\n",
       "      <th>client_id_code</th>\n",
       "      <th>0</th>\n",
       "      <th>1</th>\n",
       "    </tr>\n",
       "    <tr>\n",
       "      <th>pageMainCat_o-portalu</th>\n",
       "      <th></th>\n",
       "      <th></th>\n",
       "    </tr>\n",
       "  </thead>\n",
       "  <tbody>\n",
       "    <tr>\n",
       "      <th>0</th>\n",
       "      <td>155728</td>\n",
       "      <td>280282</td>\n",
       "    </tr>\n",
       "    <tr>\n",
       "      <th>1</th>\n",
       "      <td>18429</td>\n",
       "      <td>12383</td>\n",
       "    </tr>\n",
       "  </tbody>\n",
       "</table>\n",
       "</div>"
      ],
      "text/plain": [
       "client_id_code              0       1\n",
       "pageMainCat_o-portalu                \n",
       "0                      155728  280282\n",
       "1                       18429   12383"
      ]
     },
     "execution_count": 46,
     "metadata": {},
     "output_type": "execute_result"
    }
   ],
   "source": [
    "confusion_matrix_o_portalu = pd.crosstab(df_onehot[\"pageMainCat_o-portalu\"], df_onehot[\"client_id_code\"], rownames=[\"pageMainCat_o-portalu\"], colnames=[\"client_id_code\"])\n",
    "confusion_matrix_o_portalu"
   ]
  },
  {
   "cell_type": "markdown",
   "metadata": {},
   "source": [
    "Z pośród klientów, którzy weszli na stronę więcej niż raz tylko ok 4% weszło z podstrony \"O portalu\"."
   ]
  },
  {
   "cell_type": "markdown",
   "metadata": {},
   "source": [
    " "
   ]
  },
  {
   "cell_type": "code",
   "execution_count": 47,
   "metadata": {},
   "outputs": [
    {
     "data": {
      "text/html": [
       "<div>\n",
       "<style scoped>\n",
       "    .dataframe tbody tr th:only-of-type {\n",
       "        vertical-align: middle;\n",
       "    }\n",
       "\n",
       "    .dataframe tbody tr th {\n",
       "        vertical-align: top;\n",
       "    }\n",
       "\n",
       "    .dataframe thead th {\n",
       "        text-align: right;\n",
       "    }\n",
       "</style>\n",
       "<table border=\"1\" class=\"dataframe\">\n",
       "  <thead>\n",
       "    <tr style=\"text-align: right;\">\n",
       "      <th>client_id_code</th>\n",
       "      <th>0</th>\n",
       "      <th>1</th>\n",
       "    </tr>\n",
       "    <tr>\n",
       "      <th>medium_organic</th>\n",
       "      <th></th>\n",
       "      <th></th>\n",
       "    </tr>\n",
       "  </thead>\n",
       "  <tbody>\n",
       "    <tr>\n",
       "      <th>0</th>\n",
       "      <td>45966</td>\n",
       "      <td>160550</td>\n",
       "    </tr>\n",
       "    <tr>\n",
       "      <th>1</th>\n",
       "      <td>128191</td>\n",
       "      <td>132115</td>\n",
       "    </tr>\n",
       "  </tbody>\n",
       "</table>\n",
       "</div>"
      ],
      "text/plain": [
       "client_id_code       0       1\n",
       "medium_organic                \n",
       "0                45966  160550\n",
       "1               128191  132115"
      ]
     },
     "execution_count": 47,
     "metadata": {},
     "output_type": "execute_result"
    }
   ],
   "source": [
    "confusion_matrix_organic = pd.crosstab(df_onehot[\"medium_organic\"], df_onehot[\"client_id_code\"], rownames=[\"medium_organic\"], colnames=[\"client_id_code\"])\n",
    "confusion_matrix_organic"
   ]
  },
  {
   "cell_type": "markdown",
   "metadata": {},
   "source": [
    "Wśród klientów, którzy weszli na stronę tylko raz ok. 74% klientów wchodziło na stronę przez wyszukiwarkę."
   ]
  },
  {
   "cell_type": "markdown",
   "metadata": {},
   "source": [
    " "
   ]
  },
  {
   "cell_type": "markdown",
   "metadata": {},
   "source": [
    "PODSUMOWANIE:"
   ]
  },
  {
   "cell_type": "markdown",
   "metadata": {},
   "source": [
    "Podstawowy model osiąga 72% skuteczność, kolejnymi krokami eksperymentów byłaby analiza danych pod kątem połączenia wierszy, które odpowiadają za wejście tego samego klienta. Jako istotny czynnik dla modelu okazała się wartość czy użytkownik odwiedził podstronę o portalu, jeśli użytkownik odwiedził ją raz, w przyszłości raczej jej nie odwiedzi. Dodatkowe cechy, które chciałbym sprawdzić to informacja czy użytkownik odwiedza nas z telefonu czy z laptopa/komputera. Ciekawym aspektem będzie również system operacyjny. Dalszą analizę poprowadziłbym pod kątem trendu czasowego. Jako, że strona posiada treści edukacyjne, oczekiwałbym wzrotstu liczby odwiedzin przed istotnymi egzaminami tj. matura, a zmniejszenie liczby odwiedzn w okresie wakacyjnym."
   ]
  },
  {
   "cell_type": "markdown",
   "metadata": {},
   "source": [
    "Możliwym wzmocnieniem modelu jest niepodawanie wyłącznie numeru tygodnia, a podzielenie roku na semestry, bądź okresy nauki i wakacji letnich. Sprawdziłbym czy w danym okresie jest większa ilość unikalnych wejść."
   ]
  }
 ],
 "metadata": {
  "kernelspec": {
   "display_name": "Python 3",
   "language": "python",
   "name": "python3"
  },
  "language_info": {
   "codemirror_mode": {
    "name": "ipython",
    "version": 3
   },
   "file_extension": ".py",
   "mimetype": "text/x-python",
   "name": "python",
   "nbconvert_exporter": "python",
   "pygments_lexer": "ipython3",
   "version": "3.6.8"
  }
 },
 "nbformat": 4,
 "nbformat_minor": 2
}
