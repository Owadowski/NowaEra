{
 "cells": [
  {
   "cell_type": "markdown",
   "metadata": {},
   "source": [
    "# Analiza czynników mogących wpływać na prawdopodobieństwo powrotu użytkownika na stronę"
   ]
  },
  {
   "cell_type": "code",
   "execution_count": 1,
   "metadata": {},
   "outputs": [],
   "source": [
    "import pandas as pd\n",
    "import numpy as np\n",
    "import datetime as dt\n",
    "from sklearn.linear_model import LinearRegression\n",
    "import scipy.stats as ss\n",
    "%matplotlib inline"
   ]
  },
  {
   "cell_type": "markdown",
   "metadata": {},
   "source": [
    " "
   ]
  },
  {
   "cell_type": "markdown",
   "metadata": {},
   "source": [
    "Załadowanie zbioru danych i oczyszczenie z niepotrzebnych znaków"
   ]
  },
  {
   "cell_type": "code",
   "execution_count": 2,
   "metadata": {
    "scrolled": true
   },
   "outputs": [
    {
     "data": {
      "text/html": [
       "<div>\n",
       "<style scoped>\n",
       "    .dataframe tbody tr th:only-of-type {\n",
       "        vertical-align: middle;\n",
       "    }\n",
       "\n",
       "    .dataframe tbody tr th {\n",
       "        vertical-align: top;\n",
       "    }\n",
       "\n",
       "    .dataframe thead th {\n",
       "        text-align: right;\n",
       "    }\n",
       "</style>\n",
       "<table border=\"1\" class=\"dataframe\">\n",
       "  <thead>\n",
       "    <tr style=\"text-align: right;\">\n",
       "      <th></th>\n",
       "      <th>client_id</th>\n",
       "      <th>action_time</th>\n",
       "      <th>pagePath</th>\n",
       "      <th>medium</th>\n",
       "      <th>eventAction</th>\n",
       "      <th>date</th>\n",
       "    </tr>\n",
       "  </thead>\n",
       "  <tbody>\n",
       "    <tr>\n",
       "      <td>0</td>\n",
       "      <td>d0a213b0718cd0e10475ce11d893c3cc</td>\n",
       "      <td>2020-07-29T15:38:27Z</td>\n",
       "      <td>/lekcja/biologia,75f95eb9a371db8c2ea854da85219502</td>\n",
       "      <td>organic</td>\n",
       "      <td>pageview</td>\n",
       "      <td>29.07.2020</td>\n",
       "    </tr>\n",
       "    <tr>\n",
       "      <td>1</td>\n",
       "      <td>4416f6ec763cc9e65ca17482d3960971</td>\n",
       "      <td>2020-07-29T21:03:06Z</td>\n",
       "      <td>/</td>\n",
       "      <td>(none)</td>\n",
       "      <td>pageview</td>\n",
       "      <td>29.07.2020</td>\n",
       "    </tr>\n",
       "    <tr>\n",
       "      <td>2</td>\n",
       "      <td>c3d6e02ad3e2a781dba7c48a4d354199</td>\n",
       "      <td>2020-07-29T07:51:28Z</td>\n",
       "      <td>/o-portalu</td>\n",
       "      <td>banner</td>\n",
       "      <td>pageview</td>\n",
       "      <td>29.07.2020</td>\n",
       "    </tr>\n",
       "    <tr>\n",
       "      <td>3</td>\n",
       "      <td>3bd4feb129163c7889a70d3d12c6e82d</td>\n",
       "      <td>2020-07-29T12:23:00Z</td>\n",
       "      <td>/lekcja/geografia,12901cca29551ad7d556962231a1...</td>\n",
       "      <td>organic</td>\n",
       "      <td>pageview</td>\n",
       "      <td>29.07.2020</td>\n",
       "    </tr>\n",
       "    <tr>\n",
       "      <td>4</td>\n",
       "      <td>3d90c06c313a2120ce98ff14b6581570</td>\n",
       "      <td>2020-07-29T12:27:30Z</td>\n",
       "      <td>/lekcja/jezyk-polski,c106aef9f68b2b03b8afe7d89...</td>\n",
       "      <td>organic</td>\n",
       "      <td>pageview</td>\n",
       "      <td>29.07.2020</td>\n",
       "    </tr>\n",
       "  </tbody>\n",
       "</table>\n",
       "</div>"
      ],
      "text/plain": [
       "                          client_id           action_time  \\\n",
       "0  d0a213b0718cd0e10475ce11d893c3cc  2020-07-29T15:38:27Z   \n",
       "1  4416f6ec763cc9e65ca17482d3960971  2020-07-29T21:03:06Z   \n",
       "2  c3d6e02ad3e2a781dba7c48a4d354199  2020-07-29T07:51:28Z   \n",
       "3  3bd4feb129163c7889a70d3d12c6e82d  2020-07-29T12:23:00Z   \n",
       "4  3d90c06c313a2120ce98ff14b6581570  2020-07-29T12:27:30Z   \n",
       "\n",
       "                                            pagePath   medium eventAction  \\\n",
       "0  /lekcja/biologia,75f95eb9a371db8c2ea854da85219502  organic    pageview   \n",
       "1                                                  /   (none)    pageview   \n",
       "2                                         /o-portalu   banner    pageview   \n",
       "3  /lekcja/geografia,12901cca29551ad7d556962231a1...  organic    pageview   \n",
       "4  /lekcja/jezyk-polski,c106aef9f68b2b03b8afe7d89...  organic    pageview   \n",
       "\n",
       "         date  \n",
       "0  29.07.2020  \n",
       "1  29.07.2020  \n",
       "2  29.07.2020  \n",
       "3  29.07.2020  \n",
       "4  29.07.2020  "
      ]
     },
     "execution_count": 2,
     "metadata": {},
     "output_type": "execute_result"
    }
   ],
   "source": [
    "loc = \"dane.csv\"\n",
    "df = pd.read_csv(loc, header=0, sep=\"[;]\", engine=\"python\", \n",
    "                 names=(\"client_id\",\"action_time\", \"pagePath\", \"medium\", \"eventAction\", \"date\"))\n",
    "df.client_id = df.client_id.str[1:]\n",
    "df.date = df.date.str[:-1]\n",
    "df.head()"
   ]
  },
  {
   "cell_type": "markdown",
   "metadata": {},
   "source": [
    "Opis zmiennych:<br />&nbsp;&nbsp;&nbsp;\n",
    "    client_id - ID użytkownika (pozyskiwane za pomocą cookie)<br />&nbsp;&nbsp;&nbsp;\n",
    "    ts - dokładny czas, w którym nastąpiło wydarzenie<br />&nbsp;&nbsp;&nbsp;\n",
    "    pagePath - ścieżka strony, która była oglądana<br />&nbsp;&nbsp;&nbsp;\n",
    "    medium - czyli medium, z którego użytkownik przyszedł na stronę <br />&nbsp;&nbsp;&nbsp;\n",
    "    eventAction - rodzaj akcji wykonanej przez użytkownika<br />&nbsp;&nbsp;&nbsp;\n",
    "    date - data zdarzenia<br />&nbsp;&nbsp;&nbsp;\n",
    "    <br />\n",
    "Opis mediów kolumny \"medium\":<br />&nbsp;&nbsp;&nbsp;\n",
    "    cpc - wejście z kampanii marketingowej<br />&nbsp;&nbsp;&nbsp;\n",
    "    organic - wejście z wyszukiwarki<br />&nbsp;&nbsp;&nbsp;\n",
    "    banner - wejście z baneru reklamowego<br />&nbsp;&nbsp;&nbsp;\n",
    "    referral - wejście z linku polecającego<br />&nbsp;&nbsp;&nbsp;\n",
    "    email - wejście przez mail<br />&nbsp;&nbsp;&nbsp;\n",
    "    post - wejście przez post<br />&nbsp;&nbsp;&nbsp;\n",
    "    link - wejście przez link<br />&nbsp;&nbsp;&nbsp;\n",
    "    webpush - wejście przez wiadomości, wysyłane przez stronę internetową<br />&nbsp;&nbsp;&nbsp;"
   ]
  },
  {
   "cell_type": "markdown",
   "metadata": {},
   "source": [
    " "
   ]
  },
  {
   "cell_type": "markdown",
   "metadata": {},
   "source": [
    "Konwersja kolumny \"date\" na *datetime* i utworzenie kolumny \"time\" z czasem zdarzenia"
   ]
  },
  {
   "cell_type": "code",
   "execution_count": 3,
   "metadata": {},
   "outputs": [
    {
     "data": {
      "text/html": [
       "<div>\n",
       "<style scoped>\n",
       "    .dataframe tbody tr th:only-of-type {\n",
       "        vertical-align: middle;\n",
       "    }\n",
       "\n",
       "    .dataframe tbody tr th {\n",
       "        vertical-align: top;\n",
       "    }\n",
       "\n",
       "    .dataframe thead th {\n",
       "        text-align: right;\n",
       "    }\n",
       "</style>\n",
       "<table border=\"1\" class=\"dataframe\">\n",
       "  <thead>\n",
       "    <tr style=\"text-align: right;\">\n",
       "      <th></th>\n",
       "      <th>client_id</th>\n",
       "      <th>pagePath</th>\n",
       "      <th>medium</th>\n",
       "      <th>eventAction</th>\n",
       "      <th>date</th>\n",
       "      <th>time</th>\n",
       "    </tr>\n",
       "  </thead>\n",
       "  <tbody>\n",
       "    <tr>\n",
       "      <td>0</td>\n",
       "      <td>d0a213b0718cd0e10475ce11d893c3cc</td>\n",
       "      <td>/lekcja/biologia,75f95eb9a371db8c2ea854da85219502</td>\n",
       "      <td>organic</td>\n",
       "      <td>pageview</td>\n",
       "      <td>2020-07-29</td>\n",
       "      <td>15:38:27</td>\n",
       "    </tr>\n",
       "    <tr>\n",
       "      <td>1</td>\n",
       "      <td>4416f6ec763cc9e65ca17482d3960971</td>\n",
       "      <td>/</td>\n",
       "      <td>(none)</td>\n",
       "      <td>pageview</td>\n",
       "      <td>2020-07-29</td>\n",
       "      <td>21:03:06</td>\n",
       "    </tr>\n",
       "    <tr>\n",
       "      <td>2</td>\n",
       "      <td>c3d6e02ad3e2a781dba7c48a4d354199</td>\n",
       "      <td>/o-portalu</td>\n",
       "      <td>banner</td>\n",
       "      <td>pageview</td>\n",
       "      <td>2020-07-29</td>\n",
       "      <td>07:51:28</td>\n",
       "    </tr>\n",
       "    <tr>\n",
       "      <td>3</td>\n",
       "      <td>3bd4feb129163c7889a70d3d12c6e82d</td>\n",
       "      <td>/lekcja/geografia,12901cca29551ad7d556962231a1...</td>\n",
       "      <td>organic</td>\n",
       "      <td>pageview</td>\n",
       "      <td>2020-07-29</td>\n",
       "      <td>12:23:00</td>\n",
       "    </tr>\n",
       "    <tr>\n",
       "      <td>4</td>\n",
       "      <td>3d90c06c313a2120ce98ff14b6581570</td>\n",
       "      <td>/lekcja/jezyk-polski,c106aef9f68b2b03b8afe7d89...</td>\n",
       "      <td>organic</td>\n",
       "      <td>pageview</td>\n",
       "      <td>2020-07-29</td>\n",
       "      <td>12:27:30</td>\n",
       "    </tr>\n",
       "  </tbody>\n",
       "</table>\n",
       "</div>"
      ],
      "text/plain": [
       "                          client_id  \\\n",
       "0  d0a213b0718cd0e10475ce11d893c3cc   \n",
       "1  4416f6ec763cc9e65ca17482d3960971   \n",
       "2  c3d6e02ad3e2a781dba7c48a4d354199   \n",
       "3  3bd4feb129163c7889a70d3d12c6e82d   \n",
       "4  3d90c06c313a2120ce98ff14b6581570   \n",
       "\n",
       "                                            pagePath   medium eventAction  \\\n",
       "0  /lekcja/biologia,75f95eb9a371db8c2ea854da85219502  organic    pageview   \n",
       "1                                                  /   (none)    pageview   \n",
       "2                                         /o-portalu   banner    pageview   \n",
       "3  /lekcja/geografia,12901cca29551ad7d556962231a1...  organic    pageview   \n",
       "4  /lekcja/jezyk-polski,c106aef9f68b2b03b8afe7d89...  organic    pageview   \n",
       "\n",
       "        date      time  \n",
       "0 2020-07-29  15:38:27  \n",
       "1 2020-07-29  21:03:06  \n",
       "2 2020-07-29  07:51:28  \n",
       "3 2020-07-29  12:23:00  \n",
       "4 2020-07-29  12:27:30  "
      ]
     },
     "execution_count": 3,
     "metadata": {},
     "output_type": "execute_result"
    }
   ],
   "source": [
    "df[\"date\"] = pd.to_datetime(df[\"date\"], format=\"%d.%m.%Y\")\n",
    "df[\"time\"] = pd.to_datetime(df[\"action_time\"]).dt.time\n",
    "df.drop([\"action_time\"], axis=\"columns\", inplace=True)\n",
    "df.head()"
   ]
  },
  {
   "cell_type": "markdown",
   "metadata": {},
   "source": [
    " "
   ]
  },
  {
   "cell_type": "markdown",
   "metadata": {},
   "source": [
    "Dane nie zawierają wartości pustych, nie wymagają więc oczyszczenia z nich."
   ]
  },
  {
   "cell_type": "code",
   "execution_count": 4,
   "metadata": {},
   "outputs": [
    {
     "name": "stdout",
     "output_type": "stream",
     "text": [
      "0\n"
     ]
    }
   ],
   "source": [
    "print(df.isnull().values.sum())"
   ]
  },
  {
   "cell_type": "markdown",
   "metadata": {},
   "source": [
    " "
   ]
  },
  {
   "cell_type": "markdown",
   "metadata": {},
   "source": [
    "Zmiana typu danych kolumny \"medium\" na typ danych *category*"
   ]
  },
  {
   "cell_type": "code",
   "execution_count": 5,
   "metadata": {},
   "outputs": [],
   "source": [
    "df[\"medium\"] = df[\"medium\"].astype(\"category\")"
   ]
  },
  {
   "cell_type": "code",
   "execution_count": 6,
   "metadata": {},
   "outputs": [
    {
     "name": "stdout",
     "output_type": "stream",
     "text": [
      "<class 'pandas.core.frame.DataFrame'>\n",
      "RangeIndex: 466822 entries, 0 to 466821\n",
      "Data columns (total 6 columns):\n",
      "client_id      466822 non-null object\n",
      "pagePath       466822 non-null object\n",
      "medium         466822 non-null category\n",
      "eventAction    466822 non-null object\n",
      "date           466822 non-null datetime64[ns]\n",
      "time           466822 non-null object\n",
      "dtypes: category(1), datetime64[ns](1), object(4)\n",
      "memory usage: 18.3+ MB\n"
     ]
    }
   ],
   "source": [
    "df.info()"
   ]
  },
  {
   "cell_type": "markdown",
   "metadata": {},
   "source": [
    " "
   ]
  },
  {
   "cell_type": "markdown",
   "metadata": {},
   "source": [
    "Kolumna \"eventAction\" zostaje usunięta z powodu występowania tylko jednej zmiennej."
   ]
  },
  {
   "cell_type": "code",
   "execution_count": 7,
   "metadata": {},
   "outputs": [
    {
     "data": {
      "text/plain": [
       "count       466822\n",
       "unique           1\n",
       "top       pageview\n",
       "freq        466822\n",
       "Name: eventAction, dtype: object"
      ]
     },
     "execution_count": 7,
     "metadata": {},
     "output_type": "execute_result"
    }
   ],
   "source": [
    "df.eventAction.describe()"
   ]
  },
  {
   "cell_type": "code",
   "execution_count": 8,
   "metadata": {},
   "outputs": [],
   "source": [
    "df.drop([\"eventAction\"], axis=\"columns\", inplace=True)"
   ]
  },
  {
   "cell_type": "code",
   "execution_count": 9,
   "metadata": {},
   "outputs": [
    {
     "data": {
      "text/html": [
       "<div>\n",
       "<style scoped>\n",
       "    .dataframe tbody tr th:only-of-type {\n",
       "        vertical-align: middle;\n",
       "    }\n",
       "\n",
       "    .dataframe tbody tr th {\n",
       "        vertical-align: top;\n",
       "    }\n",
       "\n",
       "    .dataframe thead th {\n",
       "        text-align: right;\n",
       "    }\n",
       "</style>\n",
       "<table border=\"1\" class=\"dataframe\">\n",
       "  <thead>\n",
       "    <tr style=\"text-align: right;\">\n",
       "      <th></th>\n",
       "      <th>client_id</th>\n",
       "      <th>pagePath</th>\n",
       "      <th>medium</th>\n",
       "      <th>date</th>\n",
       "      <th>time</th>\n",
       "    </tr>\n",
       "  </thead>\n",
       "  <tbody>\n",
       "    <tr>\n",
       "      <td>count</td>\n",
       "      <td>466822</td>\n",
       "      <td>466822</td>\n",
       "      <td>466822</td>\n",
       "      <td>466822</td>\n",
       "      <td>466822</td>\n",
       "    </tr>\n",
       "    <tr>\n",
       "      <td>unique</td>\n",
       "      <td>230193</td>\n",
       "      <td>2549</td>\n",
       "      <td>10</td>\n",
       "      <td>37</td>\n",
       "      <td>70553</td>\n",
       "    </tr>\n",
       "    <tr>\n",
       "      <td>top</td>\n",
       "      <td>64e4c7ca28927cfd62a503e100afe752</td>\n",
       "      <td>/</td>\n",
       "      <td>organic</td>\n",
       "      <td>2020-08-21 00:00:00</td>\n",
       "      <td>10:08:41</td>\n",
       "    </tr>\n",
       "    <tr>\n",
       "      <td>freq</td>\n",
       "      <td>855</td>\n",
       "      <td>67224</td>\n",
       "      <td>260306</td>\n",
       "      <td>25938</td>\n",
       "      <td>26</td>\n",
       "    </tr>\n",
       "    <tr>\n",
       "      <td>first</td>\n",
       "      <td>NaN</td>\n",
       "      <td>NaN</td>\n",
       "      <td>NaN</td>\n",
       "      <td>2020-07-29 00:00:00</td>\n",
       "      <td>NaN</td>\n",
       "    </tr>\n",
       "    <tr>\n",
       "      <td>last</td>\n",
       "      <td>NaN</td>\n",
       "      <td>NaN</td>\n",
       "      <td>NaN</td>\n",
       "      <td>2020-10-09 00:00:00</td>\n",
       "      <td>NaN</td>\n",
       "    </tr>\n",
       "  </tbody>\n",
       "</table>\n",
       "</div>"
      ],
      "text/plain": [
       "                               client_id pagePath   medium  \\\n",
       "count                             466822   466822   466822   \n",
       "unique                            230193     2549       10   \n",
       "top     64e4c7ca28927cfd62a503e100afe752        /  organic   \n",
       "freq                                 855    67224   260306   \n",
       "first                                NaN      NaN      NaN   \n",
       "last                                 NaN      NaN      NaN   \n",
       "\n",
       "                       date      time  \n",
       "count                466822    466822  \n",
       "unique                   37     70553  \n",
       "top     2020-08-21 00:00:00  10:08:41  \n",
       "freq                  25938        26  \n",
       "first   2020-07-29 00:00:00       NaN  \n",
       "last    2020-10-09 00:00:00       NaN  "
      ]
     },
     "execution_count": 9,
     "metadata": {},
     "output_type": "execute_result"
    }
   ],
   "source": [
    "df.describe()"
   ]
  },
  {
   "cell_type": "code",
   "execution_count": 10,
   "metadata": {},
   "outputs": [
    {
     "data": {
      "text/html": [
       "<div>\n",
       "<style scoped>\n",
       "    .dataframe tbody tr th:only-of-type {\n",
       "        vertical-align: middle;\n",
       "    }\n",
       "\n",
       "    .dataframe tbody tr th {\n",
       "        vertical-align: top;\n",
       "    }\n",
       "\n",
       "    .dataframe thead th {\n",
       "        text-align: right;\n",
       "    }\n",
       "</style>\n",
       "<table border=\"1\" class=\"dataframe\">\n",
       "  <thead>\n",
       "    <tr style=\"text-align: right;\">\n",
       "      <th></th>\n",
       "      <th>client_id</th>\n",
       "      <th>pagePath</th>\n",
       "      <th>time</th>\n",
       "    </tr>\n",
       "  </thead>\n",
       "  <tbody>\n",
       "    <tr>\n",
       "      <td>count</td>\n",
       "      <td>466822</td>\n",
       "      <td>466822</td>\n",
       "      <td>466822</td>\n",
       "    </tr>\n",
       "    <tr>\n",
       "      <td>unique</td>\n",
       "      <td>230193</td>\n",
       "      <td>2549</td>\n",
       "      <td>70553</td>\n",
       "    </tr>\n",
       "    <tr>\n",
       "      <td>top</td>\n",
       "      <td>64e4c7ca28927cfd62a503e100afe752</td>\n",
       "      <td>/</td>\n",
       "      <td>10:08:41</td>\n",
       "    </tr>\n",
       "    <tr>\n",
       "      <td>freq</td>\n",
       "      <td>855</td>\n",
       "      <td>67224</td>\n",
       "      <td>26</td>\n",
       "    </tr>\n",
       "  </tbody>\n",
       "</table>\n",
       "</div>"
      ],
      "text/plain": [
       "                               client_id pagePath      time\n",
       "count                             466822   466822    466822\n",
       "unique                            230193     2549     70553\n",
       "top     64e4c7ca28927cfd62a503e100afe752        /  10:08:41\n",
       "freq                                 855    67224        26"
      ]
     },
     "execution_count": 10,
     "metadata": {},
     "output_type": "execute_result"
    }
   ],
   "source": [
    "df.describe(include=np.object)"
   ]
  },
  {
   "cell_type": "markdown",
   "metadata": {},
   "source": [
    " "
   ]
  },
  {
   "cell_type": "markdown",
   "metadata": {},
   "source": [
    "Podliczenie wystąpień każdego z mediów, z którego użytkownik mógł wejść na stronę."
   ]
  },
  {
   "cell_type": "code",
   "execution_count": 11,
   "metadata": {
    "scrolled": true
   },
   "outputs": [
    {
     "data": {
      "text/plain": [
       "organic      260306\n",
       "(none)        67090\n",
       "cpc           50864\n",
       "banner        46942\n",
       "referral      30169\n",
       "email         11243\n",
       "post            102\n",
       "link             74\n",
       "webpush          31\n",
       "(not set)         1\n",
       "Name: medium, dtype: int64"
      ]
     },
     "execution_count": 11,
     "metadata": {},
     "output_type": "execute_result"
    }
   ],
   "source": [
    "df[\"medium\"].value_counts()"
   ]
  },
  {
   "cell_type": "markdown",
   "metadata": {},
   "source": [
    " "
   ]
  },
  {
   "cell_type": "markdown",
   "metadata": {},
   "source": [
    "Posortowanie zbioru według kolumny \"medium\""
   ]
  },
  {
   "cell_type": "code",
   "execution_count": 12,
   "metadata": {},
   "outputs": [],
   "source": [
    "df[\"medium_count\"] = df.groupby(\"medium\")[\"medium\"].transform(\"count\")\n",
    "df = df.sort_values(\"medium_count\", ascending=False)\n",
    "df = df.drop(\"medium_count\", axis = 1)"
   ]
  },
  {
   "cell_type": "code",
   "execution_count": 13,
   "metadata": {},
   "outputs": [
    {
     "data": {
      "text/html": [
       "<div>\n",
       "<style scoped>\n",
       "    .dataframe tbody tr th:only-of-type {\n",
       "        vertical-align: middle;\n",
       "    }\n",
       "\n",
       "    .dataframe tbody tr th {\n",
       "        vertical-align: top;\n",
       "    }\n",
       "\n",
       "    .dataframe thead th {\n",
       "        text-align: right;\n",
       "    }\n",
       "</style>\n",
       "<table border=\"1\" class=\"dataframe\">\n",
       "  <thead>\n",
       "    <tr style=\"text-align: right;\">\n",
       "      <th></th>\n",
       "      <th>client_id</th>\n",
       "      <th>pagePath</th>\n",
       "      <th>medium</th>\n",
       "      <th>date</th>\n",
       "      <th>time</th>\n",
       "    </tr>\n",
       "  </thead>\n",
       "  <tbody>\n",
       "    <tr>\n",
       "      <td>0</td>\n",
       "      <td>d0a213b0718cd0e10475ce11d893c3cc</td>\n",
       "      <td>/lekcja/biologia,75f95eb9a371db8c2ea854da85219502</td>\n",
       "      <td>organic</td>\n",
       "      <td>2020-07-29</td>\n",
       "      <td>15:38:27</td>\n",
       "    </tr>\n",
       "    <tr>\n",
       "      <td>270140</td>\n",
       "      <td>49a83884edb7b3f4efc8996a8436ac68</td>\n",
       "      <td>/lekcja/jezyk-polski,fb9155ca2e6627846b9b2ffea...</td>\n",
       "      <td>organic</td>\n",
       "      <td>2020-08-14</td>\n",
       "      <td>13:04:50</td>\n",
       "    </tr>\n",
       "    <tr>\n",
       "      <td>270138</td>\n",
       "      <td>49a83884edb7b3f4efc8996a8436ac68</td>\n",
       "      <td>/lekcja/jezyk-polski,fb9155ca2e6627846b9b2ffea...</td>\n",
       "      <td>organic</td>\n",
       "      <td>2020-08-14</td>\n",
       "      <td>12:53:40</td>\n",
       "    </tr>\n",
       "    <tr>\n",
       "      <td>270137</td>\n",
       "      <td>49a83884edb7b3f4efc8996a8436ac68</td>\n",
       "      <td>/lekcja/jezyk-polski,fb9155ca2e6627846b9b2ffea...</td>\n",
       "      <td>organic</td>\n",
       "      <td>2020-08-14</td>\n",
       "      <td>12:27:48</td>\n",
       "    </tr>\n",
       "    <tr>\n",
       "      <td>270135</td>\n",
       "      <td>fedd128691499104578f0d8fa4a11fa4</td>\n",
       "      <td>/lekcja/biologia,c4a61b24e0a70445a593ed3167d7c6eb</td>\n",
       "      <td>organic</td>\n",
       "      <td>2020-08-14</td>\n",
       "      <td>07:37:40</td>\n",
       "    </tr>\n",
       "    <tr>\n",
       "      <td>...</td>\n",
       "      <td>...</td>\n",
       "      <td>...</td>\n",
       "      <td>...</td>\n",
       "      <td>...</td>\n",
       "      <td>...</td>\n",
       "    </tr>\n",
       "    <tr>\n",
       "      <td>346272</td>\n",
       "      <td>f5402b2f66d5f1e952a7baa393dd7e0c</td>\n",
       "      <td>/</td>\n",
       "      <td>webpush</td>\n",
       "      <td>2020-08-17</td>\n",
       "      <td>16:24:38</td>\n",
       "    </tr>\n",
       "    <tr>\n",
       "      <td>5336</td>\n",
       "      <td>f5402b2f66d5f1e952a7baa393dd7e0c</td>\n",
       "      <td>/</td>\n",
       "      <td>webpush</td>\n",
       "      <td>2020-07-29</td>\n",
       "      <td>19:44:39</td>\n",
       "    </tr>\n",
       "    <tr>\n",
       "      <td>75595</td>\n",
       "      <td>f5402b2f66d5f1e952a7baa393dd7e0c</td>\n",
       "      <td>/</td>\n",
       "      <td>webpush</td>\n",
       "      <td>2020-08-02</td>\n",
       "      <td>14:51:03</td>\n",
       "    </tr>\n",
       "    <tr>\n",
       "      <td>36471</td>\n",
       "      <td>f5402b2f66d5f1e952a7baa393dd7e0c</td>\n",
       "      <td>/</td>\n",
       "      <td>webpush</td>\n",
       "      <td>2020-07-31</td>\n",
       "      <td>21:15:53</td>\n",
       "    </tr>\n",
       "    <tr>\n",
       "      <td>10918</td>\n",
       "      <td>700b9d1bceae577566e97e1ea2abf19e</td>\n",
       "      <td>/kategorie/matematyka</td>\n",
       "      <td>(not set)</td>\n",
       "      <td>2020-07-30</td>\n",
       "      <td>17:18:18</td>\n",
       "    </tr>\n",
       "  </tbody>\n",
       "</table>\n",
       "<p>466822 rows × 5 columns</p>\n",
       "</div>"
      ],
      "text/plain": [
       "                               client_id  \\\n",
       "0       d0a213b0718cd0e10475ce11d893c3cc   \n",
       "270140  49a83884edb7b3f4efc8996a8436ac68   \n",
       "270138  49a83884edb7b3f4efc8996a8436ac68   \n",
       "270137  49a83884edb7b3f4efc8996a8436ac68   \n",
       "270135  fedd128691499104578f0d8fa4a11fa4   \n",
       "...                                  ...   \n",
       "346272  f5402b2f66d5f1e952a7baa393dd7e0c   \n",
       "5336    f5402b2f66d5f1e952a7baa393dd7e0c   \n",
       "75595   f5402b2f66d5f1e952a7baa393dd7e0c   \n",
       "36471   f5402b2f66d5f1e952a7baa393dd7e0c   \n",
       "10918   700b9d1bceae577566e97e1ea2abf19e   \n",
       "\n",
       "                                                 pagePath     medium  \\\n",
       "0       /lekcja/biologia,75f95eb9a371db8c2ea854da85219502    organic   \n",
       "270140  /lekcja/jezyk-polski,fb9155ca2e6627846b9b2ffea...    organic   \n",
       "270138  /lekcja/jezyk-polski,fb9155ca2e6627846b9b2ffea...    organic   \n",
       "270137  /lekcja/jezyk-polski,fb9155ca2e6627846b9b2ffea...    organic   \n",
       "270135  /lekcja/biologia,c4a61b24e0a70445a593ed3167d7c6eb    organic   \n",
       "...                                                   ...        ...   \n",
       "346272                                                  /    webpush   \n",
       "5336                                                    /    webpush   \n",
       "75595                                                   /    webpush   \n",
       "36471                                                   /    webpush   \n",
       "10918                               /kategorie/matematyka  (not set)   \n",
       "\n",
       "             date      time  \n",
       "0      2020-07-29  15:38:27  \n",
       "270140 2020-08-14  13:04:50  \n",
       "270138 2020-08-14  12:53:40  \n",
       "270137 2020-08-14  12:27:48  \n",
       "270135 2020-08-14  07:37:40  \n",
       "...           ...       ...  \n",
       "346272 2020-08-17  16:24:38  \n",
       "5336   2020-07-29  19:44:39  \n",
       "75595  2020-08-02  14:51:03  \n",
       "36471  2020-07-31  21:15:53  \n",
       "10918  2020-07-30  17:18:18  \n",
       "\n",
       "[466822 rows x 5 columns]"
      ]
     },
     "execution_count": 13,
     "metadata": {},
     "output_type": "execute_result"
    }
   ],
   "source": [
    "df"
   ]
  },
  {
   "cell_type": "code",
   "execution_count": 14,
   "metadata": {},
   "outputs": [
    {
     "data": {
      "text/plain": [
       "<matplotlib.axes._subplots.AxesSubplot at 0x272bd81dd08>"
      ]
     },
     "execution_count": 14,
     "metadata": {},
     "output_type": "execute_result"
    },
    {
     "data": {
      "image/png": "[encoded data removed]",
      "text/plain": [
       "<Figure size 432x288 with 1 Axes>"
      ]
     },
     "metadata": {
      "needs_background": "light"
     },
     "output_type": "display_data"
    }
   ],
   "source": [
    "df[\"medium\"].value_counts().plot(kind=\"bar\")"
   ]
  },
  {
   "cell_type": "markdown",
   "metadata": {},
   "source": [
    " "
   ]
  },
  {
   "cell_type": "markdown",
   "metadata": {},
   "source": [
    "Stworzenie kolumny \"pageMainCat\" z kategoriami występującymi w kolumnie \"pagePath\". Ścieżki nie przypisane do żadnej z kategorii, otrzymują etykietę \"Others\""
   ]
  },
  {
   "cell_type": "code",
   "execution_count": 15,
   "metadata": {},
   "outputs": [],
   "source": [
    "df[\"pageMainCat\"] = df[\"pagePath\"]"
   ]
  },
  {
   "cell_type": "code",
   "execution_count": 16,
   "metadata": {},
   "outputs": [],
   "source": [
    "main_categories = {\n",
    "    \"/lekcja/\": \"lekcja\", \n",
    "    \"/kategorie/\": \"kategorie\",\n",
    "    \"/fiszki-i-quizy/\": \"fiszki-i-quizy\",\n",
    "    \"/sprawdz-sie/\": \"sprawdz-sie\",    \n",
    "    \"/quiz/\": \"quiz\",\n",
    "    \"/fiszki/\": \"fiszki\",\n",
    "    \"/szukaj/\": \"szukaj\",\n",
    "    \"lesson/preview\": \"lesson/preview\",\n",
    "    \"/o-portalu\": \"o-portalu\",\n",
    "}\n",
    "    \n",
    "for key, value in main_categories.items():\n",
    "    df[\"pageMainCat\"] = df[\"pageMainCat\"].astype(str).apply(lambda X:  value if key in X else X) \n",
    "    \n",
    "owi_set = set(main_categories.values())\n",
    "df[\"pageMainCat\"] = df[\"pageMainCat\"].apply(lambda x: x if x in owi_set else \"Others\")  "
   ]
  },
  {
   "cell_type": "code",
   "execution_count": 17,
   "metadata": {},
   "outputs": [],
   "source": [
    "df[\"pageMainCat\"] = df[\"pageMainCat\"].astype(\"category\")"
   ]
  },
  {
   "cell_type": "code",
   "execution_count": 18,
   "metadata": {},
   "outputs": [
    {
     "name": "stdout",
     "output_type": "stream",
     "text": [
      "<class 'pandas.core.frame.DataFrame'>\n",
      "Int64Index: 466822 entries, 0 to 10918\n",
      "Data columns (total 6 columns):\n",
      "client_id      466822 non-null object\n",
      "pagePath       466822 non-null object\n",
      "medium         466822 non-null category\n",
      "date           466822 non-null datetime64[ns]\n",
      "time           466822 non-null object\n",
      "pageMainCat    466822 non-null category\n",
      "dtypes: category(2), datetime64[ns](1), object(3)\n",
      "memory usage: 18.7+ MB\n"
     ]
    }
   ],
   "source": [
    "df.info()"
   ]
  },
  {
   "cell_type": "code",
   "execution_count": 19,
   "metadata": {},
   "outputs": [
    {
     "data": {
      "text/html": [
       "<div>\n",
       "<style scoped>\n",
       "    .dataframe tbody tr th:only-of-type {\n",
       "        vertical-align: middle;\n",
       "    }\n",
       "\n",
       "    .dataframe tbody tr th {\n",
       "        vertical-align: top;\n",
       "    }\n",
       "\n",
       "    .dataframe thead th {\n",
       "        text-align: right;\n",
       "    }\n",
       "</style>\n",
       "<table border=\"1\" class=\"dataframe\">\n",
       "  <thead>\n",
       "    <tr style=\"text-align: right;\">\n",
       "      <th></th>\n",
       "      <th>client_id</th>\n",
       "      <th>pagePath</th>\n",
       "      <th>medium</th>\n",
       "      <th>date</th>\n",
       "      <th>time</th>\n",
       "      <th>pageMainCat</th>\n",
       "    </tr>\n",
       "  </thead>\n",
       "  <tbody>\n",
       "    <tr>\n",
       "      <td>0</td>\n",
       "      <td>d0a213b0718cd0e10475ce11d893c3cc</td>\n",
       "      <td>/lekcja/biologia,75f95eb9a371db8c2ea854da85219502</td>\n",
       "      <td>organic</td>\n",
       "      <td>2020-07-29</td>\n",
       "      <td>15:38:27</td>\n",
       "      <td>lekcja</td>\n",
       "    </tr>\n",
       "    <tr>\n",
       "      <td>270140</td>\n",
       "      <td>49a83884edb7b3f4efc8996a8436ac68</td>\n",
       "      <td>/lekcja/jezyk-polski,fb9155ca2e6627846b9b2ffea...</td>\n",
       "      <td>organic</td>\n",
       "      <td>2020-08-14</td>\n",
       "      <td>13:04:50</td>\n",
       "      <td>lekcja</td>\n",
       "    </tr>\n",
       "    <tr>\n",
       "      <td>270138</td>\n",
       "      <td>49a83884edb7b3f4efc8996a8436ac68</td>\n",
       "      <td>/lekcja/jezyk-polski,fb9155ca2e6627846b9b2ffea...</td>\n",
       "      <td>organic</td>\n",
       "      <td>2020-08-14</td>\n",
       "      <td>12:53:40</td>\n",
       "      <td>lekcja</td>\n",
       "    </tr>\n",
       "    <tr>\n",
       "      <td>270137</td>\n",
       "      <td>49a83884edb7b3f4efc8996a8436ac68</td>\n",
       "      <td>/lekcja/jezyk-polski,fb9155ca2e6627846b9b2ffea...</td>\n",
       "      <td>organic</td>\n",
       "      <td>2020-08-14</td>\n",
       "      <td>12:27:48</td>\n",
       "      <td>lekcja</td>\n",
       "    </tr>\n",
       "    <tr>\n",
       "      <td>270135</td>\n",
       "      <td>fedd128691499104578f0d8fa4a11fa4</td>\n",
       "      <td>/lekcja/biologia,c4a61b24e0a70445a593ed3167d7c6eb</td>\n",
       "      <td>organic</td>\n",
       "      <td>2020-08-14</td>\n",
       "      <td>07:37:40</td>\n",
       "      <td>lekcja</td>\n",
       "    </tr>\n",
       "    <tr>\n",
       "      <td>...</td>\n",
       "      <td>...</td>\n",
       "      <td>...</td>\n",
       "      <td>...</td>\n",
       "      <td>...</td>\n",
       "      <td>...</td>\n",
       "      <td>...</td>\n",
       "    </tr>\n",
       "    <tr>\n",
       "      <td>346272</td>\n",
       "      <td>f5402b2f66d5f1e952a7baa393dd7e0c</td>\n",
       "      <td>/</td>\n",
       "      <td>webpush</td>\n",
       "      <td>2020-08-17</td>\n",
       "      <td>16:24:38</td>\n",
       "      <td>Others</td>\n",
       "    </tr>\n",
       "    <tr>\n",
       "      <td>5336</td>\n",
       "      <td>f5402b2f66d5f1e952a7baa393dd7e0c</td>\n",
       "      <td>/</td>\n",
       "      <td>webpush</td>\n",
       "      <td>2020-07-29</td>\n",
       "      <td>19:44:39</td>\n",
       "      <td>Others</td>\n",
       "    </tr>\n",
       "    <tr>\n",
       "      <td>75595</td>\n",
       "      <td>f5402b2f66d5f1e952a7baa393dd7e0c</td>\n",
       "      <td>/</td>\n",
       "      <td>webpush</td>\n",
       "      <td>2020-08-02</td>\n",
       "      <td>14:51:03</td>\n",
       "      <td>Others</td>\n",
       "    </tr>\n",
       "    <tr>\n",
       "      <td>36471</td>\n",
       "      <td>f5402b2f66d5f1e952a7baa393dd7e0c</td>\n",
       "      <td>/</td>\n",
       "      <td>webpush</td>\n",
       "      <td>2020-07-31</td>\n",
       "      <td>21:15:53</td>\n",
       "      <td>Others</td>\n",
       "    </tr>\n",
       "    <tr>\n",
       "      <td>10918</td>\n",
       "      <td>700b9d1bceae577566e97e1ea2abf19e</td>\n",
       "      <td>/kategorie/matematyka</td>\n",
       "      <td>(not set)</td>\n",
       "      <td>2020-07-30</td>\n",
       "      <td>17:18:18</td>\n",
       "      <td>kategorie</td>\n",
       "    </tr>\n",
       "  </tbody>\n",
       "</table>\n",
       "<p>466822 rows × 6 columns</p>\n",
       "</div>"
      ],
      "text/plain": [
       "                               client_id  \\\n",
       "0       d0a213b0718cd0e10475ce11d893c3cc   \n",
       "270140  49a83884edb7b3f4efc8996a8436ac68   \n",
       "270138  49a83884edb7b3f4efc8996a8436ac68   \n",
       "270137  49a83884edb7b3f4efc8996a8436ac68   \n",
       "270135  fedd128691499104578f0d8fa4a11fa4   \n",
       "...                                  ...   \n",
       "346272  f5402b2f66d5f1e952a7baa393dd7e0c   \n",
       "5336    f5402b2f66d5f1e952a7baa393dd7e0c   \n",
       "75595   f5402b2f66d5f1e952a7baa393dd7e0c   \n",
       "36471   f5402b2f66d5f1e952a7baa393dd7e0c   \n",
       "10918   700b9d1bceae577566e97e1ea2abf19e   \n",
       "\n",
       "                                                 pagePath     medium  \\\n",
       "0       /lekcja/biologia,75f95eb9a371db8c2ea854da85219502    organic   \n",
       "270140  /lekcja/jezyk-polski,fb9155ca2e6627846b9b2ffea...    organic   \n",
       "270138  /lekcja/jezyk-polski,fb9155ca2e6627846b9b2ffea...    organic   \n",
       "270137  /lekcja/jezyk-polski,fb9155ca2e6627846b9b2ffea...    organic   \n",
       "270135  /lekcja/biologia,c4a61b24e0a70445a593ed3167d7c6eb    organic   \n",
       "...                                                   ...        ...   \n",
       "346272                                                  /    webpush   \n",
       "5336                                                    /    webpush   \n",
       "75595                                                   /    webpush   \n",
       "36471                                                   /    webpush   \n",
       "10918                               /kategorie/matematyka  (not set)   \n",
       "\n",
       "             date      time pageMainCat  \n",
       "0      2020-07-29  15:38:27      lekcja  \n",
       "270140 2020-08-14  13:04:50      lekcja  \n",
       "270138 2020-08-14  12:53:40      lekcja  \n",
       "270137 2020-08-14  12:27:48      lekcja  \n",
       "270135 2020-08-14  07:37:40      lekcja  \n",
       "...           ...       ...         ...  \n",
       "346272 2020-08-17  16:24:38      Others  \n",
       "5336   2020-07-29  19:44:39      Others  \n",
       "75595  2020-08-02  14:51:03      Others  \n",
       "36471  2020-07-31  21:15:53      Others  \n",
       "10918  2020-07-30  17:18:18   kategorie  \n",
       "\n",
       "[466822 rows x 6 columns]"
      ]
     },
     "execution_count": 19,
     "metadata": {},
     "output_type": "execute_result"
    }
   ],
   "source": [
    "df"
   ]
  },
  {
   "cell_type": "markdown",
   "metadata": {},
   "source": [
    " "
   ]
  },
  {
   "cell_type": "markdown",
   "metadata": {},
   "source": [
    "Ilustracja częstości występowania danej głównej kategorii z kolumny \"pageMainCat\"."
   ]
  },
  {
   "cell_type": "code",
   "execution_count": 20,
   "metadata": {},
   "outputs": [
    {
     "data": {
      "text/plain": [
       "<matplotlib.axes._subplots.AxesSubplot at 0x272bd803248>"
      ]
     },
     "execution_count": 20,
     "metadata": {},
     "output_type": "execute_result"
    },
    {
     "data": {
      "image/png": "[encoded data removed]",
      "text/plain": [
       "<Figure size 432x288 with 1 Axes>"
      ]
     },
     "metadata": {
      "needs_background": "light"
     },
     "output_type": "display_data"
    }
   ],
   "source": [
    "df[\"pageMainCat\"].value_counts().plot(kind=\"bar\")"
   ]
  },
  {
   "cell_type": "markdown",
   "metadata": {},
   "source": [
    "Kodowanie kolumny \"medium\", gdzie \"organic\" przyjmuje wartość jeden, a pozostałe rodzje przyjmują wartość zero."
   ]
  },
  {
   "cell_type": "code",
   "execution_count": 21,
   "metadata": {},
   "outputs": [
    {
     "data": {
      "text/html": [
       "<div>\n",
       "<style scoped>\n",
       "    .dataframe tbody tr th:only-of-type {\n",
       "        vertical-align: middle;\n",
       "    }\n",
       "\n",
       "    .dataframe tbody tr th {\n",
       "        vertical-align: top;\n",
       "    }\n",
       "\n",
       "    .dataframe thead th {\n",
       "        text-align: right;\n",
       "    }\n",
       "</style>\n",
       "<table border=\"1\" class=\"dataframe\">\n",
       "  <thead>\n",
       "    <tr style=\"text-align: right;\">\n",
       "      <th></th>\n",
       "      <th>client_id</th>\n",
       "      <th>pagePath</th>\n",
       "      <th>date</th>\n",
       "      <th>time</th>\n",
       "      <th>pageMainCat</th>\n",
       "      <th>Organic_code</th>\n",
       "    </tr>\n",
       "  </thead>\n",
       "  <tbody>\n",
       "    <tr>\n",
       "      <td>0</td>\n",
       "      <td>d0a213b0718cd0e10475ce11d893c3cc</td>\n",
       "      <td>/lekcja/biologia,75f95eb9a371db8c2ea854da85219502</td>\n",
       "      <td>2020-07-29</td>\n",
       "      <td>15:38:27</td>\n",
       "      <td>lekcja</td>\n",
       "      <td>1</td>\n",
       "    </tr>\n",
       "    <tr>\n",
       "      <td>270140</td>\n",
       "      <td>49a83884edb7b3f4efc8996a8436ac68</td>\n",
       "      <td>/lekcja/jezyk-polski,fb9155ca2e6627846b9b2ffea...</td>\n",
       "      <td>2020-08-14</td>\n",
       "      <td>13:04:50</td>\n",
       "      <td>lekcja</td>\n",
       "      <td>1</td>\n",
       "    </tr>\n",
       "    <tr>\n",
       "      <td>270138</td>\n",
       "      <td>49a83884edb7b3f4efc8996a8436ac68</td>\n",
       "      <td>/lekcja/jezyk-polski,fb9155ca2e6627846b9b2ffea...</td>\n",
       "      <td>2020-08-14</td>\n",
       "      <td>12:53:40</td>\n",
       "      <td>lekcja</td>\n",
       "      <td>1</td>\n",
       "    </tr>\n",
       "    <tr>\n",
       "      <td>270137</td>\n",
       "      <td>49a83884edb7b3f4efc8996a8436ac68</td>\n",
       "      <td>/lekcja/jezyk-polski,fb9155ca2e6627846b9b2ffea...</td>\n",
       "      <td>2020-08-14</td>\n",
       "      <td>12:27:48</td>\n",
       "      <td>lekcja</td>\n",
       "      <td>1</td>\n",
       "    </tr>\n",
       "    <tr>\n",
       "      <td>270135</td>\n",
       "      <td>fedd128691499104578f0d8fa4a11fa4</td>\n",
       "      <td>/lekcja/biologia,c4a61b24e0a70445a593ed3167d7c6eb</td>\n",
       "      <td>2020-08-14</td>\n",
       "      <td>07:37:40</td>\n",
       "      <td>lekcja</td>\n",
       "      <td>1</td>\n",
       "    </tr>\n",
       "  </tbody>\n",
       "</table>\n",
       "</div>"
      ],
      "text/plain": [
       "                               client_id  \\\n",
       "0       d0a213b0718cd0e10475ce11d893c3cc   \n",
       "270140  49a83884edb7b3f4efc8996a8436ac68   \n",
       "270138  49a83884edb7b3f4efc8996a8436ac68   \n",
       "270137  49a83884edb7b3f4efc8996a8436ac68   \n",
       "270135  fedd128691499104578f0d8fa4a11fa4   \n",
       "\n",
       "                                                 pagePath       date  \\\n",
       "0       /lekcja/biologia,75f95eb9a371db8c2ea854da85219502 2020-07-29   \n",
       "270140  /lekcja/jezyk-polski,fb9155ca2e6627846b9b2ffea... 2020-08-14   \n",
       "270138  /lekcja/jezyk-polski,fb9155ca2e6627846b9b2ffea... 2020-08-14   \n",
       "270137  /lekcja/jezyk-polski,fb9155ca2e6627846b9b2ffea... 2020-08-14   \n",
       "270135  /lekcja/biologia,c4a61b24e0a70445a593ed3167d7c6eb 2020-08-14   \n",
       "\n",
       "            time pageMainCat  Organic_code  \n",
       "0       15:38:27      lekcja             1  \n",
       "270140  13:04:50      lekcja             1  \n",
       "270138  12:53:40      lekcja             1  \n",
       "270137  12:27:48      lekcja             1  \n",
       "270135  07:37:40      lekcja             1  "
      ]
     },
     "execution_count": 21,
     "metadata": {},
     "output_type": "execute_result"
    }
   ],
   "source": [
    "df_specific = df.copy()\n",
    "df_specific[\"Organic_code\"] = np.where(df_specific[\"medium\"].str.contains(\"organic\"), 1, 0)\n",
    "df_specific = df_specific.drop(\"medium\", axis = 1)\n",
    "\n",
    "df_specific.head()"
   ]
  },
  {
   "cell_type": "markdown",
   "metadata": {},
   "source": [
    " "
   ]
  },
  {
   "cell_type": "markdown",
   "metadata": {},
   "source": [
    "Kodowanie zmiennych \"pageMainCat\" za pomocą metody *Target/Guided Encoding*."
   ]
  },
  {
   "cell_type": "markdown",
   "metadata": {},
   "source": [
    "Obliczenie prawdopodobieństwa każdej z głównych kategorii na podstawie wartości celu kolumny \"Organic_code\"."
   ]
  },
  {
   "cell_type": "code",
   "execution_count": 22,
   "metadata": {},
   "outputs": [
    {
     "data": {
      "text/plain": [
       "pageMainCat\n",
       "Others            0.140407\n",
       "fiszki            0.285261\n",
       "fiszki-i-quizy    0.758673\n",
       "kategorie         0.371252\n",
       "lekcja            0.858868\n",
       "lesson/preview    0.239291\n",
       "o-portalu         0.002661\n",
       "quiz              0.351063\n",
       "sprawdz-sie       0.640625\n",
       "szukaj            0.307554\n",
       "Name: Organic_code, dtype: float64"
      ]
     },
     "execution_count": 22,
     "metadata": {},
     "output_type": "execute_result"
    }
   ],
   "source": [
    "df_specific.groupby([\"pageMainCat\"])[\"Organic_code\"].mean()"
   ]
  },
  {
   "cell_type": "markdown",
   "metadata": {},
   "source": [
    "Największe prawdopodobieństwo, że użytkownik wchodzący na stronę przez wyszukiwarkę (organic) występuje dla lekcji - ok. 86%."
   ]
  },
  {
   "cell_type": "code",
   "execution_count": 23,
   "metadata": {},
   "outputs": [],
   "source": [
    "Encoded_Lables = df_specific.groupby([\"pageMainCat\"])[\"Organic_code\"].mean().sort_values().index"
   ]
  },
  {
   "cell_type": "markdown",
   "metadata": {},
   "source": [
    "Stworzenie słowników zawierających klucz jako nazwę głównej kategorii i wartościami jako wspólny ranking prawdopodobieństwa."
   ]
  },
  {
   "cell_type": "code",
   "execution_count": 24,
   "metadata": {},
   "outputs": [],
   "source": [
    "Encoded_Lables_Ranks = { k:i for i, k in enumerate(Encoded_Lables, 0) }"
   ]
  },
  {
   "cell_type": "markdown",
   "metadata": {},
   "source": [
    "Stworzenie nowej kolumny \"pageMainCat_Encoded\" i zmapowanie wartośći głównych kategorii z rankingiem wspólnego prawdopodobieństwa."
   ]
  },
  {
   "cell_type": "code",
   "execution_count": 25,
   "metadata": {},
   "outputs": [],
   "source": [
    "df_specific[\"pageMainCat_Encoded\"] = df_specific[\"pageMainCat\"].map(Encoded_Lables_Ranks)"
   ]
  },
  {
   "cell_type": "markdown",
   "metadata": {},
   "source": [
    "Usunięcie oryginalnej kolumny \"pageMainCat\"."
   ]
  },
  {
   "cell_type": "code",
   "execution_count": 26,
   "metadata": {},
   "outputs": [],
   "source": [
    "#df_specific = df_specific.drop(\"pageMainCat\", axis = 1)"
   ]
  },
  {
   "cell_type": "code",
   "execution_count": 27,
   "metadata": {},
   "outputs": [
    {
     "data": {
      "text/html": [
       "<div>\n",
       "<style scoped>\n",
       "    .dataframe tbody tr th:only-of-type {\n",
       "        vertical-align: middle;\n",
       "    }\n",
       "\n",
       "    .dataframe tbody tr th {\n",
       "        vertical-align: top;\n",
       "    }\n",
       "\n",
       "    .dataframe thead th {\n",
       "        text-align: right;\n",
       "    }\n",
       "</style>\n",
       "<table border=\"1\" class=\"dataframe\">\n",
       "  <thead>\n",
       "    <tr style=\"text-align: right;\">\n",
       "      <th></th>\n",
       "      <th>client_id</th>\n",
       "      <th>pagePath</th>\n",
       "      <th>date</th>\n",
       "      <th>time</th>\n",
       "      <th>pageMainCat</th>\n",
       "      <th>Organic_code</th>\n",
       "      <th>pageMainCat_Encoded</th>\n",
       "    </tr>\n",
       "  </thead>\n",
       "  <tbody>\n",
       "    <tr>\n",
       "      <td>0</td>\n",
       "      <td>d0a213b0718cd0e10475ce11d893c3cc</td>\n",
       "      <td>/lekcja/biologia,75f95eb9a371db8c2ea854da85219502</td>\n",
       "      <td>2020-07-29</td>\n",
       "      <td>15:38:27</td>\n",
       "      <td>lekcja</td>\n",
       "      <td>1</td>\n",
       "      <td>9</td>\n",
       "    </tr>\n",
       "    <tr>\n",
       "      <td>270140</td>\n",
       "      <td>49a83884edb7b3f4efc8996a8436ac68</td>\n",
       "      <td>/lekcja/jezyk-polski,fb9155ca2e6627846b9b2ffea...</td>\n",
       "      <td>2020-08-14</td>\n",
       "      <td>13:04:50</td>\n",
       "      <td>lekcja</td>\n",
       "      <td>1</td>\n",
       "      <td>9</td>\n",
       "    </tr>\n",
       "    <tr>\n",
       "      <td>270138</td>\n",
       "      <td>49a83884edb7b3f4efc8996a8436ac68</td>\n",
       "      <td>/lekcja/jezyk-polski,fb9155ca2e6627846b9b2ffea...</td>\n",
       "      <td>2020-08-14</td>\n",
       "      <td>12:53:40</td>\n",
       "      <td>lekcja</td>\n",
       "      <td>1</td>\n",
       "      <td>9</td>\n",
       "    </tr>\n",
       "    <tr>\n",
       "      <td>270137</td>\n",
       "      <td>49a83884edb7b3f4efc8996a8436ac68</td>\n",
       "      <td>/lekcja/jezyk-polski,fb9155ca2e6627846b9b2ffea...</td>\n",
       "      <td>2020-08-14</td>\n",
       "      <td>12:27:48</td>\n",
       "      <td>lekcja</td>\n",
       "      <td>1</td>\n",
       "      <td>9</td>\n",
       "    </tr>\n",
       "    <tr>\n",
       "      <td>270135</td>\n",
       "      <td>fedd128691499104578f0d8fa4a11fa4</td>\n",
       "      <td>/lekcja/biologia,c4a61b24e0a70445a593ed3167d7c6eb</td>\n",
       "      <td>2020-08-14</td>\n",
       "      <td>07:37:40</td>\n",
       "      <td>lekcja</td>\n",
       "      <td>1</td>\n",
       "      <td>9</td>\n",
       "    </tr>\n",
       "    <tr>\n",
       "      <td>...</td>\n",
       "      <td>...</td>\n",
       "      <td>...</td>\n",
       "      <td>...</td>\n",
       "      <td>...</td>\n",
       "      <td>...</td>\n",
       "      <td>...</td>\n",
       "      <td>...</td>\n",
       "    </tr>\n",
       "    <tr>\n",
       "      <td>346272</td>\n",
       "      <td>f5402b2f66d5f1e952a7baa393dd7e0c</td>\n",
       "      <td>/</td>\n",
       "      <td>2020-08-17</td>\n",
       "      <td>16:24:38</td>\n",
       "      <td>Others</td>\n",
       "      <td>0</td>\n",
       "      <td>1</td>\n",
       "    </tr>\n",
       "    <tr>\n",
       "      <td>5336</td>\n",
       "      <td>f5402b2f66d5f1e952a7baa393dd7e0c</td>\n",
       "      <td>/</td>\n",
       "      <td>2020-07-29</td>\n",
       "      <td>19:44:39</td>\n",
       "      <td>Others</td>\n",
       "      <td>0</td>\n",
       "      <td>1</td>\n",
       "    </tr>\n",
       "    <tr>\n",
       "      <td>75595</td>\n",
       "      <td>f5402b2f66d5f1e952a7baa393dd7e0c</td>\n",
       "      <td>/</td>\n",
       "      <td>2020-08-02</td>\n",
       "      <td>14:51:03</td>\n",
       "      <td>Others</td>\n",
       "      <td>0</td>\n",
       "      <td>1</td>\n",
       "    </tr>\n",
       "    <tr>\n",
       "      <td>36471</td>\n",
       "      <td>f5402b2f66d5f1e952a7baa393dd7e0c</td>\n",
       "      <td>/</td>\n",
       "      <td>2020-07-31</td>\n",
       "      <td>21:15:53</td>\n",
       "      <td>Others</td>\n",
       "      <td>0</td>\n",
       "      <td>1</td>\n",
       "    </tr>\n",
       "    <tr>\n",
       "      <td>10918</td>\n",
       "      <td>700b9d1bceae577566e97e1ea2abf19e</td>\n",
       "      <td>/kategorie/matematyka</td>\n",
       "      <td>2020-07-30</td>\n",
       "      <td>17:18:18</td>\n",
       "      <td>kategorie</td>\n",
       "      <td>0</td>\n",
       "      <td>6</td>\n",
       "    </tr>\n",
       "  </tbody>\n",
       "</table>\n",
       "<p>466822 rows × 7 columns</p>\n",
       "</div>"
      ],
      "text/plain": [
       "                               client_id  \\\n",
       "0       d0a213b0718cd0e10475ce11d893c3cc   \n",
       "270140  49a83884edb7b3f4efc8996a8436ac68   \n",
       "270138  49a83884edb7b3f4efc8996a8436ac68   \n",
       "270137  49a83884edb7b3f4efc8996a8436ac68   \n",
       "270135  fedd128691499104578f0d8fa4a11fa4   \n",
       "...                                  ...   \n",
       "346272  f5402b2f66d5f1e952a7baa393dd7e0c   \n",
       "5336    f5402b2f66d5f1e952a7baa393dd7e0c   \n",
       "75595   f5402b2f66d5f1e952a7baa393dd7e0c   \n",
       "36471   f5402b2f66d5f1e952a7baa393dd7e0c   \n",
       "10918   700b9d1bceae577566e97e1ea2abf19e   \n",
       "\n",
       "                                                 pagePath       date  \\\n",
       "0       /lekcja/biologia,75f95eb9a371db8c2ea854da85219502 2020-07-29   \n",
       "270140  /lekcja/jezyk-polski,fb9155ca2e6627846b9b2ffea... 2020-08-14   \n",
       "270138  /lekcja/jezyk-polski,fb9155ca2e6627846b9b2ffea... 2020-08-14   \n",
       "270137  /lekcja/jezyk-polski,fb9155ca2e6627846b9b2ffea... 2020-08-14   \n",
       "270135  /lekcja/biologia,c4a61b24e0a70445a593ed3167d7c6eb 2020-08-14   \n",
       "...                                                   ...        ...   \n",
       "346272                                                  / 2020-08-17   \n",
       "5336                                                    / 2020-07-29   \n",
       "75595                                                   / 2020-08-02   \n",
       "36471                                                   / 2020-07-31   \n",
       "10918                               /kategorie/matematyka 2020-07-30   \n",
       "\n",
       "            time pageMainCat  Organic_code pageMainCat_Encoded  \n",
       "0       15:38:27      lekcja             1                   9  \n",
       "270140  13:04:50      lekcja             1                   9  \n",
       "270138  12:53:40      lekcja             1                   9  \n",
       "270137  12:27:48      lekcja             1                   9  \n",
       "270135  07:37:40      lekcja             1                   9  \n",
       "...          ...         ...           ...                 ...  \n",
       "346272  16:24:38      Others             0                   1  \n",
       "5336    19:44:39      Others             0                   1  \n",
       "75595   14:51:03      Others             0                   1  \n",
       "36471   21:15:53      Others             0                   1  \n",
       "10918   17:18:18   kategorie             0                   6  \n",
       "\n",
       "[466822 rows x 7 columns]"
      ]
     },
     "execution_count": 27,
     "metadata": {},
     "output_type": "execute_result"
    }
   ],
   "source": [
    "df_specific"
   ]
  },
  {
   "cell_type": "markdown",
   "metadata": {},
   "source": [
    "Obliczenie Współczynnika V Craméra pomiędzy kolumnami \"Organic_code\" i \"pageMainCat_Encoded\"."
   ]
  },
  {
   "cell_type": "code",
   "execution_count": 28,
   "metadata": {},
   "outputs": [],
   "source": [
    "def cramers_v(confusion_matrix):\n",
    "    chi2 = ss.chi2_contingency(confusion_matrix)[0]\n",
    "    n = confusion_matrix.sum()\n",
    "    phi2 = chi2 / n\n",
    "    r, k = confusion_matrix.shape\n",
    "    phi2corr = max(0, phi2 - ((k-1)*(r-1))/(n-1))\n",
    "    rcorr = r - ((r-1)**2)/(n-1)\n",
    "    kcorr = k - ((k-1)**2)/(n-1)\n",
    "    return np.sqrt(phi2corr / min((kcorr-1), (rcorr-1)))"
   ]
  },
  {
   "cell_type": "code",
   "execution_count": 29,
   "metadata": {},
   "outputs": [
    {
     "name": "stderr",
     "output_type": "stream",
     "text": [
      "C:\\Users\\owkr9001\\AppData\\Local\\Continuum\\anaconda3\\lib\\site-packages\\ipykernel_launcher.py:1: FutureWarning: Method .as_matrix will be removed in a future version. Use .values instead.\n",
      "  \"\"\"Entry point for launching an IPython kernel.\n"
     ]
    },
    {
     "data": {
      "text/plain": [
       "0.6621484147835431"
      ]
     },
     "execution_count": 29,
     "metadata": {},
     "output_type": "execute_result"
    }
   ],
   "source": [
    "confusion_matrix = pd.crosstab(df_specific[\"Organic_code\"], df_specific[\"pageMainCat_Encoded\"]).as_matrix()\n",
    "cramers_v(confusion_matrix)"
   ]
  },
  {
   "cell_type": "markdown",
   "metadata": {},
   "source": [
    "Zachodzi silna korelacja pomiędzy wejściem na stronę przez wyszukiwarkę (organic), a głównymi kategoriami, na które wchodzą używtkownicy."
   ]
  },
  {
   "cell_type": "markdown",
   "metadata": {},
   "source": [
    " "
   ]
  },
  {
   "cell_type": "markdown",
   "metadata": {},
   "source": [
    "Kodowanie zmiennych \"pageMainCat\" za pomocą metody *One Hot Encoding*."
   ]
  },
  {
   "cell_type": "code",
   "execution_count": 30,
   "metadata": {},
   "outputs": [
    {
     "data": {
      "text/html": [
       "<div>\n",
       "<style scoped>\n",
       "    .dataframe tbody tr th:only-of-type {\n",
       "        vertical-align: middle;\n",
       "    }\n",
       "\n",
       "    .dataframe tbody tr th {\n",
       "        vertical-align: top;\n",
       "    }\n",
       "\n",
       "    .dataframe thead th {\n",
       "        text-align: right;\n",
       "    }\n",
       "</style>\n",
       "<table border=\"1\" class=\"dataframe\">\n",
       "  <thead>\n",
       "    <tr style=\"text-align: right;\">\n",
       "      <th></th>\n",
       "      <th>client_id</th>\n",
       "      <th>pagePath</th>\n",
       "      <th>date</th>\n",
       "      <th>time</th>\n",
       "      <th>Organic_code</th>\n",
       "      <th>pageMainCat_Encoded</th>\n",
       "      <th>pageMainCat_Others</th>\n",
       "      <th>pageMainCat_fiszki</th>\n",
       "      <th>pageMainCat_fiszki-i-quizy</th>\n",
       "      <th>pageMainCat_kategorie</th>\n",
       "      <th>pageMainCat_lekcja</th>\n",
       "      <th>pageMainCat_lesson/preview</th>\n",
       "      <th>pageMainCat_o-portalu</th>\n",
       "      <th>pageMainCat_quiz</th>\n",
       "      <th>pageMainCat_sprawdz-sie</th>\n",
       "      <th>pageMainCat_szukaj</th>\n",
       "    </tr>\n",
       "  </thead>\n",
       "  <tbody>\n",
       "    <tr>\n",
       "      <td>0</td>\n",
       "      <td>d0a213b0718cd0e10475ce11d893c3cc</td>\n",
       "      <td>/lekcja/biologia,75f95eb9a371db8c2ea854da85219502</td>\n",
       "      <td>2020-07-29</td>\n",
       "      <td>15:38:27</td>\n",
       "      <td>1</td>\n",
       "      <td>9</td>\n",
       "      <td>0</td>\n",
       "      <td>0</td>\n",
       "      <td>0</td>\n",
       "      <td>0</td>\n",
       "      <td>1</td>\n",
       "      <td>0</td>\n",
       "      <td>0</td>\n",
       "      <td>0</td>\n",
       "      <td>0</td>\n",
       "      <td>0</td>\n",
       "    </tr>\n",
       "    <tr>\n",
       "      <td>270140</td>\n",
       "      <td>49a83884edb7b3f4efc8996a8436ac68</td>\n",
       "      <td>/lekcja/jezyk-polski,fb9155ca2e6627846b9b2ffea...</td>\n",
       "      <td>2020-08-14</td>\n",
       "      <td>13:04:50</td>\n",
       "      <td>1</td>\n",
       "      <td>9</td>\n",
       "      <td>0</td>\n",
       "      <td>0</td>\n",
       "      <td>0</td>\n",
       "      <td>0</td>\n",
       "      <td>1</td>\n",
       "      <td>0</td>\n",
       "      <td>0</td>\n",
       "      <td>0</td>\n",
       "      <td>0</td>\n",
       "      <td>0</td>\n",
       "    </tr>\n",
       "    <tr>\n",
       "      <td>270138</td>\n",
       "      <td>49a83884edb7b3f4efc8996a8436ac68</td>\n",
       "      <td>/lekcja/jezyk-polski,fb9155ca2e6627846b9b2ffea...</td>\n",
       "      <td>2020-08-14</td>\n",
       "      <td>12:53:40</td>\n",
       "      <td>1</td>\n",
       "      <td>9</td>\n",
       "      <td>0</td>\n",
       "      <td>0</td>\n",
       "      <td>0</td>\n",
       "      <td>0</td>\n",
       "      <td>1</td>\n",
       "      <td>0</td>\n",
       "      <td>0</td>\n",
       "      <td>0</td>\n",
       "      <td>0</td>\n",
       "      <td>0</td>\n",
       "    </tr>\n",
       "    <tr>\n",
       "      <td>270137</td>\n",
       "      <td>49a83884edb7b3f4efc8996a8436ac68</td>\n",
       "      <td>/lekcja/jezyk-polski,fb9155ca2e6627846b9b2ffea...</td>\n",
       "      <td>2020-08-14</td>\n",
       "      <td>12:27:48</td>\n",
       "      <td>1</td>\n",
       "      <td>9</td>\n",
       "      <td>0</td>\n",
       "      <td>0</td>\n",
       "      <td>0</td>\n",
       "      <td>0</td>\n",
       "      <td>1</td>\n",
       "      <td>0</td>\n",
       "      <td>0</td>\n",
       "      <td>0</td>\n",
       "      <td>0</td>\n",
       "      <td>0</td>\n",
       "    </tr>\n",
       "    <tr>\n",
       "      <td>270135</td>\n",
       "      <td>fedd128691499104578f0d8fa4a11fa4</td>\n",
       "      <td>/lekcja/biologia,c4a61b24e0a70445a593ed3167d7c6eb</td>\n",
       "      <td>2020-08-14</td>\n",
       "      <td>07:37:40</td>\n",
       "      <td>1</td>\n",
       "      <td>9</td>\n",
       "      <td>0</td>\n",
       "      <td>0</td>\n",
       "      <td>0</td>\n",
       "      <td>0</td>\n",
       "      <td>1</td>\n",
       "      <td>0</td>\n",
       "      <td>0</td>\n",
       "      <td>0</td>\n",
       "      <td>0</td>\n",
       "      <td>0</td>\n",
       "    </tr>\n",
       "  </tbody>\n",
       "</table>\n",
       "</div>"
      ],
      "text/plain": [
       "                               client_id  \\\n",
       "0       d0a213b0718cd0e10475ce11d893c3cc   \n",
       "270140  49a83884edb7b3f4efc8996a8436ac68   \n",
       "270138  49a83884edb7b3f4efc8996a8436ac68   \n",
       "270137  49a83884edb7b3f4efc8996a8436ac68   \n",
       "270135  fedd128691499104578f0d8fa4a11fa4   \n",
       "\n",
       "                                                 pagePath       date  \\\n",
       "0       /lekcja/biologia,75f95eb9a371db8c2ea854da85219502 2020-07-29   \n",
       "270140  /lekcja/jezyk-polski,fb9155ca2e6627846b9b2ffea... 2020-08-14   \n",
       "270138  /lekcja/jezyk-polski,fb9155ca2e6627846b9b2ffea... 2020-08-14   \n",
       "270137  /lekcja/jezyk-polski,fb9155ca2e6627846b9b2ffea... 2020-08-14   \n",
       "270135  /lekcja/biologia,c4a61b24e0a70445a593ed3167d7c6eb 2020-08-14   \n",
       "\n",
       "            time  Organic_code pageMainCat_Encoded  pageMainCat_Others  \\\n",
       "0       15:38:27             1                   9                   0   \n",
       "270140  13:04:50             1                   9                   0   \n",
       "270138  12:53:40             1                   9                   0   \n",
       "270137  12:27:48             1                   9                   0   \n",
       "270135  07:37:40             1                   9                   0   \n",
       "\n",
       "        pageMainCat_fiszki  pageMainCat_fiszki-i-quizy  pageMainCat_kategorie  \\\n",
       "0                        0                           0                      0   \n",
       "270140                   0                           0                      0   \n",
       "270138                   0                           0                      0   \n",
       "270137                   0                           0                      0   \n",
       "270135                   0                           0                      0   \n",
       "\n",
       "        pageMainCat_lekcja  pageMainCat_lesson/preview  pageMainCat_o-portalu  \\\n",
       "0                        1                           0                      0   \n",
       "270140                   1                           0                      0   \n",
       "270138                   1                           0                      0   \n",
       "270137                   1                           0                      0   \n",
       "270135                   1                           0                      0   \n",
       "\n",
       "        pageMainCat_quiz  pageMainCat_sprawdz-sie  pageMainCat_szukaj  \n",
       "0                      0                        0                   0  \n",
       "270140                 0                        0                   0  \n",
       "270138                 0                        0                   0  \n",
       "270137                 0                        0                   0  \n",
       "270135                 0                        0                   0  "
      ]
     },
     "execution_count": 30,
     "metadata": {},
     "output_type": "execute_result"
    }
   ],
   "source": [
    "df_onehot = df_specific.copy()\n",
    "df_onehot = pd.get_dummies(df_onehot, columns=[\"pageMainCat\"], prefix = [\"pageMainCat\"])\n",
    "\n",
    "df_onehot.head()"
   ]
  },
  {
   "cell_type": "code",
   "execution_count": 46,
   "metadata": {},
   "outputs": [
    {
     "name": "stderr",
     "output_type": "stream",
     "text": [
      "C:\\Users\\owkr9001\\AppData\\Local\\Continuum\\anaconda3\\lib\\site-packages\\ipykernel_launcher.py:1: FutureWarning: Method .as_matrix will be removed in a future version. Use .values instead.\n",
      "  \"\"\"Entry point for launching an IPython kernel.\n",
      "C:\\Users\\owkr9001\\AppData\\Local\\Continuum\\anaconda3\\lib\\site-packages\\ipykernel_launcher.py:2: FutureWarning: Method .as_matrix will be removed in a future version. Use .values instead.\n",
      "  \n",
      "C:\\Users\\owkr9001\\AppData\\Local\\Continuum\\anaconda3\\lib\\site-packages\\ipykernel_launcher.py:3: FutureWarning: Method .as_matrix will be removed in a future version. Use .values instead.\n",
      "  This is separate from the ipykernel package so we can avoid doing imports until\n",
      "C:\\Users\\owkr9001\\AppData\\Local\\Continuum\\anaconda3\\lib\\site-packages\\ipykernel_launcher.py:4: FutureWarning: Method .as_matrix will be removed in a future version. Use .values instead.\n",
      "  after removing the cwd from sys.path.\n",
      "C:\\Users\\owkr9001\\AppData\\Local\\Continuum\\anaconda3\\lib\\site-packages\\ipykernel_launcher.py:5: FutureWarning: Method .as_matrix will be removed in a future version. Use .values instead.\n",
      "  \"\"\"\n",
      "C:\\Users\\owkr9001\\AppData\\Local\\Continuum\\anaconda3\\lib\\site-packages\\ipykernel_launcher.py:6: FutureWarning: Method .as_matrix will be removed in a future version. Use .values instead.\n",
      "  \n",
      "C:\\Users\\owkr9001\\AppData\\Local\\Continuum\\anaconda3\\lib\\site-packages\\ipykernel_launcher.py:7: FutureWarning: Method .as_matrix will be removed in a future version. Use .values instead.\n",
      "  import sys\n",
      "C:\\Users\\owkr9001\\AppData\\Local\\Continuum\\anaconda3\\lib\\site-packages\\ipykernel_launcher.py:8: FutureWarning: Method .as_matrix will be removed in a future version. Use .values instead.\n",
      "  \n",
      "C:\\Users\\owkr9001\\AppData\\Local\\Continuum\\anaconda3\\lib\\site-packages\\ipykernel_launcher.py:9: FutureWarning: Method .as_matrix will be removed in a future version. Use .values instead.\n",
      "  if __name__ == '__main__':\n",
      "C:\\Users\\owkr9001\\AppData\\Local\\Continuum\\anaconda3\\lib\\site-packages\\ipykernel_launcher.py:10: FutureWarning: Method .as_matrix will be removed in a future version. Use .values instead.\n",
      "  # Remove the CWD from sys.path while we load stuff.\n"
     ]
    }
   ],
   "source": [
    "cm_Others = pd.crosstab(df_onehot[\"Organic_code\"], df_onehot[\"pageMainCat_Others\"]).as_matrix()\n",
    "cm_fiszki = pd.crosstab(df_onehot[\"Organic_code\"], df_onehot[\"pageMainCat_fiszki\"]).as_matrix()\n",
    "cm_fiszki_i_quizy = pd.crosstab(df_onehot[\"Organic_code\"], df_onehot[\"pageMainCat_fiszki-i-quizy\"]).as_matrix()\n",
    "cm_kategorie = pd.crosstab(df_onehot[\"Organic_code\"], df_onehot[\"pageMainCat_kategorie\"]).as_matrix()\n",
    "cm_lekcja = pd.crosstab(df_onehot[\"Organic_code\"], df_onehot[\"pageMainCat_lekcja\"]).as_matrix()\n",
    "cm_lesson_preview = pd.crosstab(df_onehot[\"Organic_code\"], df_onehot[\"pageMainCat_lesson/preview\"]).as_matrix()\n",
    "cm_o_portalu = pd.crosstab(df_onehot[\"Organic_code\"], df_onehot[\"pageMainCat_o-portalu\"]).as_matrix()\n",
    "cm_quiz = pd.crosstab(df_onehot[\"Organic_code\"], df_onehot[\"pageMainCat_quiz\"]).as_matrix()\n",
    "cm_sprawdz_sie = pd.crosstab(df_onehot[\"Organic_code\"], df_onehot[\"pageMainCat_sprawdz-sie\"]).as_matrix()\n",
    "cm_szukaj = pd.crosstab(df_onehot[\"Organic_code\"], df_onehot[\"pageMainCat_szukaj\"]).as_matrix()"
   ]
  },
  {
   "cell_type": "code",
   "execution_count": 47,
   "metadata": {},
   "outputs": [
    {
     "data": {
      "text/html": [
       "<div>\n",
       "<style scoped>\n",
       "    .dataframe tbody tr th:only-of-type {\n",
       "        vertical-align: middle;\n",
       "    }\n",
       "\n",
       "    .dataframe tbody tr th {\n",
       "        vertical-align: top;\n",
       "    }\n",
       "\n",
       "    .dataframe thead th {\n",
       "        text-align: right;\n",
       "    }\n",
       "</style>\n",
       "<table border=\"1\" class=\"dataframe\">\n",
       "  <thead>\n",
       "    <tr style=\"text-align: right;\">\n",
       "      <th></th>\n",
       "      <th>Kategoria</th>\n",
       "      <th>Współczynnik V Craméra</th>\n",
       "    </tr>\n",
       "  </thead>\n",
       "  <tbody>\n",
       "    <tr>\n",
       "      <td>0</td>\n",
       "      <td>lekcja</td>\n",
       "      <td>0.637651</td>\n",
       "    </tr>\n",
       "    <tr>\n",
       "      <td>1</td>\n",
       "      <td>Others</td>\n",
       "      <td>0.355948</td>\n",
       "    </tr>\n",
       "    <tr>\n",
       "      <td>2</td>\n",
       "      <td>fiszki</td>\n",
       "      <td>0.174430</td>\n",
       "    </tr>\n",
       "    <tr>\n",
       "      <td>3</td>\n",
       "      <td>quiz</td>\n",
       "      <td>0.159084</td>\n",
       "    </tr>\n",
       "    <tr>\n",
       "      <td>4</td>\n",
       "      <td>kategorie</td>\n",
       "      <td>0.069299</td>\n",
       "    </tr>\n",
       "    <tr>\n",
       "      <td>5</td>\n",
       "      <td>lesson_preview</td>\n",
       "      <td>0.024324</td>\n",
       "    </tr>\n",
       "    <tr>\n",
       "      <td>6</td>\n",
       "      <td>fiszki_i_quizy</td>\n",
       "      <td>0.015139</td>\n",
       "    </tr>\n",
       "    <tr>\n",
       "      <td>7</td>\n",
       "      <td>szukaj</td>\n",
       "      <td>0.017261</td>\n",
       "    </tr>\n",
       "    <tr>\n",
       "      <td>8</td>\n",
       "      <td>sprawdz_sie</td>\n",
       "      <td>0.001001</td>\n",
       "    </tr>\n",
       "  </tbody>\n",
       "</table>\n",
       "</div>"
      ],
      "text/plain": [
       "        Kategoria  Współczynnik V Craméra\n",
       "0          lekcja                0.637651\n",
       "1          Others                0.355948\n",
       "2          fiszki                0.174430\n",
       "3            quiz                0.159084\n",
       "4       kategorie                0.069299\n",
       "5  lesson_preview                0.024324\n",
       "6  fiszki_i_quizy                0.015139\n",
       "7          szukaj                0.017261\n",
       "8     sprawdz_sie                0.001001"
      ]
     },
     "execution_count": 47,
     "metadata": {},
     "output_type": "execute_result"
    }
   ],
   "source": [
    "data = {'Kategoria':  ['lekcja', 'Others','fiszki','quiz','kategorie', 'lesson_preview', 'fiszki_i_quizy', 'szukaj', 'sprawdz_sie'],\n",
    "        'Współczynnik V Craméra': [cramers_v(cm_lekcja), cramers_v(cm_Others) ,cramers_v(cm_fiszki), cramers_v(cm_quiz),\n",
    "                                   cramers_v(cm_kategorie), cramers_v(cm_lesson_preview), cramers_v(cm_fiszki_i_quizy),\n",
    "                                  cramers_v(cm_szukaj), cramers_v(cm_sprawdz_sie)]\n",
    "        }\n",
    "\n",
    "Cramér = pd.DataFrame (data, columns = ['Kategoria','Współczynnik V Craméra'])\n",
    "\n",
    "Cramér"
   ]
  },
  {
   "cell_type": "markdown",
   "metadata": {},
   "source": [
    "Po sprawdzeniu Współczynnika korelacji V Cramera, można określić, że z pośród rozpatrywanych kategorii, jedynie \"lekcja\" wykazuje realną korelację z wejściem na stronę przez wyszukiwarkę (organic). "
   ]
  }
 ],
 "metadata": {
  "kernelspec": {
   "display_name": "Python 3",
   "language": "python",
   "name": "python3"
  },
  "language_info": {
   "codemirror_mode": {
    "name": "ipython",
    "version": 3
   },
   "file_extension": ".py",
   "mimetype": "text/x-python",
   "name": "python",
   "nbconvert_exporter": "python",
   "pygments_lexer": "ipython3",
   "version": "3.7.4"
  }
 },
 "nbformat": 4,
 "nbformat_minor": 2
}
