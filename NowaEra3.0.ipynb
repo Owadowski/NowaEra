{
 "cells": [
  {
   "cell_type": "markdown",
   "metadata": {},
   "source": [
    "# Analiza czynników mogących wpływać na prawdopodobieństwo powrotu użytkownika na stronę"
   ]
  },
  {
   "cell_type": "code",
   "execution_count": 1,
   "metadata": {},
   "outputs": [],
   "source": [
    "import pandas as pd\n",
    "import numpy as np\n",
    "import datetime as dt\n",
    "from sklearn.linear_model import LinearRegression\n",
    "from sklearn.model_selection import train_test_split\n",
    "import scipy.stats as ss\n",
    "import matplotlib.pyplot as plt\n",
    "%matplotlib inline"
   ]
  },
  {
   "cell_type": "markdown",
   "metadata": {},
   "source": [
    " "
   ]
  },
  {
   "cell_type": "markdown",
   "metadata": {},
   "source": [
    "Załadowanie zbioru danych i oczyszczenie z niepotrzebnych znaków"
   ]
  },
  {
   "cell_type": "code",
   "execution_count": 2,
   "metadata": {
    "scrolled": true
   },
   "outputs": [
    {
     "data": {
      "text/html": [
       "<div>\n",
       "<style scoped>\n",
       "    .dataframe tbody tr th:only-of-type {\n",
       "        vertical-align: middle;\n",
       "    }\n",
       "\n",
       "    .dataframe tbody tr th {\n",
       "        vertical-align: top;\n",
       "    }\n",
       "\n",
       "    .dataframe thead th {\n",
       "        text-align: right;\n",
       "    }\n",
       "</style>\n",
       "<table border=\"1\" class=\"dataframe\">\n",
       "  <thead>\n",
       "    <tr style=\"text-align: right;\">\n",
       "      <th></th>\n",
       "      <th>client_id</th>\n",
       "      <th>action_time</th>\n",
       "      <th>pagePath</th>\n",
       "      <th>medium</th>\n",
       "      <th>eventAction</th>\n",
       "      <th>date</th>\n",
       "    </tr>\n",
       "  </thead>\n",
       "  <tbody>\n",
       "    <tr>\n",
       "      <td>0</td>\n",
       "      <td>d0a213b0718cd0e10475ce11d893c3cc</td>\n",
       "      <td>2020-07-29T15:38:27Z</td>\n",
       "      <td>/lekcja/biologia,75f95eb9a371db8c2ea854da85219502</td>\n",
       "      <td>organic</td>\n",
       "      <td>pageview</td>\n",
       "      <td>29.07.2020</td>\n",
       "    </tr>\n",
       "    <tr>\n",
       "      <td>1</td>\n",
       "      <td>4416f6ec763cc9e65ca17482d3960971</td>\n",
       "      <td>2020-07-29T21:03:06Z</td>\n",
       "      <td>/</td>\n",
       "      <td>(none)</td>\n",
       "      <td>pageview</td>\n",
       "      <td>29.07.2020</td>\n",
       "    </tr>\n",
       "    <tr>\n",
       "      <td>2</td>\n",
       "      <td>c3d6e02ad3e2a781dba7c48a4d354199</td>\n",
       "      <td>2020-07-29T07:51:28Z</td>\n",
       "      <td>/o-portalu</td>\n",
       "      <td>banner</td>\n",
       "      <td>pageview</td>\n",
       "      <td>29.07.2020</td>\n",
       "    </tr>\n",
       "    <tr>\n",
       "      <td>3</td>\n",
       "      <td>3bd4feb129163c7889a70d3d12c6e82d</td>\n",
       "      <td>2020-07-29T12:23:00Z</td>\n",
       "      <td>/lekcja/geografia,12901cca29551ad7d556962231a1...</td>\n",
       "      <td>organic</td>\n",
       "      <td>pageview</td>\n",
       "      <td>29.07.2020</td>\n",
       "    </tr>\n",
       "    <tr>\n",
       "      <td>4</td>\n",
       "      <td>3d90c06c313a2120ce98ff14b6581570</td>\n",
       "      <td>2020-07-29T12:27:30Z</td>\n",
       "      <td>/lekcja/jezyk-polski,c106aef9f68b2b03b8afe7d89...</td>\n",
       "      <td>organic</td>\n",
       "      <td>pageview</td>\n",
       "      <td>29.07.2020</td>\n",
       "    </tr>\n",
       "  </tbody>\n",
       "</table>\n",
       "</div>"
      ],
      "text/plain": [
       "                          client_id           action_time  \\\n",
       "0  d0a213b0718cd0e10475ce11d893c3cc  2020-07-29T15:38:27Z   \n",
       "1  4416f6ec763cc9e65ca17482d3960971  2020-07-29T21:03:06Z   \n",
       "2  c3d6e02ad3e2a781dba7c48a4d354199  2020-07-29T07:51:28Z   \n",
       "3  3bd4feb129163c7889a70d3d12c6e82d  2020-07-29T12:23:00Z   \n",
       "4  3d90c06c313a2120ce98ff14b6581570  2020-07-29T12:27:30Z   \n",
       "\n",
       "                                            pagePath   medium eventAction  \\\n",
       "0  /lekcja/biologia,75f95eb9a371db8c2ea854da85219502  organic    pageview   \n",
       "1                                                  /   (none)    pageview   \n",
       "2                                         /o-portalu   banner    pageview   \n",
       "3  /lekcja/geografia,12901cca29551ad7d556962231a1...  organic    pageview   \n",
       "4  /lekcja/jezyk-polski,c106aef9f68b2b03b8afe7d89...  organic    pageview   \n",
       "\n",
       "         date  \n",
       "0  29.07.2020  \n",
       "1  29.07.2020  \n",
       "2  29.07.2020  \n",
       "3  29.07.2020  \n",
       "4  29.07.2020  "
      ]
     },
     "execution_count": 2,
     "metadata": {},
     "output_type": "execute_result"
    }
   ],
   "source": [
    "file = \"dane.csv\"\n",
    "df = pd.read_csv(file, header=0, sep=\"[;]\", engine=\"python\", \n",
    "                 names=(\"client_id\",\"action_time\", \"pagePath\", \"medium\", \"eventAction\", \"date\"))\n",
    "df.client_id = df.client_id.str[1:]\n",
    "df.date = df.date.str[:-1]\n",
    "df.head()"
   ]
  },
  {
   "cell_type": "markdown",
   "metadata": {},
   "source": [
    "Opis zmiennych:<br />&nbsp;&nbsp;&nbsp;\n",
    "    client_id - ID użytkownika (pozyskiwane za pomocą cookie)<br />&nbsp;&nbsp;&nbsp;\n",
    "    ts - dokładny czas, w którym nastąpiło wydarzenie<br />&nbsp;&nbsp;&nbsp;\n",
    "    pagePath - ścieżka strony, która była oglądana<br />&nbsp;&nbsp;&nbsp;\n",
    "    medium - czyli medium, z którego użytkownik przyszedł na stronę <br />&nbsp;&nbsp;&nbsp;\n",
    "    eventAction - rodzaj akcji wykonanej przez użytkownika<br />&nbsp;&nbsp;&nbsp;\n",
    "    date - data zdarzenia<br />&nbsp;&nbsp;&nbsp;\n",
    "    <br />\n",
    "Opis mediów kolumny \"medium\":<br />&nbsp;&nbsp;&nbsp;\n",
    "    cpc - wejście z kampanii marketingowej<br />&nbsp;&nbsp;&nbsp;\n",
    "    organic - wejście z wyszukiwarki<br />&nbsp;&nbsp;&nbsp;\n",
    "    banner - wejście z baneru reklamowego<br />&nbsp;&nbsp;&nbsp;\n",
    "    referral - wejście z linku polecającego<br />&nbsp;&nbsp;&nbsp;\n",
    "    email - wejście przez mail<br />&nbsp;&nbsp;&nbsp;\n",
    "    post - wejście przez post<br />&nbsp;&nbsp;&nbsp;\n",
    "    link - wejście przez link<br />&nbsp;&nbsp;&nbsp;\n",
    "    webpush - wejście przez wiadomości, wysyłane przez stronę internetową<br />&nbsp;&nbsp;&nbsp;"
   ]
  },
  {
   "cell_type": "markdown",
   "metadata": {},
   "source": [
    " "
   ]
  },
  {
   "cell_type": "markdown",
   "metadata": {},
   "source": [
    "Konwersja kolumny \"date\" na *datetime* i utworzenie kolumny \"time\" z czasem zdarzenia"
   ]
  },
  {
   "cell_type": "code",
   "execution_count": 3,
   "metadata": {},
   "outputs": [],
   "source": [
    "df[\"date\"] = pd.to_datetime(df[\"date\"], format=\"%d.%m.%Y\")\n",
    "df[\"action_time\"] = pd.to_datetime(df[\"action_time\"]).dt.time"
   ]
  },
  {
   "cell_type": "markdown",
   "metadata": {},
   "source": [
    " "
   ]
  },
  {
   "cell_type": "code",
   "execution_count": 4,
   "metadata": {},
   "outputs": [
    {
     "name": "stdout",
     "output_type": "stream",
     "text": [
      "0\n"
     ]
    }
   ],
   "source": [
    "print(df.isnull().values.sum())"
   ]
  },
  {
   "cell_type": "markdown",
   "metadata": {},
   "source": [
    " Dane nie zawierają wartości pustych, nie wymagają więc oczyszczenia z nich.\n"
   ]
  },
  {
   "cell_type": "markdown",
   "metadata": {},
   "source": [
    " "
   ]
  },
  {
   "cell_type": "code",
   "execution_count": 5,
   "metadata": {},
   "outputs": [],
   "source": [
    "df[\"medium\"] = df[\"medium\"].astype(\"category\")"
   ]
  },
  {
   "cell_type": "markdown",
   "metadata": {},
   "source": [
    "Zmiana typu danych kolumny \"medium\" na typ danych *category*"
   ]
  },
  {
   "cell_type": "markdown",
   "metadata": {},
   "source": [
    " "
   ]
  },
  {
   "cell_type": "code",
   "execution_count": 6,
   "metadata": {},
   "outputs": [
    {
     "data": {
      "text/html": [
       "<div>\n",
       "<style scoped>\n",
       "    .dataframe tbody tr th:only-of-type {\n",
       "        vertical-align: middle;\n",
       "    }\n",
       "\n",
       "    .dataframe tbody tr th {\n",
       "        vertical-align: top;\n",
       "    }\n",
       "\n",
       "    .dataframe thead th {\n",
       "        text-align: right;\n",
       "    }\n",
       "</style>\n",
       "<table border=\"1\" class=\"dataframe\">\n",
       "  <thead>\n",
       "    <tr style=\"text-align: right;\">\n",
       "      <th></th>\n",
       "      <th>client_id</th>\n",
       "      <th>action_time</th>\n",
       "      <th>pagePath</th>\n",
       "      <th>medium</th>\n",
       "      <th>eventAction</th>\n",
       "      <th>date</th>\n",
       "    </tr>\n",
       "  </thead>\n",
       "  <tbody>\n",
       "    <tr>\n",
       "      <td>count</td>\n",
       "      <td>466822</td>\n",
       "      <td>466822</td>\n",
       "      <td>466822</td>\n",
       "      <td>466822</td>\n",
       "      <td>466822</td>\n",
       "      <td>466822</td>\n",
       "    </tr>\n",
       "    <tr>\n",
       "      <td>unique</td>\n",
       "      <td>230193</td>\n",
       "      <td>70553</td>\n",
       "      <td>2549</td>\n",
       "      <td>10</td>\n",
       "      <td>1</td>\n",
       "      <td>37</td>\n",
       "    </tr>\n",
       "    <tr>\n",
       "      <td>top</td>\n",
       "      <td>64e4c7ca28927cfd62a503e100afe752</td>\n",
       "      <td>10:08:41</td>\n",
       "      <td>/</td>\n",
       "      <td>organic</td>\n",
       "      <td>pageview</td>\n",
       "      <td>2020-08-21 00:00:00</td>\n",
       "    </tr>\n",
       "    <tr>\n",
       "      <td>freq</td>\n",
       "      <td>855</td>\n",
       "      <td>26</td>\n",
       "      <td>67224</td>\n",
       "      <td>260306</td>\n",
       "      <td>466822</td>\n",
       "      <td>25938</td>\n",
       "    </tr>\n",
       "    <tr>\n",
       "      <td>first</td>\n",
       "      <td>NaN</td>\n",
       "      <td>NaN</td>\n",
       "      <td>NaN</td>\n",
       "      <td>NaN</td>\n",
       "      <td>NaN</td>\n",
       "      <td>2020-07-29 00:00:00</td>\n",
       "    </tr>\n",
       "    <tr>\n",
       "      <td>last</td>\n",
       "      <td>NaN</td>\n",
       "      <td>NaN</td>\n",
       "      <td>NaN</td>\n",
       "      <td>NaN</td>\n",
       "      <td>NaN</td>\n",
       "      <td>2020-10-09 00:00:00</td>\n",
       "    </tr>\n",
       "  </tbody>\n",
       "</table>\n",
       "</div>"
      ],
      "text/plain": [
       "                               client_id action_time pagePath   medium  \\\n",
       "count                             466822      466822   466822   466822   \n",
       "unique                            230193       70553     2549       10   \n",
       "top     64e4c7ca28927cfd62a503e100afe752    10:08:41        /  organic   \n",
       "freq                                 855          26    67224   260306   \n",
       "first                                NaN         NaN      NaN      NaN   \n",
       "last                                 NaN         NaN      NaN      NaN   \n",
       "\n",
       "       eventAction                 date  \n",
       "count       466822               466822  \n",
       "unique           1                   37  \n",
       "top       pageview  2020-08-21 00:00:00  \n",
       "freq        466822                25938  \n",
       "first          NaN  2020-07-29 00:00:00  \n",
       "last           NaN  2020-10-09 00:00:00  "
      ]
     },
     "execution_count": 6,
     "metadata": {},
     "output_type": "execute_result"
    }
   ],
   "source": [
    "df.describe()"
   ]
  },
  {
   "cell_type": "code",
   "execution_count": 7,
   "metadata": {},
   "outputs": [],
   "source": [
    "df.drop([\"eventAction\"], axis=\"columns\", inplace=True)"
   ]
  },
  {
   "cell_type": "markdown",
   "metadata": {},
   "source": [
    "Kolumna \"eventAction\" zostaje usunięta z powodu występowania tylko jednej zmiennej."
   ]
  },
  {
   "cell_type": "markdown",
   "metadata": {},
   "source": [
    " "
   ]
  },
  {
   "cell_type": "markdown",
   "metadata": {},
   "source": [
    "Podliczenie wystąpień każdego z mediów, z którego użytkownik mógł wejść na stronę."
   ]
  },
  {
   "cell_type": "code",
   "execution_count": 8,
   "metadata": {
    "scrolled": true
   },
   "outputs": [
    {
     "data": {
      "text/plain": [
       "organic      260306\n",
       "(none)        67090\n",
       "cpc           50864\n",
       "banner        46942\n",
       "referral      30169\n",
       "email         11243\n",
       "post            102\n",
       "link             74\n",
       "webpush          31\n",
       "(not set)         1\n",
       "Name: medium, dtype: int64"
      ]
     },
     "execution_count": 8,
     "metadata": {},
     "output_type": "execute_result"
    }
   ],
   "source": [
    "df[\"medium\"].value_counts()"
   ]
  },
  {
   "cell_type": "code",
   "execution_count": 9,
   "metadata": {},
   "outputs": [
    {
     "data": {
      "text/plain": [
       "<matplotlib.axes._subplots.AxesSubplot at 0x1bfefec0a08>"
      ]
     },
     "execution_count": 9,
     "metadata": {},
     "output_type": "execute_result"
    },
    {
     "data": {
      "image/png": "[encoded data removed]",
      "text/plain": [
       "<Figure size 432x288 with 1 Axes>"
      ]
     },
     "metadata": {
      "needs_background": "light"
     },
     "output_type": "display_data"
    }
   ],
   "source": [
    "df[\"medium\"].value_counts().plot(kind=\"bar\", grid=True)"
   ]
  },
  {
   "cell_type": "markdown",
   "metadata": {},
   "source": [
    "W zbiorze istnieją dwie pozycje nieprzypisane do żadnego z mediów: (none) i (not set)."
   ]
  },
  {
   "cell_type": "code",
   "execution_count": 10,
   "metadata": {},
   "outputs": [],
   "source": [
    "df.loc[df[\"medium\"] == \"(none)\", \"medium\"] = \"(not set)\""
   ]
  },
  {
   "cell_type": "markdown",
   "metadata": {},
   "source": [
    " "
   ]
  },
  {
   "cell_type": "markdown",
   "metadata": {},
   "source": [
    " "
   ]
  },
  {
   "cell_type": "code",
   "execution_count": 11,
   "metadata": {},
   "outputs": [
    {
     "data": {
      "text/plain": [
       "0     /lekcja/biologia,75f95eb9a371db8c2ea854da85219502\n",
       "1                                                     /\n",
       "2                                            /o-portalu\n",
       "3     /lekcja/geografia,12901cca29551ad7d556962231a1...\n",
       "4     /lekcja/jezyk-polski,c106aef9f68b2b03b8afe7d89...\n",
       "5     /lekcja/jezyk-polski,8a99b0c8047266b628e7a7d3b...\n",
       "6                                                     /\n",
       "7                                                     /\n",
       "8                                                     /\n",
       "9                                            /o-portalu\n",
       "10                                                    /\n",
       "11                                                    /\n",
       "12    /lekcja/jezyk-polski,9c53c1abcacdf5cf9553c8388...\n",
       "13                                                    /\n",
       "14                                    /?standalone=true\n",
       "15    /lekcja/historia,6d6334ff96cc0d0d429537dbc3c69366\n",
       "16    /lekcja/historia,6d6334ff96cc0d0d429537dbc3c69366\n",
       "17                                                    /\n",
       "18                                           /o-portalu\n",
       "19    /lekcja/jezyk-angielski,3280f1f5eda0f4a2ba799e...\n",
       "Name: pagePath, dtype: object"
      ]
     },
     "execution_count": 11,
     "metadata": {},
     "output_type": "execute_result"
    }
   ],
   "source": [
    "df[\"pagePath\"].head(20)"
   ]
  },
  {
   "cell_type": "markdown",
   "metadata": {},
   "source": [
    "Stworzenie kolumny \"pageMainCat\" z kategoriami występującymi w kolumnie \"pagePath\". Ścieżki nie przypisane do żadnej z kategorii, otrzymują etykietę \"Others\""
   ]
  },
  {
   "cell_type": "code",
   "execution_count": 12,
   "metadata": {},
   "outputs": [],
   "source": [
    "df[\"pageMainCat\"] = df[\"pagePath\"]"
   ]
  },
  {
   "cell_type": "code",
   "execution_count": 13,
   "metadata": {},
   "outputs": [],
   "source": [
    "main_categories = {\n",
    "    \"/lekcja/\": \"lekcja\", \n",
    "    \"/kategorie/\": \"kategorie\",\n",
    "    \"/fiszki-i-quizy/\": \"fiszki-i-quizy\",\n",
    "    \"/sprawdz-sie/\": \"sprawdz-sie\",    \n",
    "    \"/quiz/\": \"quiz\",\n",
    "    \"/fiszki/\": \"fiszki\",\n",
    "    \"/szukaj/\": \"szukaj\",\n",
    "    \"lesson/preview\": \"lesson/preview\",\n",
    "    \"/o-portalu\": \"o-portalu\",\n",
    "}\n",
    "    \n",
    "for key, value in main_categories.items():\n",
    "    df[\"pageMainCat\"] = df[\"pageMainCat\"].astype(str).apply(lambda x:  value if key in x else x) \n",
    "    \n",
    "cat_set = set(main_categories.values())\n",
    "df[\"pageMainCat\"] = df[\"pageMainCat\"].apply(lambda x: x if x in cat_set else \"Others\")  "
   ]
  },
  {
   "cell_type": "code",
   "execution_count": 14,
   "metadata": {},
   "outputs": [],
   "source": [
    "df[\"pageMainCat\"] = df[\"pageMainCat\"].astype(\"category\")"
   ]
  },
  {
   "cell_type": "code",
   "execution_count": 15,
   "metadata": {},
   "outputs": [
    {
     "name": "stdout",
     "output_type": "stream",
     "text": [
      "<class 'pandas.core.frame.DataFrame'>\n",
      "RangeIndex: 466822 entries, 0 to 466821\n",
      "Data columns (total 6 columns):\n",
      "client_id      466822 non-null object\n",
      "action_time    466822 non-null object\n",
      "pagePath       466822 non-null object\n",
      "medium         466822 non-null category\n",
      "date           466822 non-null datetime64[ns]\n",
      "pageMainCat    466822 non-null category\n",
      "dtypes: category(2), datetime64[ns](1), object(3)\n",
      "memory usage: 15.1+ MB\n"
     ]
    }
   ],
   "source": [
    "df.info()"
   ]
  },
  {
   "cell_type": "code",
   "execution_count": 16,
   "metadata": {},
   "outputs": [
    {
     "data": {
      "text/html": [
       "<div>\n",
       "<style scoped>\n",
       "    .dataframe tbody tr th:only-of-type {\n",
       "        vertical-align: middle;\n",
       "    }\n",
       "\n",
       "    .dataframe tbody tr th {\n",
       "        vertical-align: top;\n",
       "    }\n",
       "\n",
       "    .dataframe thead th {\n",
       "        text-align: right;\n",
       "    }\n",
       "</style>\n",
       "<table border=\"1\" class=\"dataframe\">\n",
       "  <thead>\n",
       "    <tr style=\"text-align: right;\">\n",
       "      <th></th>\n",
       "      <th>client_id</th>\n",
       "      <th>action_time</th>\n",
       "      <th>pagePath</th>\n",
       "      <th>medium</th>\n",
       "      <th>date</th>\n",
       "      <th>pageMainCat</th>\n",
       "    </tr>\n",
       "  </thead>\n",
       "  <tbody>\n",
       "    <tr>\n",
       "      <td>0</td>\n",
       "      <td>d0a213b0718cd0e10475ce11d893c3cc</td>\n",
       "      <td>15:38:27</td>\n",
       "      <td>/lekcja/biologia,75f95eb9a371db8c2ea854da85219502</td>\n",
       "      <td>organic</td>\n",
       "      <td>2020-07-29</td>\n",
       "      <td>lekcja</td>\n",
       "    </tr>\n",
       "    <tr>\n",
       "      <td>1</td>\n",
       "      <td>4416f6ec763cc9e65ca17482d3960971</td>\n",
       "      <td>21:03:06</td>\n",
       "      <td>/</td>\n",
       "      <td>(not set)</td>\n",
       "      <td>2020-07-29</td>\n",
       "      <td>Others</td>\n",
       "    </tr>\n",
       "    <tr>\n",
       "      <td>2</td>\n",
       "      <td>c3d6e02ad3e2a781dba7c48a4d354199</td>\n",
       "      <td>07:51:28</td>\n",
       "      <td>/o-portalu</td>\n",
       "      <td>banner</td>\n",
       "      <td>2020-07-29</td>\n",
       "      <td>o-portalu</td>\n",
       "    </tr>\n",
       "    <tr>\n",
       "      <td>3</td>\n",
       "      <td>3bd4feb129163c7889a70d3d12c6e82d</td>\n",
       "      <td>12:23:00</td>\n",
       "      <td>/lekcja/geografia,12901cca29551ad7d556962231a1...</td>\n",
       "      <td>organic</td>\n",
       "      <td>2020-07-29</td>\n",
       "      <td>lekcja</td>\n",
       "    </tr>\n",
       "    <tr>\n",
       "      <td>4</td>\n",
       "      <td>3d90c06c313a2120ce98ff14b6581570</td>\n",
       "      <td>12:27:30</td>\n",
       "      <td>/lekcja/jezyk-polski,c106aef9f68b2b03b8afe7d89...</td>\n",
       "      <td>organic</td>\n",
       "      <td>2020-07-29</td>\n",
       "      <td>lekcja</td>\n",
       "    </tr>\n",
       "    <tr>\n",
       "      <td>...</td>\n",
       "      <td>...</td>\n",
       "      <td>...</td>\n",
       "      <td>...</td>\n",
       "      <td>...</td>\n",
       "      <td>...</td>\n",
       "      <td>...</td>\n",
       "    </tr>\n",
       "    <tr>\n",
       "      <td>466817</td>\n",
       "      <td>4aeb67e947bf0f68727da4531cb2e730</td>\n",
       "      <td>20:23:49</td>\n",
       "      <td>/</td>\n",
       "      <td>cpc</td>\n",
       "      <td>2020-09-03</td>\n",
       "      <td>Others</td>\n",
       "    </tr>\n",
       "    <tr>\n",
       "      <td>466818</td>\n",
       "      <td>85298782f748e544275ea0ba55767d39</td>\n",
       "      <td>12:44:06</td>\n",
       "      <td>/lekcja/biologia,43eb0ab6190bc7e8acf5d294119e22c9</td>\n",
       "      <td>organic</td>\n",
       "      <td>2020-09-12</td>\n",
       "      <td>lekcja</td>\n",
       "    </tr>\n",
       "    <tr>\n",
       "      <td>466819</td>\n",
       "      <td>fcb3a6846e37f653bd39b2f1cc9cd338</td>\n",
       "      <td>13:58:39</td>\n",
       "      <td>/lekcja/historia,a7020fcc21842131d9a211d1e9c558fa</td>\n",
       "      <td>organic</td>\n",
       "      <td>2020-09-18</td>\n",
       "      <td>lekcja</td>\n",
       "    </tr>\n",
       "    <tr>\n",
       "      <td>466820</td>\n",
       "      <td>fcb3a6846e37f653bd39b2f1cc9cd338</td>\n",
       "      <td>14:24:09</td>\n",
       "      <td>/lekcja/historia,a7020fcc21842131d9a211d1e9c558fa</td>\n",
       "      <td>cpc</td>\n",
       "      <td>2020-09-18</td>\n",
       "      <td>lekcja</td>\n",
       "    </tr>\n",
       "    <tr>\n",
       "      <td>466821</td>\n",
       "      <td>76556de5df6146f2962579a04fe2aba6</td>\n",
       "      <td>10:32:50</td>\n",
       "      <td>/lekcja/historia,531d33a3cfca58f4fda2722eff0caffa</td>\n",
       "      <td>organic</td>\n",
       "      <td>2020-10-09</td>\n",
       "      <td>lekcja</td>\n",
       "    </tr>\n",
       "  </tbody>\n",
       "</table>\n",
       "<p>466822 rows × 6 columns</p>\n",
       "</div>"
      ],
      "text/plain": [
       "                               client_id action_time  \\\n",
       "0       d0a213b0718cd0e10475ce11d893c3cc    15:38:27   \n",
       "1       4416f6ec763cc9e65ca17482d3960971    21:03:06   \n",
       "2       c3d6e02ad3e2a781dba7c48a4d354199    07:51:28   \n",
       "3       3bd4feb129163c7889a70d3d12c6e82d    12:23:00   \n",
       "4       3d90c06c313a2120ce98ff14b6581570    12:27:30   \n",
       "...                                  ...         ...   \n",
       "466817  4aeb67e947bf0f68727da4531cb2e730    20:23:49   \n",
       "466818  85298782f748e544275ea0ba55767d39    12:44:06   \n",
       "466819  fcb3a6846e37f653bd39b2f1cc9cd338    13:58:39   \n",
       "466820  fcb3a6846e37f653bd39b2f1cc9cd338    14:24:09   \n",
       "466821  76556de5df6146f2962579a04fe2aba6    10:32:50   \n",
       "\n",
       "                                                 pagePath     medium  \\\n",
       "0       /lekcja/biologia,75f95eb9a371db8c2ea854da85219502    organic   \n",
       "1                                                       /  (not set)   \n",
       "2                                              /o-portalu     banner   \n",
       "3       /lekcja/geografia,12901cca29551ad7d556962231a1...    organic   \n",
       "4       /lekcja/jezyk-polski,c106aef9f68b2b03b8afe7d89...    organic   \n",
       "...                                                   ...        ...   \n",
       "466817                                                  /        cpc   \n",
       "466818  /lekcja/biologia,43eb0ab6190bc7e8acf5d294119e22c9    organic   \n",
       "466819  /lekcja/historia,a7020fcc21842131d9a211d1e9c558fa    organic   \n",
       "466820  /lekcja/historia,a7020fcc21842131d9a211d1e9c558fa        cpc   \n",
       "466821  /lekcja/historia,531d33a3cfca58f4fda2722eff0caffa    organic   \n",
       "\n",
       "             date pageMainCat  \n",
       "0      2020-07-29      lekcja  \n",
       "1      2020-07-29      Others  \n",
       "2      2020-07-29   o-portalu  \n",
       "3      2020-07-29      lekcja  \n",
       "4      2020-07-29      lekcja  \n",
       "...           ...         ...  \n",
       "466817 2020-09-03      Others  \n",
       "466818 2020-09-12      lekcja  \n",
       "466819 2020-09-18      lekcja  \n",
       "466820 2020-09-18      lekcja  \n",
       "466821 2020-10-09      lekcja  \n",
       "\n",
       "[466822 rows x 6 columns]"
      ]
     },
     "execution_count": 16,
     "metadata": {},
     "output_type": "execute_result"
    }
   ],
   "source": [
    "df"
   ]
  },
  {
   "cell_type": "markdown",
   "metadata": {},
   "source": [
    " "
   ]
  },
  {
   "cell_type": "markdown",
   "metadata": {},
   "source": [
    "Ilustracja częstości występowania danej głównej kategorii z kolumny \"pageMainCat\"."
   ]
  },
  {
   "cell_type": "code",
   "execution_count": 17,
   "metadata": {},
   "outputs": [
    {
     "data": {
      "text/plain": [
       "<matplotlib.axes._subplots.AxesSubplot at 0x1bf817b6708>"
      ]
     },
     "execution_count": 17,
     "metadata": {},
     "output_type": "execute_result"
    },
    {
     "data": {
      "image/png": "[encoded data removed]",
      "text/plain": [
       "<Figure size 432x288 with 1 Axes>"
      ]
     },
     "metadata": {
      "needs_background": "light"
     },
     "output_type": "display_data"
    }
   ],
   "source": [
    "df[\"pageMainCat\"].value_counts().plot(kind=\"bar\", logy=True)"
   ]
  },
  {
   "cell_type": "markdown",
   "metadata": {},
   "source": [
    "Kodowanie kolumny \"medium\", gdzie \"organic\" przyjmuje wartość jeden, a pozostałe rodzje przyjmują wartość zero."
   ]
  },
  {
   "cell_type": "code",
   "execution_count": 18,
   "metadata": {},
   "outputs": [
    {
     "data": {
      "text/html": [
       "<div>\n",
       "<style scoped>\n",
       "    .dataframe tbody tr th:only-of-type {\n",
       "        vertical-align: middle;\n",
       "    }\n",
       "\n",
       "    .dataframe tbody tr th {\n",
       "        vertical-align: top;\n",
       "    }\n",
       "\n",
       "    .dataframe thead th {\n",
       "        text-align: right;\n",
       "    }\n",
       "</style>\n",
       "<table border=\"1\" class=\"dataframe\">\n",
       "  <thead>\n",
       "    <tr style=\"text-align: right;\">\n",
       "      <th></th>\n",
       "      <th>client_id</th>\n",
       "      <th>action_time</th>\n",
       "      <th>pagePath</th>\n",
       "      <th>date</th>\n",
       "      <th>pageMainCat</th>\n",
       "      <th>Organic_code</th>\n",
       "    </tr>\n",
       "  </thead>\n",
       "  <tbody>\n",
       "    <tr>\n",
       "      <td>0</td>\n",
       "      <td>d0a213b0718cd0e10475ce11d893c3cc</td>\n",
       "      <td>15:38:27</td>\n",
       "      <td>/lekcja/biologia,75f95eb9a371db8c2ea854da85219502</td>\n",
       "      <td>2020-07-29</td>\n",
       "      <td>lekcja</td>\n",
       "      <td>1</td>\n",
       "    </tr>\n",
       "    <tr>\n",
       "      <td>1</td>\n",
       "      <td>4416f6ec763cc9e65ca17482d3960971</td>\n",
       "      <td>21:03:06</td>\n",
       "      <td>/</td>\n",
       "      <td>2020-07-29</td>\n",
       "      <td>Others</td>\n",
       "      <td>0</td>\n",
       "    </tr>\n",
       "    <tr>\n",
       "      <td>2</td>\n",
       "      <td>c3d6e02ad3e2a781dba7c48a4d354199</td>\n",
       "      <td>07:51:28</td>\n",
       "      <td>/o-portalu</td>\n",
       "      <td>2020-07-29</td>\n",
       "      <td>o-portalu</td>\n",
       "      <td>0</td>\n",
       "    </tr>\n",
       "    <tr>\n",
       "      <td>3</td>\n",
       "      <td>3bd4feb129163c7889a70d3d12c6e82d</td>\n",
       "      <td>12:23:00</td>\n",
       "      <td>/lekcja/geografia,12901cca29551ad7d556962231a1...</td>\n",
       "      <td>2020-07-29</td>\n",
       "      <td>lekcja</td>\n",
       "      <td>1</td>\n",
       "    </tr>\n",
       "    <tr>\n",
       "      <td>4</td>\n",
       "      <td>3d90c06c313a2120ce98ff14b6581570</td>\n",
       "      <td>12:27:30</td>\n",
       "      <td>/lekcja/jezyk-polski,c106aef9f68b2b03b8afe7d89...</td>\n",
       "      <td>2020-07-29</td>\n",
       "      <td>lekcja</td>\n",
       "      <td>1</td>\n",
       "    </tr>\n",
       "  </tbody>\n",
       "</table>\n",
       "</div>"
      ],
      "text/plain": [
       "                          client_id action_time  \\\n",
       "0  d0a213b0718cd0e10475ce11d893c3cc    15:38:27   \n",
       "1  4416f6ec763cc9e65ca17482d3960971    21:03:06   \n",
       "2  c3d6e02ad3e2a781dba7c48a4d354199    07:51:28   \n",
       "3  3bd4feb129163c7889a70d3d12c6e82d    12:23:00   \n",
       "4  3d90c06c313a2120ce98ff14b6581570    12:27:30   \n",
       "\n",
       "                                            pagePath       date pageMainCat  \\\n",
       "0  /lekcja/biologia,75f95eb9a371db8c2ea854da85219502 2020-07-29      lekcja   \n",
       "1                                                  / 2020-07-29      Others   \n",
       "2                                         /o-portalu 2020-07-29   o-portalu   \n",
       "3  /lekcja/geografia,12901cca29551ad7d556962231a1... 2020-07-29      lekcja   \n",
       "4  /lekcja/jezyk-polski,c106aef9f68b2b03b8afe7d89... 2020-07-29      lekcja   \n",
       "\n",
       "   Organic_code  \n",
       "0             1  \n",
       "1             0  \n",
       "2             0  \n",
       "3             1  \n",
       "4             1  "
      ]
     },
     "execution_count": 18,
     "metadata": {},
     "output_type": "execute_result"
    }
   ],
   "source": [
    "df_specific = df.copy()\n",
    "df_specific[\"Organic_code\"] = np.where(df_specific[\"medium\"].str.contains(\"organic\"), 1, 0)\n",
    "df_specific = df_specific.drop(\"medium\", axis = 1)\n",
    "\n",
    "df_specific.head()"
   ]
  },
  {
   "cell_type": "markdown",
   "metadata": {},
   "source": [
    " "
   ]
  },
  {
   "cell_type": "markdown",
   "metadata": {},
   "source": [
    "Kodowanie zmiennych \"pageMainCat\" za pomocą metody *Target/Guided Encoding*."
   ]
  },
  {
   "cell_type": "markdown",
   "metadata": {},
   "source": [
    "Obliczenie prawdopodobieństwa każdej z głównych kategorii na podstawie wartości celu kolumny \"Organic_code\"."
   ]
  },
  {
   "cell_type": "code",
   "execution_count": 19,
   "metadata": {},
   "outputs": [
    {
     "data": {
      "text/plain": [
       "pageMainCat\n",
       "Others            0.140407\n",
       "fiszki            0.285261\n",
       "fiszki-i-quizy    0.758673\n",
       "kategorie         0.371252\n",
       "lekcja            0.858868\n",
       "lesson/preview    0.239291\n",
       "o-portalu         0.002661\n",
       "quiz              0.351063\n",
       "sprawdz-sie       0.640625\n",
       "szukaj            0.307554\n",
       "Name: Organic_code, dtype: float64"
      ]
     },
     "execution_count": 19,
     "metadata": {},
     "output_type": "execute_result"
    }
   ],
   "source": [
    "df_specific.groupby([\"pageMainCat\"])[\"Organic_code\"].mean()"
   ]
  },
  {
   "cell_type": "markdown",
   "metadata": {},
   "source": [
    "Największe prawdopodobieństwo, że użytkownik wchodzący na stronę przez wyszukiwarkę (organic) występuje dla lekcji - ok. 86%."
   ]
  },
  {
   "cell_type": "code",
   "execution_count": 20,
   "metadata": {},
   "outputs": [],
   "source": [
    "Encoded_Lables = df_specific.groupby([\"pageMainCat\"])[\"Organic_code\"].mean().sort_values().index"
   ]
  },
  {
   "cell_type": "markdown",
   "metadata": {},
   "source": [
    "Stworzenie słowników zawierających klucz jako nazwę głównej kategorii i wartościami jako wspólny ranking prawdopodobieństwa."
   ]
  },
  {
   "cell_type": "code",
   "execution_count": 21,
   "metadata": {},
   "outputs": [],
   "source": [
    "Encoded_Lables_Ranks = { k:i for i, k in enumerate(Encoded_Lables, 0) }"
   ]
  },
  {
   "cell_type": "markdown",
   "metadata": {},
   "source": [
    "Stworzenie nowej kolumny \"pageMainCat_Encoded\" i zmapowanie wartośći głównych kategorii z rankingiem wspólnego prawdopodobieństwa."
   ]
  },
  {
   "cell_type": "code",
   "execution_count": 22,
   "metadata": {},
   "outputs": [],
   "source": [
    "df_specific[\"pageMainCat_Encoded\"] = df_specific[\"pageMainCat\"].map(Encoded_Lables_Ranks)"
   ]
  },
  {
   "cell_type": "code",
   "execution_count": 23,
   "metadata": {},
   "outputs": [
    {
     "data": {
      "text/html": [
       "<div>\n",
       "<style scoped>\n",
       "    .dataframe tbody tr th:only-of-type {\n",
       "        vertical-align: middle;\n",
       "    }\n",
       "\n",
       "    .dataframe tbody tr th {\n",
       "        vertical-align: top;\n",
       "    }\n",
       "\n",
       "    .dataframe thead th {\n",
       "        text-align: right;\n",
       "    }\n",
       "</style>\n",
       "<table border=\"1\" class=\"dataframe\">\n",
       "  <thead>\n",
       "    <tr style=\"text-align: right;\">\n",
       "      <th></th>\n",
       "      <th>client_id</th>\n",
       "      <th>action_time</th>\n",
       "      <th>pagePath</th>\n",
       "      <th>date</th>\n",
       "      <th>pageMainCat</th>\n",
       "      <th>Organic_code</th>\n",
       "      <th>pageMainCat_Encoded</th>\n",
       "    </tr>\n",
       "  </thead>\n",
       "  <tbody>\n",
       "    <tr>\n",
       "      <td>0</td>\n",
       "      <td>d0a213b0718cd0e10475ce11d893c3cc</td>\n",
       "      <td>15:38:27</td>\n",
       "      <td>/lekcja/biologia,75f95eb9a371db8c2ea854da85219502</td>\n",
       "      <td>2020-07-29</td>\n",
       "      <td>lekcja</td>\n",
       "      <td>1</td>\n",
       "      <td>9</td>\n",
       "    </tr>\n",
       "    <tr>\n",
       "      <td>1</td>\n",
       "      <td>4416f6ec763cc9e65ca17482d3960971</td>\n",
       "      <td>21:03:06</td>\n",
       "      <td>/</td>\n",
       "      <td>2020-07-29</td>\n",
       "      <td>Others</td>\n",
       "      <td>0</td>\n",
       "      <td>1</td>\n",
       "    </tr>\n",
       "    <tr>\n",
       "      <td>2</td>\n",
       "      <td>c3d6e02ad3e2a781dba7c48a4d354199</td>\n",
       "      <td>07:51:28</td>\n",
       "      <td>/o-portalu</td>\n",
       "      <td>2020-07-29</td>\n",
       "      <td>o-portalu</td>\n",
       "      <td>0</td>\n",
       "      <td>0</td>\n",
       "    </tr>\n",
       "    <tr>\n",
       "      <td>3</td>\n",
       "      <td>3bd4feb129163c7889a70d3d12c6e82d</td>\n",
       "      <td>12:23:00</td>\n",
       "      <td>/lekcja/geografia,12901cca29551ad7d556962231a1...</td>\n",
       "      <td>2020-07-29</td>\n",
       "      <td>lekcja</td>\n",
       "      <td>1</td>\n",
       "      <td>9</td>\n",
       "    </tr>\n",
       "    <tr>\n",
       "      <td>4</td>\n",
       "      <td>3d90c06c313a2120ce98ff14b6581570</td>\n",
       "      <td>12:27:30</td>\n",
       "      <td>/lekcja/jezyk-polski,c106aef9f68b2b03b8afe7d89...</td>\n",
       "      <td>2020-07-29</td>\n",
       "      <td>lekcja</td>\n",
       "      <td>1</td>\n",
       "      <td>9</td>\n",
       "    </tr>\n",
       "    <tr>\n",
       "      <td>...</td>\n",
       "      <td>...</td>\n",
       "      <td>...</td>\n",
       "      <td>...</td>\n",
       "      <td>...</td>\n",
       "      <td>...</td>\n",
       "      <td>...</td>\n",
       "      <td>...</td>\n",
       "    </tr>\n",
       "    <tr>\n",
       "      <td>466817</td>\n",
       "      <td>4aeb67e947bf0f68727da4531cb2e730</td>\n",
       "      <td>20:23:49</td>\n",
       "      <td>/</td>\n",
       "      <td>2020-09-03</td>\n",
       "      <td>Others</td>\n",
       "      <td>0</td>\n",
       "      <td>1</td>\n",
       "    </tr>\n",
       "    <tr>\n",
       "      <td>466818</td>\n",
       "      <td>85298782f748e544275ea0ba55767d39</td>\n",
       "      <td>12:44:06</td>\n",
       "      <td>/lekcja/biologia,43eb0ab6190bc7e8acf5d294119e22c9</td>\n",
       "      <td>2020-09-12</td>\n",
       "      <td>lekcja</td>\n",
       "      <td>1</td>\n",
       "      <td>9</td>\n",
       "    </tr>\n",
       "    <tr>\n",
       "      <td>466819</td>\n",
       "      <td>fcb3a6846e37f653bd39b2f1cc9cd338</td>\n",
       "      <td>13:58:39</td>\n",
       "      <td>/lekcja/historia,a7020fcc21842131d9a211d1e9c558fa</td>\n",
       "      <td>2020-09-18</td>\n",
       "      <td>lekcja</td>\n",
       "      <td>1</td>\n",
       "      <td>9</td>\n",
       "    </tr>\n",
       "    <tr>\n",
       "      <td>466820</td>\n",
       "      <td>fcb3a6846e37f653bd39b2f1cc9cd338</td>\n",
       "      <td>14:24:09</td>\n",
       "      <td>/lekcja/historia,a7020fcc21842131d9a211d1e9c558fa</td>\n",
       "      <td>2020-09-18</td>\n",
       "      <td>lekcja</td>\n",
       "      <td>0</td>\n",
       "      <td>9</td>\n",
       "    </tr>\n",
       "    <tr>\n",
       "      <td>466821</td>\n",
       "      <td>76556de5df6146f2962579a04fe2aba6</td>\n",
       "      <td>10:32:50</td>\n",
       "      <td>/lekcja/historia,531d33a3cfca58f4fda2722eff0caffa</td>\n",
       "      <td>2020-10-09</td>\n",
       "      <td>lekcja</td>\n",
       "      <td>1</td>\n",
       "      <td>9</td>\n",
       "    </tr>\n",
       "  </tbody>\n",
       "</table>\n",
       "<p>466822 rows × 7 columns</p>\n",
       "</div>"
      ],
      "text/plain": [
       "                               client_id action_time  \\\n",
       "0       d0a213b0718cd0e10475ce11d893c3cc    15:38:27   \n",
       "1       4416f6ec763cc9e65ca17482d3960971    21:03:06   \n",
       "2       c3d6e02ad3e2a781dba7c48a4d354199    07:51:28   \n",
       "3       3bd4feb129163c7889a70d3d12c6e82d    12:23:00   \n",
       "4       3d90c06c313a2120ce98ff14b6581570    12:27:30   \n",
       "...                                  ...         ...   \n",
       "466817  4aeb67e947bf0f68727da4531cb2e730    20:23:49   \n",
       "466818  85298782f748e544275ea0ba55767d39    12:44:06   \n",
       "466819  fcb3a6846e37f653bd39b2f1cc9cd338    13:58:39   \n",
       "466820  fcb3a6846e37f653bd39b2f1cc9cd338    14:24:09   \n",
       "466821  76556de5df6146f2962579a04fe2aba6    10:32:50   \n",
       "\n",
       "                                                 pagePath       date  \\\n",
       "0       /lekcja/biologia,75f95eb9a371db8c2ea854da85219502 2020-07-29   \n",
       "1                                                       / 2020-07-29   \n",
       "2                                              /o-portalu 2020-07-29   \n",
       "3       /lekcja/geografia,12901cca29551ad7d556962231a1... 2020-07-29   \n",
       "4       /lekcja/jezyk-polski,c106aef9f68b2b03b8afe7d89... 2020-07-29   \n",
       "...                                                   ...        ...   \n",
       "466817                                                  / 2020-09-03   \n",
       "466818  /lekcja/biologia,43eb0ab6190bc7e8acf5d294119e22c9 2020-09-12   \n",
       "466819  /lekcja/historia,a7020fcc21842131d9a211d1e9c558fa 2020-09-18   \n",
       "466820  /lekcja/historia,a7020fcc21842131d9a211d1e9c558fa 2020-09-18   \n",
       "466821  /lekcja/historia,531d33a3cfca58f4fda2722eff0caffa 2020-10-09   \n",
       "\n",
       "       pageMainCat  Organic_code pageMainCat_Encoded  \n",
       "0           lekcja             1                   9  \n",
       "1           Others             0                   1  \n",
       "2        o-portalu             0                   0  \n",
       "3           lekcja             1                   9  \n",
       "4           lekcja             1                   9  \n",
       "...            ...           ...                 ...  \n",
       "466817      Others             0                   1  \n",
       "466818      lekcja             1                   9  \n",
       "466819      lekcja             1                   9  \n",
       "466820      lekcja             0                   9  \n",
       "466821      lekcja             1                   9  \n",
       "\n",
       "[466822 rows x 7 columns]"
      ]
     },
     "execution_count": 23,
     "metadata": {},
     "output_type": "execute_result"
    }
   ],
   "source": [
    "df_specific"
   ]
  },
  {
   "cell_type": "code",
   "execution_count": 24,
   "metadata": {},
   "outputs": [
    {
     "data": {
      "text/html": [
       "<div>\n",
       "<style scoped>\n",
       "    .dataframe tbody tr th:only-of-type {\n",
       "        vertical-align: middle;\n",
       "    }\n",
       "\n",
       "    .dataframe tbody tr th {\n",
       "        vertical-align: top;\n",
       "    }\n",
       "\n",
       "    .dataframe thead th {\n",
       "        text-align: right;\n",
       "    }\n",
       "</style>\n",
       "<table border=\"1\" class=\"dataframe\">\n",
       "  <thead>\n",
       "    <tr style=\"text-align: right;\">\n",
       "      <th></th>\n",
       "      <th>client_id</th>\n",
       "      <th>action_time</th>\n",
       "      <th>pagePath</th>\n",
       "      <th>date</th>\n",
       "      <th>Organic_code</th>\n",
       "      <th>pageMainCat_Encoded</th>\n",
       "      <th>pageMainCat_Others</th>\n",
       "      <th>pageMainCat_fiszki</th>\n",
       "      <th>pageMainCat_fiszki-i-quizy</th>\n",
       "      <th>pageMainCat_kategorie</th>\n",
       "      <th>pageMainCat_lekcja</th>\n",
       "      <th>pageMainCat_lesson/preview</th>\n",
       "      <th>pageMainCat_o-portalu</th>\n",
       "      <th>pageMainCat_quiz</th>\n",
       "      <th>pageMainCat_sprawdz-sie</th>\n",
       "      <th>pageMainCat_szukaj</th>\n",
       "    </tr>\n",
       "  </thead>\n",
       "  <tbody>\n",
       "    <tr>\n",
       "      <td>0</td>\n",
       "      <td>d0a213b0718cd0e10475ce11d893c3cc</td>\n",
       "      <td>15:38:27</td>\n",
       "      <td>/lekcja/biologia,75f95eb9a371db8c2ea854da85219502</td>\n",
       "      <td>2020-07-29</td>\n",
       "      <td>1</td>\n",
       "      <td>9</td>\n",
       "      <td>0</td>\n",
       "      <td>0</td>\n",
       "      <td>0</td>\n",
       "      <td>0</td>\n",
       "      <td>1</td>\n",
       "      <td>0</td>\n",
       "      <td>0</td>\n",
       "      <td>0</td>\n",
       "      <td>0</td>\n",
       "      <td>0</td>\n",
       "    </tr>\n",
       "    <tr>\n",
       "      <td>1</td>\n",
       "      <td>4416f6ec763cc9e65ca17482d3960971</td>\n",
       "      <td>21:03:06</td>\n",
       "      <td>/</td>\n",
       "      <td>2020-07-29</td>\n",
       "      <td>0</td>\n",
       "      <td>1</td>\n",
       "      <td>1</td>\n",
       "      <td>0</td>\n",
       "      <td>0</td>\n",
       "      <td>0</td>\n",
       "      <td>0</td>\n",
       "      <td>0</td>\n",
       "      <td>0</td>\n",
       "      <td>0</td>\n",
       "      <td>0</td>\n",
       "      <td>0</td>\n",
       "    </tr>\n",
       "    <tr>\n",
       "      <td>2</td>\n",
       "      <td>c3d6e02ad3e2a781dba7c48a4d354199</td>\n",
       "      <td>07:51:28</td>\n",
       "      <td>/o-portalu</td>\n",
       "      <td>2020-07-29</td>\n",
       "      <td>0</td>\n",
       "      <td>0</td>\n",
       "      <td>0</td>\n",
       "      <td>0</td>\n",
       "      <td>0</td>\n",
       "      <td>0</td>\n",
       "      <td>0</td>\n",
       "      <td>0</td>\n",
       "      <td>1</td>\n",
       "      <td>0</td>\n",
       "      <td>0</td>\n",
       "      <td>0</td>\n",
       "    </tr>\n",
       "    <tr>\n",
       "      <td>3</td>\n",
       "      <td>3bd4feb129163c7889a70d3d12c6e82d</td>\n",
       "      <td>12:23:00</td>\n",
       "      <td>/lekcja/geografia,12901cca29551ad7d556962231a1...</td>\n",
       "      <td>2020-07-29</td>\n",
       "      <td>1</td>\n",
       "      <td>9</td>\n",
       "      <td>0</td>\n",
       "      <td>0</td>\n",
       "      <td>0</td>\n",
       "      <td>0</td>\n",
       "      <td>1</td>\n",
       "      <td>0</td>\n",
       "      <td>0</td>\n",
       "      <td>0</td>\n",
       "      <td>0</td>\n",
       "      <td>0</td>\n",
       "    </tr>\n",
       "    <tr>\n",
       "      <td>4</td>\n",
       "      <td>3d90c06c313a2120ce98ff14b6581570</td>\n",
       "      <td>12:27:30</td>\n",
       "      <td>/lekcja/jezyk-polski,c106aef9f68b2b03b8afe7d89...</td>\n",
       "      <td>2020-07-29</td>\n",
       "      <td>1</td>\n",
       "      <td>9</td>\n",
       "      <td>0</td>\n",
       "      <td>0</td>\n",
       "      <td>0</td>\n",
       "      <td>0</td>\n",
       "      <td>1</td>\n",
       "      <td>0</td>\n",
       "      <td>0</td>\n",
       "      <td>0</td>\n",
       "      <td>0</td>\n",
       "      <td>0</td>\n",
       "    </tr>\n",
       "  </tbody>\n",
       "</table>\n",
       "</div>"
      ],
      "text/plain": [
       "                          client_id action_time  \\\n",
       "0  d0a213b0718cd0e10475ce11d893c3cc    15:38:27   \n",
       "1  4416f6ec763cc9e65ca17482d3960971    21:03:06   \n",
       "2  c3d6e02ad3e2a781dba7c48a4d354199    07:51:28   \n",
       "3  3bd4feb129163c7889a70d3d12c6e82d    12:23:00   \n",
       "4  3d90c06c313a2120ce98ff14b6581570    12:27:30   \n",
       "\n",
       "                                            pagePath       date  Organic_code  \\\n",
       "0  /lekcja/biologia,75f95eb9a371db8c2ea854da85219502 2020-07-29             1   \n",
       "1                                                  / 2020-07-29             0   \n",
       "2                                         /o-portalu 2020-07-29             0   \n",
       "3  /lekcja/geografia,12901cca29551ad7d556962231a1... 2020-07-29             1   \n",
       "4  /lekcja/jezyk-polski,c106aef9f68b2b03b8afe7d89... 2020-07-29             1   \n",
       "\n",
       "  pageMainCat_Encoded  pageMainCat_Others  pageMainCat_fiszki  \\\n",
       "0                   9                   0                   0   \n",
       "1                   1                   1                   0   \n",
       "2                   0                   0                   0   \n",
       "3                   9                   0                   0   \n",
       "4                   9                   0                   0   \n",
       "\n",
       "   pageMainCat_fiszki-i-quizy  pageMainCat_kategorie  pageMainCat_lekcja  \\\n",
       "0                           0                      0                   1   \n",
       "1                           0                      0                   0   \n",
       "2                           0                      0                   0   \n",
       "3                           0                      0                   1   \n",
       "4                           0                      0                   1   \n",
       "\n",
       "   pageMainCat_lesson/preview  pageMainCat_o-portalu  pageMainCat_quiz  \\\n",
       "0                           0                      0                 0   \n",
       "1                           0                      0                 0   \n",
       "2                           0                      1                 0   \n",
       "3                           0                      0                 0   \n",
       "4                           0                      0                 0   \n",
       "\n",
       "   pageMainCat_sprawdz-sie  pageMainCat_szukaj  \n",
       "0                        0                   0  \n",
       "1                        0                   0  \n",
       "2                        0                   0  \n",
       "3                        0                   0  \n",
       "4                        0                   0  "
      ]
     },
     "execution_count": 24,
     "metadata": {},
     "output_type": "execute_result"
    }
   ],
   "source": [
    "df_onehot = df_specific.copy()\n",
    "df_onehot = pd.get_dummies(df_onehot, columns=[\"pageMainCat\"], prefix = [\"pageMainCat\"])\n",
    "\n",
    "df_onehot.head()"
   ]
  },
  {
   "cell_type": "markdown",
   "metadata": {},
   "source": [
    "Kodowanie zmiennych \"pageMainCat\" za pomocą metody *One Hot Encoding*."
   ]
  },
  {
   "cell_type": "markdown",
   "metadata": {},
   "source": [
    "Obliczenie Współczynnika V Craméra pomiędzy kolumnami \"Organic_code\" i \"pageMainCat_Encoded\"."
   ]
  },
  {
   "cell_type": "code",
   "execution_count": 25,
   "metadata": {},
   "outputs": [
    {
     "name": "stderr",
     "output_type": "stream",
     "text": [
      "C:\\Users\\owkr9001\\AppData\\Local\\Continuum\\anaconda3\\lib\\site-packages\\ipykernel_launcher.py:11: FutureWarning: Method .as_matrix will be removed in a future version. Use .values instead.\n",
      "  # This is added back by InteractiveShellApp.init_path()\n"
     ]
    },
    {
     "data": {
      "text/plain": [
       "0.6621484147835431"
      ]
     },
     "execution_count": 25,
     "metadata": {},
     "output_type": "execute_result"
    }
   ],
   "source": [
    "def cramers_v(confusion_matrix):\n",
    "    chi2 = ss.chi2_contingency(confusion_matrix)[0]\n",
    "    n = confusion_matrix.sum()\n",
    "    phi2 = chi2 / n\n",
    "    r, k = confusion_matrix.shape\n",
    "    phi2corr = max(0, phi2 - ((k-1)*(r-1))/(n-1))\n",
    "    rcorr = r - ((r-1)**2)/(n-1)\n",
    "    kcorr = k - ((k-1)**2)/(n-1)\n",
    "    return np.sqrt(phi2corr / min((kcorr-1), (rcorr-1)))\n",
    "\n",
    "confusion_matrix = pd.crosstab(df_specific[\"Organic_code\"], df_specific[\"pageMainCat_Encoded\"]).as_matrix()\n",
    "cramers_v(confusion_matrix)"
   ]
  },
  {
   "cell_type": "markdown",
   "metadata": {},
   "source": [
    "Zachodzi silna korelacja pomiędzy wejściem na stronę przez wyszukiwarkę (organic), a głównymi kategoriami, na które wchodzą używtkownicy."
   ]
  },
  {
   "cell_type": "markdown",
   "metadata": {},
   "source": [
    " "
   ]
  },
  {
   "cell_type": "code",
   "execution_count": 26,
   "metadata": {},
   "outputs": [
    {
     "name": "stderr",
     "output_type": "stream",
     "text": [
      "C:\\Users\\owkr9001\\AppData\\Local\\Continuum\\anaconda3\\lib\\site-packages\\ipykernel_launcher.py:1: FutureWarning: Method .as_matrix will be removed in a future version. Use .values instead.\n",
      "  \"\"\"Entry point for launching an IPython kernel.\n",
      "C:\\Users\\owkr9001\\AppData\\Local\\Continuum\\anaconda3\\lib\\site-packages\\ipykernel_launcher.py:2: FutureWarning: Method .as_matrix will be removed in a future version. Use .values instead.\n",
      "  \n",
      "C:\\Users\\owkr9001\\AppData\\Local\\Continuum\\anaconda3\\lib\\site-packages\\ipykernel_launcher.py:3: FutureWarning: Method .as_matrix will be removed in a future version. Use .values instead.\n",
      "  This is separate from the ipykernel package so we can avoid doing imports until\n",
      "C:\\Users\\owkr9001\\AppData\\Local\\Continuum\\anaconda3\\lib\\site-packages\\ipykernel_launcher.py:4: FutureWarning: Method .as_matrix will be removed in a future version. Use .values instead.\n",
      "  after removing the cwd from sys.path.\n",
      "C:\\Users\\owkr9001\\AppData\\Local\\Continuum\\anaconda3\\lib\\site-packages\\ipykernel_launcher.py:5: FutureWarning: Method .as_matrix will be removed in a future version. Use .values instead.\n",
      "  \"\"\"\n",
      "C:\\Users\\owkr9001\\AppData\\Local\\Continuum\\anaconda3\\lib\\site-packages\\ipykernel_launcher.py:6: FutureWarning: Method .as_matrix will be removed in a future version. Use .values instead.\n",
      "  \n",
      "C:\\Users\\owkr9001\\AppData\\Local\\Continuum\\anaconda3\\lib\\site-packages\\ipykernel_launcher.py:7: FutureWarning: Method .as_matrix will be removed in a future version. Use .values instead.\n",
      "  import sys\n",
      "C:\\Users\\owkr9001\\AppData\\Local\\Continuum\\anaconda3\\lib\\site-packages\\ipykernel_launcher.py:8: FutureWarning: Method .as_matrix will be removed in a future version. Use .values instead.\n",
      "  \n",
      "C:\\Users\\owkr9001\\AppData\\Local\\Continuum\\anaconda3\\lib\\site-packages\\ipykernel_launcher.py:9: FutureWarning: Method .as_matrix will be removed in a future version. Use .values instead.\n",
      "  if __name__ == '__main__':\n",
      "C:\\Users\\owkr9001\\AppData\\Local\\Continuum\\anaconda3\\lib\\site-packages\\ipykernel_launcher.py:10: FutureWarning: Method .as_matrix will be removed in a future version. Use .values instead.\n",
      "  # Remove the CWD from sys.path while we load stuff.\n"
     ]
    }
   ],
   "source": [
    "cm_Others = pd.crosstab(df_onehot[\"Organic_code\"], df_onehot[\"pageMainCat_Others\"]).as_matrix()\n",
    "cm_fiszki = pd.crosstab(df_onehot[\"Organic_code\"], df_onehot[\"pageMainCat_fiszki\"]).as_matrix()\n",
    "cm_fiszki_i_quizy = pd.crosstab(df_onehot[\"Organic_code\"], df_onehot[\"pageMainCat_fiszki-i-quizy\"]).as_matrix()\n",
    "cm_kategorie = pd.crosstab(df_onehot[\"Organic_code\"], df_onehot[\"pageMainCat_kategorie\"]).as_matrix()\n",
    "cm_lekcja = pd.crosstab(df_onehot[\"Organic_code\"], df_onehot[\"pageMainCat_lekcja\"]).as_matrix()\n",
    "cm_lesson_preview = pd.crosstab(df_onehot[\"Organic_code\"], df_onehot[\"pageMainCat_lesson/preview\"]).as_matrix()\n",
    "cm_o_portalu = pd.crosstab(df_onehot[\"Organic_code\"], df_onehot[\"pageMainCat_o-portalu\"]).as_matrix()\n",
    "cm_quiz = pd.crosstab(df_onehot[\"Organic_code\"], df_onehot[\"pageMainCat_quiz\"]).as_matrix()\n",
    "cm_sprawdz_sie = pd.crosstab(df_onehot[\"Organic_code\"], df_onehot[\"pageMainCat_sprawdz-sie\"]).as_matrix()\n",
    "cm_szukaj = pd.crosstab(df_onehot[\"Organic_code\"], df_onehot[\"pageMainCat_szukaj\"]).as_matrix()"
   ]
  },
  {
   "cell_type": "code",
   "execution_count": 27,
   "metadata": {},
   "outputs": [
    {
     "data": {
      "text/html": [
       "<div>\n",
       "<style scoped>\n",
       "    .dataframe tbody tr th:only-of-type {\n",
       "        vertical-align: middle;\n",
       "    }\n",
       "\n",
       "    .dataframe tbody tr th {\n",
       "        vertical-align: top;\n",
       "    }\n",
       "\n",
       "    .dataframe thead th {\n",
       "        text-align: right;\n",
       "    }\n",
       "</style>\n",
       "<table border=\"1\" class=\"dataframe\">\n",
       "  <thead>\n",
       "    <tr style=\"text-align: right;\">\n",
       "      <th></th>\n",
       "      <th>Kategoria</th>\n",
       "      <th>Współczynnik V Craméra</th>\n",
       "    </tr>\n",
       "  </thead>\n",
       "  <tbody>\n",
       "    <tr>\n",
       "      <td>0</td>\n",
       "      <td>lekcja</td>\n",
       "      <td>0.637651</td>\n",
       "    </tr>\n",
       "    <tr>\n",
       "      <td>1</td>\n",
       "      <td>Others</td>\n",
       "      <td>0.355948</td>\n",
       "    </tr>\n",
       "    <tr>\n",
       "      <td>2</td>\n",
       "      <td>fiszki</td>\n",
       "      <td>0.174430</td>\n",
       "    </tr>\n",
       "    <tr>\n",
       "      <td>3</td>\n",
       "      <td>quiz</td>\n",
       "      <td>0.159084</td>\n",
       "    </tr>\n",
       "    <tr>\n",
       "      <td>4</td>\n",
       "      <td>kategorie</td>\n",
       "      <td>0.069299</td>\n",
       "    </tr>\n",
       "    <tr>\n",
       "      <td>5</td>\n",
       "      <td>lesson_preview</td>\n",
       "      <td>0.024324</td>\n",
       "    </tr>\n",
       "    <tr>\n",
       "      <td>6</td>\n",
       "      <td>fiszki_i_quizy</td>\n",
       "      <td>0.015139</td>\n",
       "    </tr>\n",
       "    <tr>\n",
       "      <td>7</td>\n",
       "      <td>szukaj</td>\n",
       "      <td>0.017261</td>\n",
       "    </tr>\n",
       "    <tr>\n",
       "      <td>8</td>\n",
       "      <td>sprawdz_sie</td>\n",
       "      <td>0.001001</td>\n",
       "    </tr>\n",
       "  </tbody>\n",
       "</table>\n",
       "</div>"
      ],
      "text/plain": [
       "        Kategoria  Współczynnik V Craméra\n",
       "0          lekcja                0.637651\n",
       "1          Others                0.355948\n",
       "2          fiszki                0.174430\n",
       "3            quiz                0.159084\n",
       "4       kategorie                0.069299\n",
       "5  lesson_preview                0.024324\n",
       "6  fiszki_i_quizy                0.015139\n",
       "7          szukaj                0.017261\n",
       "8     sprawdz_sie                0.001001"
      ]
     },
     "execution_count": 27,
     "metadata": {},
     "output_type": "execute_result"
    }
   ],
   "source": [
    "data = {\"Kategoria\":  [\"lekcja\", \"Others\",\"fiszki\",\"quiz\",\"kategorie\", \"lesson_preview\", \"fiszki_i_quizy\", \"szukaj\", \"sprawdz_sie\"],\n",
    "        \"Współczynnik V Craméra\": [cramers_v(cm_lekcja), cramers_v(cm_Others) ,cramers_v(cm_fiszki), cramers_v(cm_quiz),\n",
    "                                   cramers_v(cm_kategorie), cramers_v(cm_lesson_preview), cramers_v(cm_fiszki_i_quizy),\n",
    "                                  cramers_v(cm_szukaj), cramers_v(cm_sprawdz_sie)]\n",
    "        }\n",
    "\n",
    "Cramér = pd.DataFrame (data, columns = [\"Kategoria\",\"Współczynnik V Craméra\"])\n",
    "\n",
    "Cramér"
   ]
  },
  {
   "cell_type": "markdown",
   "metadata": {},
   "source": [
    "Po sprawdzeniu Współczynnika korelacji V Cramera, można określić, że z pośród rozpatrywanych kategorii, jedynie \"lekcja\" wykazuje realną korelację z wejściem na stronę przez wyszukiwarkę (organic). "
   ]
  },
  {
   "cell_type": "code",
   "execution_count": 28,
   "metadata": {},
   "outputs": [
    {
     "data": {
      "text/plain": [
       "64e4c7ca28927cfd62a503e100afe752    855\n",
       "7fd23ab30cb37c91cf57a30731c284be    827\n",
       "12362cc4d327fb9dbd0cc4dbb9a55763    775\n",
       "7d4374561c5e2cf5302d7b82c41dc6c7    766\n",
       "3fe25b59f12d75f633cf1ac19b316298    754\n",
       "                                   ... \n",
       "f2ed1359b5f01e14548f76ec79a5e814      1\n",
       "836d21e37c3c2f726194baf54b5b7610      1\n",
       "580a13327ec0b0b013f4fbe77a979a22      1\n",
       "ef057106e5dc9953ca702fcbd32fb25c      1\n",
       "79203766ad78087e175cde28b2e07464      1\n",
       "Name: client_id, Length: 230193, dtype: int64"
      ]
     },
     "execution_count": 28,
     "metadata": {},
     "output_type": "execute_result"
    }
   ],
   "source": [
    "df[\"client_id\"].value_counts()"
   ]
  },
  {
   "cell_type": "code",
   "execution_count": 30,
   "metadata": {},
   "outputs": [
    {
     "data": {
      "text/plain": [
       "466822"
      ]
     },
     "execution_count": 30,
     "metadata": {},
     "output_type": "execute_result"
    }
   ],
   "source": [
    "df[\"client_id\"].value_counts().sum()"
   ]
  },
  {
   "cell_type": "code",
   "execution_count": null,
   "metadata": {},
   "outputs": [],
   "source": []
  },
  {
   "cell_type": "code",
   "execution_count": 31,
   "metadata": {},
   "outputs": [],
   "source": [
    "df_onehot['week'] = df_onehot['date'].dt.week"
   ]
  },
  {
   "cell_type": "code",
   "execution_count": 32,
   "metadata": {},
   "outputs": [
    {
     "data": {
      "text/plain": [
       "34    134390\n",
       "33    128802\n",
       "32    117908\n",
       "31     85696\n",
       "35        19\n",
       "36         3\n",
       "38         2\n",
       "41         1\n",
       "37         1\n",
       "Name: week, dtype: int64"
      ]
     },
     "execution_count": 32,
     "metadata": {},
     "output_type": "execute_result"
    }
   ],
   "source": [
    "df_onehot['week'].value_counts()"
   ]
  },
  {
   "cell_type": "code",
   "execution_count": 33,
   "metadata": {},
   "outputs": [],
   "source": [
    "df_onehot[\"client_id_count\"] = df.groupby(\"client_id\")[\"client_id\"].transform(\"count\")\n",
    "df_onehot = df_onehot.sort_values(\"client_id_count\", ascending=False)"
   ]
  },
  {
   "cell_type": "code",
   "execution_count": 34,
   "metadata": {},
   "outputs": [
    {
     "data": {
      "text/html": [
       "<div>\n",
       "<style scoped>\n",
       "    .dataframe tbody tr th:only-of-type {\n",
       "        vertical-align: middle;\n",
       "    }\n",
       "\n",
       "    .dataframe tbody tr th {\n",
       "        vertical-align: top;\n",
       "    }\n",
       "\n",
       "    .dataframe thead th {\n",
       "        text-align: right;\n",
       "    }\n",
       "</style>\n",
       "<table border=\"1\" class=\"dataframe\">\n",
       "  <thead>\n",
       "    <tr style=\"text-align: right;\">\n",
       "      <th></th>\n",
       "      <th>client_id</th>\n",
       "      <th>action_time</th>\n",
       "      <th>pagePath</th>\n",
       "      <th>date</th>\n",
       "      <th>Organic_code</th>\n",
       "      <th>pageMainCat_Encoded</th>\n",
       "      <th>pageMainCat_Others</th>\n",
       "      <th>pageMainCat_fiszki</th>\n",
       "      <th>pageMainCat_fiszki-i-quizy</th>\n",
       "      <th>pageMainCat_kategorie</th>\n",
       "      <th>pageMainCat_lekcja</th>\n",
       "      <th>pageMainCat_lesson/preview</th>\n",
       "      <th>pageMainCat_o-portalu</th>\n",
       "      <th>pageMainCat_quiz</th>\n",
       "      <th>pageMainCat_sprawdz-sie</th>\n",
       "      <th>pageMainCat_szukaj</th>\n",
       "      <th>week</th>\n",
       "      <th>client_id_count</th>\n",
       "      <th>client_id_code</th>\n",
       "    </tr>\n",
       "  </thead>\n",
       "  <tbody>\n",
       "    <tr>\n",
       "      <td>354859</td>\n",
       "      <td>64e4c7ca28927cfd62a503e100afe752</td>\n",
       "      <td>10:39:30</td>\n",
       "      <td>/quiz/54497bf1-8dc1-44c2-ac4c-5971db09520d</td>\n",
       "      <td>2020-08-17</td>\n",
       "      <td>0</td>\n",
       "      <td>5</td>\n",
       "      <td>0</td>\n",
       "      <td>0</td>\n",
       "      <td>0</td>\n",
       "      <td>0</td>\n",
       "      <td>0</td>\n",
       "      <td>0</td>\n",
       "      <td>0</td>\n",
       "      <td>1</td>\n",
       "      <td>0</td>\n",
       "      <td>0</td>\n",
       "      <td>34</td>\n",
       "      <td>855</td>\n",
       "      <td>0</td>\n",
       "    </tr>\n",
       "    <tr>\n",
       "      <td>257997</td>\n",
       "      <td>64e4c7ca28927cfd62a503e100afe752</td>\n",
       "      <td>17:56:16</td>\n",
       "      <td>/quiz/2cb641e5-c87b-44e9-8c1b-6ba18824923b</td>\n",
       "      <td>2020-08-13</td>\n",
       "      <td>0</td>\n",
       "      <td>5</td>\n",
       "      <td>0</td>\n",
       "      <td>0</td>\n",
       "      <td>0</td>\n",
       "      <td>0</td>\n",
       "      <td>0</td>\n",
       "      <td>0</td>\n",
       "      <td>0</td>\n",
       "      <td>1</td>\n",
       "      <td>0</td>\n",
       "      <td>0</td>\n",
       "      <td>33</td>\n",
       "      <td>855</td>\n",
       "      <td>0</td>\n",
       "    </tr>\n",
       "    <tr>\n",
       "      <td>448085</td>\n",
       "      <td>64e4c7ca28927cfd62a503e100afe752</td>\n",
       "      <td>03:09:59</td>\n",
       "      <td>/quiz/3842787b-6012-464d-b4d0-3a7a8aabc0f1</td>\n",
       "      <td>2020-08-22</td>\n",
       "      <td>0</td>\n",
       "      <td>5</td>\n",
       "      <td>0</td>\n",
       "      <td>0</td>\n",
       "      <td>0</td>\n",
       "      <td>0</td>\n",
       "      <td>0</td>\n",
       "      <td>0</td>\n",
       "      <td>0</td>\n",
       "      <td>1</td>\n",
       "      <td>0</td>\n",
       "      <td>0</td>\n",
       "      <td>34</td>\n",
       "      <td>855</td>\n",
       "      <td>0</td>\n",
       "    </tr>\n",
       "    <tr>\n",
       "      <td>448086</td>\n",
       "      <td>64e4c7ca28927cfd62a503e100afe752</td>\n",
       "      <td>03:10:04</td>\n",
       "      <td>/quiz/3842787b-6012-464d-b4d0-3a7a8aabc0f1</td>\n",
       "      <td>2020-08-22</td>\n",
       "      <td>0</td>\n",
       "      <td>5</td>\n",
       "      <td>0</td>\n",
       "      <td>0</td>\n",
       "      <td>0</td>\n",
       "      <td>0</td>\n",
       "      <td>0</td>\n",
       "      <td>0</td>\n",
       "      <td>0</td>\n",
       "      <td>1</td>\n",
       "      <td>0</td>\n",
       "      <td>0</td>\n",
       "      <td>34</td>\n",
       "      <td>855</td>\n",
       "      <td>0</td>\n",
       "    </tr>\n",
       "    <tr>\n",
       "      <td>448087</td>\n",
       "      <td>64e4c7ca28927cfd62a503e100afe752</td>\n",
       "      <td>03:10:08</td>\n",
       "      <td>/quiz/3842787b-6012-464d-b4d0-3a7a8aabc0f1</td>\n",
       "      <td>2020-08-22</td>\n",
       "      <td>0</td>\n",
       "      <td>5</td>\n",
       "      <td>0</td>\n",
       "      <td>0</td>\n",
       "      <td>0</td>\n",
       "      <td>0</td>\n",
       "      <td>0</td>\n",
       "      <td>0</td>\n",
       "      <td>0</td>\n",
       "      <td>1</td>\n",
       "      <td>0</td>\n",
       "      <td>0</td>\n",
       "      <td>34</td>\n",
       "      <td>855</td>\n",
       "      <td>0</td>\n",
       "    </tr>\n",
       "    <tr>\n",
       "      <td>...</td>\n",
       "      <td>...</td>\n",
       "      <td>...</td>\n",
       "      <td>...</td>\n",
       "      <td>...</td>\n",
       "      <td>...</td>\n",
       "      <td>...</td>\n",
       "      <td>...</td>\n",
       "      <td>...</td>\n",
       "      <td>...</td>\n",
       "      <td>...</td>\n",
       "      <td>...</td>\n",
       "      <td>...</td>\n",
       "      <td>...</td>\n",
       "      <td>...</td>\n",
       "      <td>...</td>\n",
       "      <td>...</td>\n",
       "      <td>...</td>\n",
       "      <td>...</td>\n",
       "      <td>...</td>\n",
       "    </tr>\n",
       "    <tr>\n",
       "      <td>332252</td>\n",
       "      <td>e8b2621af11e82af0cf893d469e1f4d6</td>\n",
       "      <td>09:01:57</td>\n",
       "      <td>/lekcja/historia,fbc16bbb9cf844cb0477c5b2b490df70</td>\n",
       "      <td>2020-08-16</td>\n",
       "      <td>1</td>\n",
       "      <td>9</td>\n",
       "      <td>0</td>\n",
       "      <td>0</td>\n",
       "      <td>0</td>\n",
       "      <td>0</td>\n",
       "      <td>1</td>\n",
       "      <td>0</td>\n",
       "      <td>0</td>\n",
       "      <td>0</td>\n",
       "      <td>0</td>\n",
       "      <td>0</td>\n",
       "      <td>33</td>\n",
       "      <td>1</td>\n",
       "      <td>1</td>\n",
       "    </tr>\n",
       "    <tr>\n",
       "      <td>332253</td>\n",
       "      <td>edfe1f046b2a02bab6946bca214b9751</td>\n",
       "      <td>10:48:49</td>\n",
       "      <td>/lekcja/jezyk-polski,16cc278854bf2bd81ef436ee6...</td>\n",
       "      <td>2020-08-16</td>\n",
       "      <td>1</td>\n",
       "      <td>9</td>\n",
       "      <td>0</td>\n",
       "      <td>0</td>\n",
       "      <td>0</td>\n",
       "      <td>0</td>\n",
       "      <td>1</td>\n",
       "      <td>0</td>\n",
       "      <td>0</td>\n",
       "      <td>0</td>\n",
       "      <td>0</td>\n",
       "      <td>0</td>\n",
       "      <td>33</td>\n",
       "      <td>1</td>\n",
       "      <td>1</td>\n",
       "    </tr>\n",
       "    <tr>\n",
       "      <td>332254</td>\n",
       "      <td>7275b342c1d8ed878136191ac193b77d</td>\n",
       "      <td>14:55:57</td>\n",
       "      <td>/lekcja/jezyk-polski,2b627e0ddb69e28f6aa8b8d26...</td>\n",
       "      <td>2020-08-16</td>\n",
       "      <td>1</td>\n",
       "      <td>9</td>\n",
       "      <td>0</td>\n",
       "      <td>0</td>\n",
       "      <td>0</td>\n",
       "      <td>0</td>\n",
       "      <td>1</td>\n",
       "      <td>0</td>\n",
       "      <td>0</td>\n",
       "      <td>0</td>\n",
       "      <td>0</td>\n",
       "      <td>0</td>\n",
       "      <td>33</td>\n",
       "      <td>1</td>\n",
       "      <td>1</td>\n",
       "    </tr>\n",
       "    <tr>\n",
       "      <td>166036</td>\n",
       "      <td>29aed918a4c31a17a328be754e0784f5</td>\n",
       "      <td>18:50:39</td>\n",
       "      <td>/lekcja/jezyk-angielski,14652226b942619d90bcb8...</td>\n",
       "      <td>2020-08-08</td>\n",
       "      <td>1</td>\n",
       "      <td>9</td>\n",
       "      <td>0</td>\n",
       "      <td>0</td>\n",
       "      <td>0</td>\n",
       "      <td>0</td>\n",
       "      <td>1</td>\n",
       "      <td>0</td>\n",
       "      <td>0</td>\n",
       "      <td>0</td>\n",
       "      <td>0</td>\n",
       "      <td>0</td>\n",
       "      <td>32</td>\n",
       "      <td>1</td>\n",
       "      <td>1</td>\n",
       "    </tr>\n",
       "    <tr>\n",
       "      <td>0</td>\n",
       "      <td>d0a213b0718cd0e10475ce11d893c3cc</td>\n",
       "      <td>15:38:27</td>\n",
       "      <td>/lekcja/biologia,75f95eb9a371db8c2ea854da85219502</td>\n",
       "      <td>2020-07-29</td>\n",
       "      <td>1</td>\n",
       "      <td>9</td>\n",
       "      <td>0</td>\n",
       "      <td>0</td>\n",
       "      <td>0</td>\n",
       "      <td>0</td>\n",
       "      <td>1</td>\n",
       "      <td>0</td>\n",
       "      <td>0</td>\n",
       "      <td>0</td>\n",
       "      <td>0</td>\n",
       "      <td>0</td>\n",
       "      <td>31</td>\n",
       "      <td>1</td>\n",
       "      <td>1</td>\n",
       "    </tr>\n",
       "  </tbody>\n",
       "</table>\n",
       "<p>466822 rows × 19 columns</p>\n",
       "</div>"
      ],
      "text/plain": [
       "                               client_id action_time  \\\n",
       "354859  64e4c7ca28927cfd62a503e100afe752    10:39:30   \n",
       "257997  64e4c7ca28927cfd62a503e100afe752    17:56:16   \n",
       "448085  64e4c7ca28927cfd62a503e100afe752    03:09:59   \n",
       "448086  64e4c7ca28927cfd62a503e100afe752    03:10:04   \n",
       "448087  64e4c7ca28927cfd62a503e100afe752    03:10:08   \n",
       "...                                  ...         ...   \n",
       "332252  e8b2621af11e82af0cf893d469e1f4d6    09:01:57   \n",
       "332253  edfe1f046b2a02bab6946bca214b9751    10:48:49   \n",
       "332254  7275b342c1d8ed878136191ac193b77d    14:55:57   \n",
       "166036  29aed918a4c31a17a328be754e0784f5    18:50:39   \n",
       "0       d0a213b0718cd0e10475ce11d893c3cc    15:38:27   \n",
       "\n",
       "                                                 pagePath       date  \\\n",
       "354859         /quiz/54497bf1-8dc1-44c2-ac4c-5971db09520d 2020-08-17   \n",
       "257997         /quiz/2cb641e5-c87b-44e9-8c1b-6ba18824923b 2020-08-13   \n",
       "448085         /quiz/3842787b-6012-464d-b4d0-3a7a8aabc0f1 2020-08-22   \n",
       "448086         /quiz/3842787b-6012-464d-b4d0-3a7a8aabc0f1 2020-08-22   \n",
       "448087         /quiz/3842787b-6012-464d-b4d0-3a7a8aabc0f1 2020-08-22   \n",
       "...                                                   ...        ...   \n",
       "332252  /lekcja/historia,fbc16bbb9cf844cb0477c5b2b490df70 2020-08-16   \n",
       "332253  /lekcja/jezyk-polski,16cc278854bf2bd81ef436ee6... 2020-08-16   \n",
       "332254  /lekcja/jezyk-polski,2b627e0ddb69e28f6aa8b8d26... 2020-08-16   \n",
       "166036  /lekcja/jezyk-angielski,14652226b942619d90bcb8... 2020-08-08   \n",
       "0       /lekcja/biologia,75f95eb9a371db8c2ea854da85219502 2020-07-29   \n",
       "\n",
       "        Organic_code pageMainCat_Encoded  pageMainCat_Others  \\\n",
       "354859             0                   5                   0   \n",
       "257997             0                   5                   0   \n",
       "448085             0                   5                   0   \n",
       "448086             0                   5                   0   \n",
       "448087             0                   5                   0   \n",
       "...              ...                 ...                 ...   \n",
       "332252             1                   9                   0   \n",
       "332253             1                   9                   0   \n",
       "332254             1                   9                   0   \n",
       "166036             1                   9                   0   \n",
       "0                  1                   9                   0   \n",
       "\n",
       "        pageMainCat_fiszki  pageMainCat_fiszki-i-quizy  pageMainCat_kategorie  \\\n",
       "354859                   0                           0                      0   \n",
       "257997                   0                           0                      0   \n",
       "448085                   0                           0                      0   \n",
       "448086                   0                           0                      0   \n",
       "448087                   0                           0                      0   \n",
       "...                    ...                         ...                    ...   \n",
       "332252                   0                           0                      0   \n",
       "332253                   0                           0                      0   \n",
       "332254                   0                           0                      0   \n",
       "166036                   0                           0                      0   \n",
       "0                        0                           0                      0   \n",
       "\n",
       "        pageMainCat_lekcja  pageMainCat_lesson/preview  pageMainCat_o-portalu  \\\n",
       "354859                   0                           0                      0   \n",
       "257997                   0                           0                      0   \n",
       "448085                   0                           0                      0   \n",
       "448086                   0                           0                      0   \n",
       "448087                   0                           0                      0   \n",
       "...                    ...                         ...                    ...   \n",
       "332252                   1                           0                      0   \n",
       "332253                   1                           0                      0   \n",
       "332254                   1                           0                      0   \n",
       "166036                   1                           0                      0   \n",
       "0                        1                           0                      0   \n",
       "\n",
       "        pageMainCat_quiz  pageMainCat_sprawdz-sie  pageMainCat_szukaj  week  \\\n",
       "354859                 1                        0                   0    34   \n",
       "257997                 1                        0                   0    33   \n",
       "448085                 1                        0                   0    34   \n",
       "448086                 1                        0                   0    34   \n",
       "448087                 1                        0                   0    34   \n",
       "...                  ...                      ...                 ...   ...   \n",
       "332252                 0                        0                   0    33   \n",
       "332253                 0                        0                   0    33   \n",
       "332254                 0                        0                   0    33   \n",
       "166036                 0                        0                   0    32   \n",
       "0                      0                        0                   0    31   \n",
       "\n",
       "        client_id_count  client_id_code  \n",
       "354859              855               0  \n",
       "257997              855               0  \n",
       "448085              855               0  \n",
       "448086              855               0  \n",
       "448087              855               0  \n",
       "...                 ...             ...  \n",
       "332252                1               1  \n",
       "332253                1               1  \n",
       "332254                1               1  \n",
       "166036                1               1  \n",
       "0                     1               1  \n",
       "\n",
       "[466822 rows x 19 columns]"
      ]
     },
     "execution_count": 34,
     "metadata": {},
     "output_type": "execute_result"
    }
   ],
   "source": [
    "df_onehot[\"client_id_code\"] = np.where(df_onehot[\"client_id_count\"] == 1, 1, 0)\n",
    "df_onehot"
   ]
  },
  {
   "cell_type": "code",
   "execution_count": 35,
   "metadata": {},
   "outputs": [],
   "source": [
    "df_onehot = df_onehot.drop(\"client_id\", axis = 1)"
   ]
  },
  {
   "cell_type": "code",
   "execution_count": 36,
   "metadata": {},
   "outputs": [],
   "source": [
    "df_onehot = df_onehot.drop(\"client_id_count\", axis = 1)"
   ]
  },
  {
   "cell_type": "code",
   "execution_count": 37,
   "metadata": {},
   "outputs": [],
   "source": [
    "df_onehot = df_onehot.drop(\"pagePath\", axis = 1)"
   ]
  },
  {
   "cell_type": "code",
   "execution_count": 38,
   "metadata": {},
   "outputs": [],
   "source": [
    "df_onehot = df_onehot.drop(\"action_time\", axis = 1)"
   ]
  },
  {
   "cell_type": "code",
   "execution_count": 39,
   "metadata": {},
   "outputs": [],
   "source": [
    "df_onehot = df_onehot.drop(\"date\", axis = 1)"
   ]
  },
  {
   "cell_type": "code",
   "execution_count": 40,
   "metadata": {},
   "outputs": [
    {
     "data": {
      "text/html": [
       "<div>\n",
       "<style scoped>\n",
       "    .dataframe tbody tr th:only-of-type {\n",
       "        vertical-align: middle;\n",
       "    }\n",
       "\n",
       "    .dataframe tbody tr th {\n",
       "        vertical-align: top;\n",
       "    }\n",
       "\n",
       "    .dataframe thead th {\n",
       "        text-align: right;\n",
       "    }\n",
       "</style>\n",
       "<table border=\"1\" class=\"dataframe\">\n",
       "  <thead>\n",
       "    <tr style=\"text-align: right;\">\n",
       "      <th></th>\n",
       "      <th>Organic_code</th>\n",
       "      <th>pageMainCat_Encoded</th>\n",
       "      <th>pageMainCat_Others</th>\n",
       "      <th>pageMainCat_fiszki</th>\n",
       "      <th>pageMainCat_fiszki-i-quizy</th>\n",
       "      <th>pageMainCat_kategorie</th>\n",
       "      <th>pageMainCat_lekcja</th>\n",
       "      <th>pageMainCat_lesson/preview</th>\n",
       "      <th>pageMainCat_o-portalu</th>\n",
       "      <th>pageMainCat_quiz</th>\n",
       "      <th>pageMainCat_sprawdz-sie</th>\n",
       "      <th>pageMainCat_szukaj</th>\n",
       "      <th>week</th>\n",
       "      <th>client_id_code</th>\n",
       "    </tr>\n",
       "  </thead>\n",
       "  <tbody>\n",
       "    <tr>\n",
       "      <td>354859</td>\n",
       "      <td>0</td>\n",
       "      <td>5</td>\n",
       "      <td>0</td>\n",
       "      <td>0</td>\n",
       "      <td>0</td>\n",
       "      <td>0</td>\n",
       "      <td>0</td>\n",
       "      <td>0</td>\n",
       "      <td>0</td>\n",
       "      <td>1</td>\n",
       "      <td>0</td>\n",
       "      <td>0</td>\n",
       "      <td>34</td>\n",
       "      <td>0</td>\n",
       "    </tr>\n",
       "    <tr>\n",
       "      <td>257997</td>\n",
       "      <td>0</td>\n",
       "      <td>5</td>\n",
       "      <td>0</td>\n",
       "      <td>0</td>\n",
       "      <td>0</td>\n",
       "      <td>0</td>\n",
       "      <td>0</td>\n",
       "      <td>0</td>\n",
       "      <td>0</td>\n",
       "      <td>1</td>\n",
       "      <td>0</td>\n",
       "      <td>0</td>\n",
       "      <td>33</td>\n",
       "      <td>0</td>\n",
       "    </tr>\n",
       "    <tr>\n",
       "      <td>448085</td>\n",
       "      <td>0</td>\n",
       "      <td>5</td>\n",
       "      <td>0</td>\n",
       "      <td>0</td>\n",
       "      <td>0</td>\n",
       "      <td>0</td>\n",
       "      <td>0</td>\n",
       "      <td>0</td>\n",
       "      <td>0</td>\n",
       "      <td>1</td>\n",
       "      <td>0</td>\n",
       "      <td>0</td>\n",
       "      <td>34</td>\n",
       "      <td>0</td>\n",
       "    </tr>\n",
       "    <tr>\n",
       "      <td>448086</td>\n",
       "      <td>0</td>\n",
       "      <td>5</td>\n",
       "      <td>0</td>\n",
       "      <td>0</td>\n",
       "      <td>0</td>\n",
       "      <td>0</td>\n",
       "      <td>0</td>\n",
       "      <td>0</td>\n",
       "      <td>0</td>\n",
       "      <td>1</td>\n",
       "      <td>0</td>\n",
       "      <td>0</td>\n",
       "      <td>34</td>\n",
       "      <td>0</td>\n",
       "    </tr>\n",
       "    <tr>\n",
       "      <td>448087</td>\n",
       "      <td>0</td>\n",
       "      <td>5</td>\n",
       "      <td>0</td>\n",
       "      <td>0</td>\n",
       "      <td>0</td>\n",
       "      <td>0</td>\n",
       "      <td>0</td>\n",
       "      <td>0</td>\n",
       "      <td>0</td>\n",
       "      <td>1</td>\n",
       "      <td>0</td>\n",
       "      <td>0</td>\n",
       "      <td>34</td>\n",
       "      <td>0</td>\n",
       "    </tr>\n",
       "    <tr>\n",
       "      <td>...</td>\n",
       "      <td>...</td>\n",
       "      <td>...</td>\n",
       "      <td>...</td>\n",
       "      <td>...</td>\n",
       "      <td>...</td>\n",
       "      <td>...</td>\n",
       "      <td>...</td>\n",
       "      <td>...</td>\n",
       "      <td>...</td>\n",
       "      <td>...</td>\n",
       "      <td>...</td>\n",
       "      <td>...</td>\n",
       "      <td>...</td>\n",
       "      <td>...</td>\n",
       "    </tr>\n",
       "    <tr>\n",
       "      <td>332252</td>\n",
       "      <td>1</td>\n",
       "      <td>9</td>\n",
       "      <td>0</td>\n",
       "      <td>0</td>\n",
       "      <td>0</td>\n",
       "      <td>0</td>\n",
       "      <td>1</td>\n",
       "      <td>0</td>\n",
       "      <td>0</td>\n",
       "      <td>0</td>\n",
       "      <td>0</td>\n",
       "      <td>0</td>\n",
       "      <td>33</td>\n",
       "      <td>1</td>\n",
       "    </tr>\n",
       "    <tr>\n",
       "      <td>332253</td>\n",
       "      <td>1</td>\n",
       "      <td>9</td>\n",
       "      <td>0</td>\n",
       "      <td>0</td>\n",
       "      <td>0</td>\n",
       "      <td>0</td>\n",
       "      <td>1</td>\n",
       "      <td>0</td>\n",
       "      <td>0</td>\n",
       "      <td>0</td>\n",
       "      <td>0</td>\n",
       "      <td>0</td>\n",
       "      <td>33</td>\n",
       "      <td>1</td>\n",
       "    </tr>\n",
       "    <tr>\n",
       "      <td>332254</td>\n",
       "      <td>1</td>\n",
       "      <td>9</td>\n",
       "      <td>0</td>\n",
       "      <td>0</td>\n",
       "      <td>0</td>\n",
       "      <td>0</td>\n",
       "      <td>1</td>\n",
       "      <td>0</td>\n",
       "      <td>0</td>\n",
       "      <td>0</td>\n",
       "      <td>0</td>\n",
       "      <td>0</td>\n",
       "      <td>33</td>\n",
       "      <td>1</td>\n",
       "    </tr>\n",
       "    <tr>\n",
       "      <td>166036</td>\n",
       "      <td>1</td>\n",
       "      <td>9</td>\n",
       "      <td>0</td>\n",
       "      <td>0</td>\n",
       "      <td>0</td>\n",
       "      <td>0</td>\n",
       "      <td>1</td>\n",
       "      <td>0</td>\n",
       "      <td>0</td>\n",
       "      <td>0</td>\n",
       "      <td>0</td>\n",
       "      <td>0</td>\n",
       "      <td>32</td>\n",
       "      <td>1</td>\n",
       "    </tr>\n",
       "    <tr>\n",
       "      <td>0</td>\n",
       "      <td>1</td>\n",
       "      <td>9</td>\n",
       "      <td>0</td>\n",
       "      <td>0</td>\n",
       "      <td>0</td>\n",
       "      <td>0</td>\n",
       "      <td>1</td>\n",
       "      <td>0</td>\n",
       "      <td>0</td>\n",
       "      <td>0</td>\n",
       "      <td>0</td>\n",
       "      <td>0</td>\n",
       "      <td>31</td>\n",
       "      <td>1</td>\n",
       "    </tr>\n",
       "  </tbody>\n",
       "</table>\n",
       "<p>466822 rows × 14 columns</p>\n",
       "</div>"
      ],
      "text/plain": [
       "        Organic_code pageMainCat_Encoded  pageMainCat_Others  \\\n",
       "354859             0                   5                   0   \n",
       "257997             0                   5                   0   \n",
       "448085             0                   5                   0   \n",
       "448086             0                   5                   0   \n",
       "448087             0                   5                   0   \n",
       "...              ...                 ...                 ...   \n",
       "332252             1                   9                   0   \n",
       "332253             1                   9                   0   \n",
       "332254             1                   9                   0   \n",
       "166036             1                   9                   0   \n",
       "0                  1                   9                   0   \n",
       "\n",
       "        pageMainCat_fiszki  pageMainCat_fiszki-i-quizy  pageMainCat_kategorie  \\\n",
       "354859                   0                           0                      0   \n",
       "257997                   0                           0                      0   \n",
       "448085                   0                           0                      0   \n",
       "448086                   0                           0                      0   \n",
       "448087                   0                           0                      0   \n",
       "...                    ...                         ...                    ...   \n",
       "332252                   0                           0                      0   \n",
       "332253                   0                           0                      0   \n",
       "332254                   0                           0                      0   \n",
       "166036                   0                           0                      0   \n",
       "0                        0                           0                      0   \n",
       "\n",
       "        pageMainCat_lekcja  pageMainCat_lesson/preview  pageMainCat_o-portalu  \\\n",
       "354859                   0                           0                      0   \n",
       "257997                   0                           0                      0   \n",
       "448085                   0                           0                      0   \n",
       "448086                   0                           0                      0   \n",
       "448087                   0                           0                      0   \n",
       "...                    ...                         ...                    ...   \n",
       "332252                   1                           0                      0   \n",
       "332253                   1                           0                      0   \n",
       "332254                   1                           0                      0   \n",
       "166036                   1                           0                      0   \n",
       "0                        1                           0                      0   \n",
       "\n",
       "        pageMainCat_quiz  pageMainCat_sprawdz-sie  pageMainCat_szukaj  week  \\\n",
       "354859                 1                        0                   0    34   \n",
       "257997                 1                        0                   0    33   \n",
       "448085                 1                        0                   0    34   \n",
       "448086                 1                        0                   0    34   \n",
       "448087                 1                        0                   0    34   \n",
       "...                  ...                      ...                 ...   ...   \n",
       "332252                 0                        0                   0    33   \n",
       "332253                 0                        0                   0    33   \n",
       "332254                 0                        0                   0    33   \n",
       "166036                 0                        0                   0    32   \n",
       "0                      0                        0                   0    31   \n",
       "\n",
       "        client_id_code  \n",
       "354859               0  \n",
       "257997               0  \n",
       "448085               0  \n",
       "448086               0  \n",
       "448087               0  \n",
       "...                ...  \n",
       "332252               1  \n",
       "332253               1  \n",
       "332254               1  \n",
       "166036               1  \n",
       "0                    1  \n",
       "\n",
       "[466822 rows x 14 columns]"
      ]
     },
     "execution_count": 40,
     "metadata": {},
     "output_type": "execute_result"
    }
   ],
   "source": [
    "df_onehot"
   ]
  },
  {
   "cell_type": "code",
   "execution_count": 41,
   "metadata": {},
   "outputs": [],
   "source": [
    "X = np.asarray(df_onehot.iloc[:, :-1].values )\n",
    "Y = np.asarray(df_onehot.iloc[:, -1].values)"
   ]
  },
  {
   "cell_type": "code",
   "execution_count": 42,
   "metadata": {},
   "outputs": [],
   "source": [
    "X_train, X_test, y_train, y_test = train_test_split(X, Y, test_size=0.33, shuffle= True)"
   ]
  },
  {
   "cell_type": "code",
   "execution_count": 43,
   "metadata": {},
   "outputs": [
    {
     "name": "stdout",
     "output_type": "stream",
     "text": [
      "Score:  0.2434951189026382\n",
      "Weights:  [ 1.26211385e-01 -7.93264046e+09 -2.44194435e+10 -8.55416263e+09\n",
      "  3.11090397e+10  1.52437588e+10  3.90416801e+10 -1.64868031e+10\n",
      " -3.23520840e+10  7.31111829e+09  2.31763992e+10 -6.21522167e+08\n",
      "  3.58090320e-03]\n"
     ]
    }
   ],
   "source": [
    "lineReg = LinearRegression()\n",
    "lineReg.fit(X_train, y_train)\n",
    "print('Score: ', lineReg.score(X_test, y_test))\n",
    "print('Weights: ', lineReg.coef_)"
   ]
  },
  {
   "cell_type": "code",
   "execution_count": 44,
   "metadata": {},
   "outputs": [
    {
     "data": {
      "image/png": "[encoded data removed]",
      "text/plain": [
       "<Figure size 432x288 with 1 Axes>"
      ]
     },
     "metadata": {
      "needs_background": "light"
     },
     "output_type": "display_data"
    }
   ],
   "source": [
    "plt.plot(lineReg.predict(X_test))\n",
    "plt.plot(y_test)\n",
    "plt.show()"
   ]
  },
  {
   "cell_type": "markdown",
   "metadata": {},
   "source": [
    "A better alternative is to use ridge regression."
   ]
  },
  {
   "cell_type": "code",
   "execution_count": 45,
   "metadata": {},
   "outputs": [
    {
     "name": "stdout",
     "output_type": "stream",
     "text": [
      "Score:  0.2435036990516716\n",
      "Weights:  [ 0.12407255  0.00659163  0.05635462 -0.2107165   0.07358752 -0.04039503\n",
      "  0.22890144 -0.1973376   0.44298108 -0.23183088  0.07198388 -0.19352858\n",
      "  0.00357989]\n"
     ]
    },
    {
     "data": {
      "image/png": "[encoded data removed]",
      "text/plain": [
       "<Figure size 432x288 with 1 Axes>"
      ]
     },
     "metadata": {
      "needs_background": "light"
     },
     "output_type": "display_data"
    }
   ],
   "source": [
    "from sklearn import linear_model\n",
    "reg = linear_model.Ridge (alpha = .5)\n",
    "reg.fit(X_train, y_train)\n",
    "print('Score: ', reg.score(X_test, y_test))\n",
    "print('Weights: ', reg.coef_)\n",
    "\n",
    "plt.plot(reg.predict(X_test))\n",
    "plt.plot(y_test)\n",
    "plt.show()"
   ]
  },
  {
   "cell_type": "code",
   "execution_count": null,
   "metadata": {},
   "outputs": [],
   "source": []
  }
 ],
 "metadata": {
  "kernelspec": {
   "display_name": "Python 3",
   "language": "python",
   "name": "python3"
  },
  "language_info": {
   "codemirror_mode": {
    "name": "ipython",
    "version": 3
   },
   "file_extension": ".py",
   "mimetype": "text/x-python",
   "name": "python",
   "nbconvert_exporter": "python",
   "pygments_lexer": "ipython3",
   "version": "3.7.4"
  }
 },
 "nbformat": 4,
 "nbformat_minor": 2
}
